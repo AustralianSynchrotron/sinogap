{
 "cells": [
  {
   "cell_type": "markdown",
   "metadata": {},
   "source": [
    "## <font style=\"color:lightblue\">Header</font>"
   ]
  },
  {
   "cell_type": "markdown",
   "metadata": {},
   "source": [
    "### <font style=\"color:lightblue\">Imports</font>"
   ]
  },
  {
   "cell_type": "code",
   "execution_count": null,
   "metadata": {},
   "outputs": [],
   "source": [
    "#%load_ext autoreload\n",
    "#%autoreload 2\n",
    "\n",
    "import math\n",
    "import numpy as np\n",
    "import torch\n",
    "import torch.nn as nn\n",
    "from torchinfo import summary\n",
    "import itertools\n",
    "import random\n",
    "\n",
    "import sinogap_module_alt as sg\n",
    "\n",
    "\n"
   ]
  },
  {
   "cell_type": "markdown",
   "metadata": {},
   "source": [
    "### <font style=\"color:lightblue\">Redefine</font>"
   ]
  },
  {
   "cell_type": "code",
   "execution_count": 2,
   "metadata": {},
   "outputs": [],
   "source": [
    "sg.plt.rcParams['figure.dpi']=223\n",
    "\n",
    "\n"
   ]
  },
  {
   "cell_type": "markdown",
   "metadata": {},
   "source": [
    "### <font style=\"color:lightblue\">Configs</font>"
   ]
  },
  {
   "cell_type": "code",
   "execution_count": 16,
   "metadata": {},
   "outputs": [],
   "source": [
    "sg.set_seed(7)\n",
    "\n",
    "sg.TCfg = sg.TCfgClass(\n",
    "     exec = 3\n",
    "    ,nofEpochs = None\n",
    "    ,latentDim = 64\n",
    "    ,batchSize = 64    #16384 #32768\n",
    "    ,batchSplit = 4\n",
    "    ,labelSmoothFac = 0.1 # For Fake labels (or set to 0.0 for no smoothing).\n",
    "    ,learningRateD = 0.000005\n",
    "    ,learningRateG = 0.000005\n",
    ")\n",
    "\n",
    "sg.DCfg = sg.DCfgClass(16)\n",
    "\n",
    "#torch.cuda.memory._record_memory_history(device=sg.TCfg.device)\n",
    "#torch.cuda.memory._dump_snapshot(\"/data/anton/sinogap/cudaOOM.pickle\")\n",
    "#torch.cuda.memory._record_memory_history(enabled=None)\n"
   ]
  },
  {
   "cell_type": "markdown",
   "metadata": {},
   "source": [
    "### <font style=\"color:lightblue\">Raw Read</font>"
   ]
  },
  {
   "cell_type": "code",
   "execution_count": null,
   "metadata": {},
   "outputs": [],
   "source": [
    "trainSet = sg.createTrainSet()\n",
    "testSet = sg.createTestSet()"
   ]
  },
  {
   "cell_type": "markdown",
   "metadata": {},
   "source": [
    "### <font style=\"color:lightblue\">Show</font>"
   ]
  },
  {
   "cell_type": "code",
   "execution_count": null,
   "metadata": {},
   "outputs": [],
   "source": [
    "sg.refImages, sg.refNoises = sg.createReferences(testSet, 0)\n",
    "sg.showMe(testSet, 0 )"
   ]
  },
  {
   "cell_type": "markdown",
   "metadata": {
    "notebookRunGroups": {
     "groupValue": "2"
    }
   },
   "source": [
    "## <font style=\"color:lightblue\">Models</font>"
   ]
  },
  {
   "cell_type": "markdown",
   "metadata": {},
   "source": [
    "### <font style=\"color:lightblue\">Generator</font>"
   ]
  },
  {
   "cell_type": "code",
   "execution_count": null,
   "metadata": {},
   "outputs": [],
   "source": [
    "\n",
    "\n",
    "class Generator16(sg.GeneratorTemplate):\n",
    "\n",
    "    def __init__(self):\n",
    "        super(Generator16, self).__init__(16,1)\n",
    "\n",
    "        self.noise2latent = self.createLatent()\n",
    "\n",
    "        self.encoders =  nn.ModuleList([\n",
    "            self.encblock( (1+self.latentChannels)/self.baseChannels,\n",
    "                               1, 3, norm=False),\n",
    "            self.encblock( 1,  1, 3, dopadding=True),\n",
    "            self.encblock( 1,  2, 3, stride=2),\n",
    "            self.encblock( 2,  2, 3, dopadding=True),\n",
    "            self.encblock( 2,  4, 3, stride=2),\n",
    "            self.encblock( 4,  4, 3, dopadding=True),\n",
    "            self.encblock( 4,  8, 3, stride=2),\n",
    "            self.encblock( 8,  8, 3, dopadding=True),\n",
    "            self.encblock( 8, 16, 3, stride=2),\n",
    "            self.encblock(16, 16, 3, dopadding=True),\n",
    "            ])\n",
    "\n",
    "        self.fcLink = self.createFClink()\n",
    "\n",
    "        self.decoders = nn.ModuleList([\n",
    "            self.decblock(32, 16, 3, dopadding=True),\n",
    "            self.decblock(32,  8, 4, stride=2),\n",
    "            self.decblock(16,  8, 3, dopadding=True),\n",
    "            self.decblock(16,  4, 4, stride=2),\n",
    "            self.decblock( 8,  4, 3, dopadding=True),\n",
    "            self.decblock( 8,  2, 4, stride=2),\n",
    "            self.decblock( 4,  2, 3, dopadding=True),\n",
    "            self.decblock( 4,  1, 4, stride=2),\n",
    "            self.decblock( 2,  1, 3, dopadding=True),\n",
    "            self.decblock( 2,  1, 3, norm=False),\n",
    "            ])\n",
    "\n",
    "        self.lastTouch = self.createLastTouch()\n",
    "\n",
    "\n",
    "sg.generator = Generator16()\n",
    "sg.generator.to(sg.TCfg.device)\n",
    "model_summary = summary(sg.generator, input_data=[ [sg.refImages[[0],...], sg.refNoises[[0],...]] ] ).__str__()\n",
    "print(model_summary)\n",
    "\n",
    "sg.optimizer_G = sg.createOptimizer(sg.generator, sg.TCfg.learningRateG)\n",
    "\n",
    "\n",
    "\n"
   ]
  },
  {
   "cell_type": "markdown",
   "metadata": {},
   "source": [
    "### <font style=\"color:lightblue\">Discriminator</font>"
   ]
  },
  {
   "cell_type": "code",
   "execution_count": null,
   "metadata": {},
   "outputs": [],
   "source": [
    "\n",
    "\n",
    "class Discriminator(sg.DiscriminatorTemplate):\n",
    "    def __init__(self):\n",
    "        super(Discriminator, self).__init__(0)\n",
    "        self.body =  nn.Sequential(\n",
    "            self.encblock( 1/self.baseChannels,\n",
    "                               1, 3, norm=False),\n",
    "            self.encblock( 1,  1, 3, dopadding=True),\n",
    "            self.encblock( 1,  2, 3, stride=2),\n",
    "            self.encblock( 2,  2, 3, dopadding=True),\n",
    "            self.encblock( 2,  4, 3, stride=2),\n",
    "            self.encblock( 4,  4, 3, dopadding=True),\n",
    "            self.encblock( 4,  8, 3, stride=2),\n",
    "            self.encblock( 8,  8, 3, dopadding=True),\n",
    "            self.encblock( 8, 16, 3, stride=2),\n",
    "            self.encblock(16, 16, 3, dopadding=True),\n",
    "            )\n",
    "        self.head = self.createHead()\n",
    "\n",
    "\n",
    "\n",
    "\n",
    "sg.discriminator = Discriminator()\n",
    "sg.discriminator = sg.discriminator.to(sg.TCfg.device)\n",
    "model_summary = summary(sg.discriminator, input_data=sg.refImages[0,...] ).__str__()\n",
    "print(model_summary)\n",
    "#sg.writer.add_graph(sg.discriminator, refImages)\n",
    "\n",
    "sg.optimizer_D = sg.createOptimizer(sg.discriminator, sg.TCfg.learningRateD)\n",
    "\n"
   ]
  },
  {
   "cell_type": "markdown",
   "metadata": {},
   "source": [
    "## <font style=\"color:lightblue\">Restore checkpoint</font>"
   ]
  },
  {
   "cell_type": "code",
   "execution_count": null,
   "metadata": {},
   "outputs": [],
   "source": [
    "savedCheckPoint = f\"checkPoint_{sg.TCfg.exec}\"\n",
    "sg.epoch, sg.iter, sg.minGEpoch, sg.minGdLoss, sg.startFrom, sg.resAcc = \\\n",
    "    sg.restoreCheckpoint(savedCheckPoint+\"_hourly.pth\")\n",
    "sg.writer = sg.createWriter(sg.TCfg.logDir, True)\n",
    "sg.writer.add_graph(sg.generator, ((sg.refImages, sg.refNoises),) )\n",
    "#sg.optimizer_G = sg.createOptimizer(sg.generator, sg.TCfg.learningRateG/4)\n",
    "#sg.optimizer_D = sg.createOptimizer(sg.discriminator, sg.TCfg.learningRateD/4)\n",
    "#sg.writer.add_graph(sg.discriminator, refImages)\n",
    "sg.initialTest()"
   ]
  },
  {
   "cell_type": "markdown",
   "metadata": {},
   "source": [
    "## <font style=\"color:lightblue\">Execute</font>"
   ]
  },
  {
   "cell_type": "code",
   "execution_count": null,
   "metadata": {},
   "outputs": [],
   "source": [
    "sg.freeGPUmem()\n",
    "sg.scheduler_G = None\n",
    "sg.scheduler_D = None\n",
    "#sg.scheduler_G = torch.optim.lr_scheduler.StepLR(sg.optimizer_G, 1, gamma=0.999)\n",
    "#sg.scheduler_D = torch.optim.lr_scheduler.StepLR(sg.optimizer_D, 1, gamma=0.999)\n",
    "\n",
    "sg.dataLoader = sg.createDataLoader(trainSet, num_workers=0)\n",
    "sg.testLoader = sg.createDataLoader(testSet , num_workers=0)\n",
    "sg.normRec, sg.normMSE, sg.normL1L = 6.601e-03, 6.601e-03, 2.062e-02\n",
    "sg.normTestRec, sg.normTestMSE, sg.normTestL1L = 1.370e-03, 1.370e-03, 1.371e-02\n",
    "if sg.epoch == 0 :\n",
    "    if sg.normRec == 1:\n",
    "        sg.normRec, sg.normMSE, sg.normL1L, _ , _ =  sg.summarizeSet(sg.dataLoader)\n",
    "        sg.normTestRec, sg.normTestMSE, sg.normTestL1L, _ , _ = sg.summarizeSet(sg.testLoader)\n",
    "    #sg.minGdLoss = sg.normTestRec\n",
    "    #with torch.no_grad(): sg.generator.amplitude[()] = -math.log(1+2/sg.normMSE)\n",
    "#torch.autograd.set_detect_anomaly(True)\n",
    "\n",
    "\n",
    "sg.lossDifCoef = 512\n",
    "sg.noAdv = False\n",
    "sg.lossAdvCoef = 1.0\n",
    "\n",
    "def my_beforeReport() :\n",
    "    return\n",
    "    sg.lossDifCoef = max(512, sg.lossDifCoef * 0.999)\n",
    "    print(f\"Loss coefficient: {sg.lossDifCoef}\")\n",
    "    with open(f\"inrun_{sg.TCfg.exec}.txt\", 'a') as file:\n",
    "        file.write(f\"Epoch {sg.epoch}, Iter {sg.iter}, lossDifCoef: {sg.lossDifCoef}.\\n\")\n",
    "sg.beforeReport = my_beforeReport\n",
    "\n",
    "try :\n",
    "    sg.train(savedCheckPoint)\n",
    "except :\n",
    "    del sg.dataLoader\n",
    "    del sg.testLoader\n",
    "    sg.freeGPUmem()\n",
    "    1/10 # to release Jupyuter memory in the next step\n",
    "    print(sg.normRec, sg.normMSE, sg.normL1L)\n",
    "    print(sg.normTestRec, sg.normTestMSE, sg.normTestL1L)\n",
    "    sg.epoch -= 1\n",
    "    raise\n",
    "\n"
   ]
  },
  {
   "cell_type": "markdown",
   "metadata": {},
   "source": [
    "## <font style=\"color:lightblue\">Post</font>"
   ]
  },
  {
   "cell_type": "code",
   "execution_count": null,
   "metadata": {},
   "outputs": [],
   "source": [
    "sg.initialTest()\n"
   ]
  },
  {
   "cell_type": "code",
   "execution_count": null,
   "metadata": {},
   "outputs": [],
   "source": [
    "sg.testMe(trainSet, 5)"
   ]
  },
  {
   "cell_type": "markdown",
   "metadata": {},
   "source": [
    "### <font style=\"color:lightblue\">Save results</font>"
   ]
  },
  {
   "cell_type": "code",
   "execution_count": null,
   "metadata": {},
   "outputs": [],
   "source": [
    "sg.saveModels()"
   ]
  },
  {
   "cell_type": "code",
   "execution_count": null,
   "metadata": {},
   "outputs": [],
   "source": []
  }
 ],
 "metadata": {
  "kernelspec": {
   "display_name": "pyenv",
   "language": "python",
   "name": "python3"
  },
  "language_info": {
   "codemirror_mode": {
    "name": "ipython",
    "version": 3
   },
   "file_extension": ".py",
   "mimetype": "text/x-python",
   "name": "python",
   "nbconvert_exporter": "python",
   "pygments_lexer": "ipython3",
   "version": "3.12.3"
  }
 },
 "nbformat": 4,
 "nbformat_minor": 2
}
