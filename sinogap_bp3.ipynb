{
 "cells": [
  {
   "cell_type": "markdown",
   "metadata": {},
   "source": [
    "## <font style=\"color:lightblue\">Header</font>"
   ]
  },
  {
   "cell_type": "markdown",
   "metadata": {},
   "source": [
    "### <font style=\"color:lightblue\">Imports</font>"
   ]
  },
  {
   "cell_type": "code",
   "execution_count": 1,
   "metadata": {},
   "outputs": [],
   "source": [
    "#%load_ext autoreload\n",
    "#%autoreload 2\n",
    "\n",
    "import math\n",
    "import numpy as np\n",
    "import torch\n",
    "import torch.nn as nn\n",
    "from torchinfo import summary\n",
    "import itertools\n",
    "\n",
    "\n",
    "import sinogap_module as sg\n",
    "\n",
    "\n"
   ]
  },
  {
   "cell_type": "markdown",
   "metadata": {},
   "source": [
    "### <font style=\"color:lightblue\">Redefine</font>"
   ]
  },
  {
   "cell_type": "code",
   "execution_count": 2,
   "metadata": {},
   "outputs": [],
   "source": [
    "sg.plt.rcParams['figure.dpi']=223\n",
    "\n",
    "\n"
   ]
  },
  {
   "cell_type": "markdown",
   "metadata": {},
   "source": [
    "### <font style=\"color:lightblue\">Configs</font>"
   ]
  },
  {
   "cell_type": "code",
   "execution_count": 3,
   "metadata": {},
   "outputs": [],
   "source": [
    "sg.set_seed(7)\n",
    "\n",
    "sg.TCfg = sg.TCfgClass(\n",
    "     exec = 3\n",
    "    ,nofEpochs = 2048\n",
    "    ,latentDim = 64\n",
    "    ,batchSize = 24576 #16384 #32768\n",
    "    ,labelSmoothFac = 0.1 # For Fake labels (or set to 0.0 for no smoothing).\n",
    "    ,learningRateD = 0.0002\n",
    "    ,learningRateG = 0.0002\n",
    ")\n",
    "\n",
    "sg.DCfg = sg.DCfgClass(2)\n"
   ]
  },
  {
   "cell_type": "code",
   "execution_count": 4,
   "metadata": {},
   "outputs": [
    {
     "name": "stdout",
     "output_type": "stream",
     "text": [
      "DCfgClass(gapW=2, sinoSh=(10, 10), readSh=(80, 80), sinoSize=100, gapSh=(10, 2), gapSize=20, gapRngX=slice(4, 6, None), gapRng=(Ellipsis, slice(4, 6, None)), disRng=(slice(2, -2, None), slice(4, 6, None)))\n"
     ]
    }
   ],
   "source": [
    "print(sg.DCfg)"
   ]
  },
  {
   "cell_type": "markdown",
   "metadata": {},
   "source": [
    "### <font style=\"color:lightblue\">Raw Read</font>"
   ]
  },
  {
   "cell_type": "code",
   "execution_count": 5,
   "metadata": {},
   "outputs": [
    {
     "name": "stdout",
     "output_type": "stream",
     "text": [
      "Loaded set 4176862R_Eig_Threshold-4keV\n",
      "Loaded set 18515.Lamb1_Eiger_7m_45keV_360Scan\n",
      "Loaded set 23574.8965435L.Eiger.32kev_org\n",
      "Loaded set 23574.8965435L.Eiger.32kev_sft\n"
     ]
    }
   ],
   "source": [
    "trainSet = sg.createTrainSet()\n",
    "prepGdLoss=0"
   ]
  },
  {
   "cell_type": "markdown",
   "metadata": {},
   "source": [
    "### <font style=\"color:lightblue\">Show</font>"
   ]
  },
  {
   "cell_type": "code",
   "execution_count": 6,
   "metadata": {},
   "outputs": [
    {
     "name": "stdout",
     "output_type": "stream",
     "text": [
      "2.495e-01, 9.086e-02, 3.709e-02, 4.053e-01\n"
     ]
    },
    {
     "data": {
      "image/png": "[encoded data removed]",
      "text/plain": [
       "<Figure size 1427.2x1070.4 with 1 Axes>"
      ]
     },
     "metadata": {},
     "output_type": "display_data"
    }
   ],
   "source": [
    "\n",
    "sg.refImages, sg.refNoises = sg.createReferences(trainSet, 7)\n",
    "sg.showMe(trainSet, 0)\n"
   ]
  },
  {
   "cell_type": "code",
   "execution_count": null,
   "metadata": {},
   "outputs": [],
   "source": []
  },
  {
   "cell_type": "markdown",
   "metadata": {
    "notebookRunGroups": {
     "groupValue": "2"
    }
   },
   "source": [
    "## <font style=\"color:lightblue\">Models</font>"
   ]
  },
  {
   "cell_type": "markdown",
   "metadata": {},
   "source": [
    "### <font style=\"color:lightblue\">Generator</font>"
   ]
  },
  {
   "cell_type": "code",
   "execution_count": 7,
   "metadata": {},
   "outputs": [
    {
     "name": "stdout",
     "output_type": "stream",
     "text": [
      "==========================================================================================\n",
      "Layer (type:depth-idx)                   Output Shape              Param #\n",
      "==========================================================================================\n",
      "Generator                                [1, 1, 10, 2]             --\n",
      "├─Sequential: 1-1                        [1, 7, 10, 10]            --\n",
      "│    └─Linear: 2-1                       [1, 700]                  45,500\n",
      "│    └─ReLU: 2-2                         [1, 700]                  --\n",
      "│    └─Unflatten: 2-3                    [1, 7, 10, 10]            --\n",
      "├─ModuleList: 1-2                        --                        --\n",
      "│    └─Sequential: 2-4                   [1, 64, 8, 8]             --\n",
      "│    │    └─Conv2d: 3-1                  [1, 64, 8, 8]             4,672\n",
      "│    │    └─LeakyReLU: 3-2               [1, 64, 8, 8]             --\n",
      "│    └─Sequential: 2-5                   [1, 64, 6, 6]             --\n",
      "│    │    └─Conv2d: 3-3                  [1, 64, 6, 6]             36,928\n",
      "│    │    └─BatchNorm2d: 3-4             [1, 64, 6, 6]             128\n",
      "│    │    └─LeakyReLU: 3-5               [1, 64, 6, 6]             --\n",
      "│    └─Sequential: 2-6                   [1, 64, 4, 4]             --\n",
      "│    │    └─Conv2d: 3-6                  [1, 64, 4, 4]             36,928\n",
      "│    │    └─BatchNorm2d: 3-7             [1, 64, 4, 4]             128\n",
      "│    │    └─LeakyReLU: 3-8               [1, 64, 4, 4]             --\n",
      "├─Sequential: 1-3                        [1, 64, 4, 4]             --\n",
      "│    └─Flatten: 2-7                      [1, 1024]                 --\n",
      "│    └─Linear: 2-8                       [1, 1024]                 1,049,600\n",
      "│    └─LeakyReLU: 2-9                    [1, 1024]                 --\n",
      "│    └─Linear: 2-10                      [1, 1024]                 1,049,600\n",
      "│    └─LeakyReLU: 2-11                   [1, 1024]                 --\n",
      "│    └─Unflatten: 2-12                   [1, 64, 4, 4]             --\n",
      "├─ModuleList: 1-4                        --                        --\n",
      "│    └─Sequential: 2-13                  [1, 64, 6, 6]             --\n",
      "│    │    └─ConvTranspose2d: 3-9         [1, 64, 6, 6]             73,792\n",
      "│    │    └─BatchNorm2d: 3-10            [1, 64, 6, 6]             128\n",
      "│    │    └─LeakyReLU: 3-11              [1, 64, 6, 6]             --\n",
      "│    └─Sequential: 2-14                  [1, 64, 8, 8]             --\n",
      "│    │    └─ConvTranspose2d: 3-12        [1, 64, 8, 8]             73,792\n",
      "│    │    └─BatchNorm2d: 3-13            [1, 64, 8, 8]             128\n",
      "│    │    └─LeakyReLU: 3-14              [1, 64, 8, 8]             --\n",
      "│    └─Sequential: 2-15                  [1, 64, 10, 10]           --\n",
      "│    │    └─ConvTranspose2d: 3-15        [1, 64, 10, 10]           73,792\n",
      "│    │    └─LeakyReLU: 3-16              [1, 64, 10, 10]           --\n",
      "├─Sequential: 1-5                        [1, 1, 10, 10]            --\n",
      "│    └─Conv2d: 2-16                      [1, 1, 10, 10]            65\n",
      "│    └─Tanh: 2-17                        [1, 1, 10, 10]            --\n",
      "==========================================================================================\n",
      "Total params: 2,445,181\n",
      "Trainable params: 2,445,181\n",
      "Non-trainable params: 0\n",
      "Total mult-adds (Units.MEGABYTES): 19.13\n",
      "==========================================================================================\n",
      "Input size (MB): 0.00\n",
      "Forward/backward pass size (MB): 0.26\n",
      "Params size (MB): 9.78\n",
      "Estimated Total Size (MB): 10.04\n",
      "==========================================================================================\n"
     ]
    }
   ],
   "source": [
    "\n",
    "\n",
    "class Generator(sg.GeneratorTemplate):\n",
    "\n",
    "    def __init__(self):\n",
    "        super(Generator, self).__init__(2)\n",
    "\n",
    "        latentChannels = 7\n",
    "        self.noise2latent = nn.Sequential(\n",
    "            nn.Linear(sg.TCfg.latentDim, self.sinoSize*latentChannels),\n",
    "            nn.ReLU(),\n",
    "            nn.Unflatten( 1, (latentChannels,) + self.sinoSh )\n",
    "        )\n",
    "\n",
    "        baseChannels = 64\n",
    "\n",
    "        def encblock(chIn, chOut, kernel, stride=1, norm=True) :\n",
    "            layers = []\n",
    "            layers.append(nn.Conv2d(chIn, chOut, kernel, stride=stride, bias=True))\n",
    "            if norm :\n",
    "                layers.append(nn.BatchNorm2d(chOut))\n",
    "            layers.append(nn.LeakyReLU(0.2))\n",
    "            sg.fillWheights(layers)\n",
    "            return torch.nn.Sequential(*layers)\n",
    "        self.encoders =  nn.ModuleList([\n",
    "            encblock(  latentChannels+1, baseChannels, 3, norm=False),\n",
    "            encblock(  baseChannels,     baseChannels, 3),\n",
    "            encblock(  baseChannels,     baseChannels, 3),\n",
    "            ])\n",
    "\n",
    "        smpl = torch.zeros((1,latentChannels+1,*self.sinoSh))\n",
    "        for encoder in self.encoders :\n",
    "            smpl = encoder(smpl)\n",
    "        encSh = smpl.shape\n",
    "        linChannels = math.prod(encSh)\n",
    "        self.fcLink = nn.Sequential(\n",
    "            nn.Flatten(),\n",
    "            nn.Linear(linChannels, linChannels),\n",
    "            nn.LeakyReLU(0.2),\n",
    "            nn.Linear(linChannels, linChannels),\n",
    "            nn.LeakyReLU(0.2),\n",
    "            nn.Unflatten(1, encSh[1:]),\n",
    "        )\n",
    "        sg.fillWheights(self.fcLink)\n",
    "\n",
    "        def decblock(chIn, chOut, kernel, stride=1, norm=True) :\n",
    "            layers = []\n",
    "            layers.append(nn.ConvTranspose2d(chIn, chOut, kernel, stride, bias=True))\n",
    "            if norm :\n",
    "                layers.append(nn.BatchNorm2d(chOut))\n",
    "            layers.append(nn.LeakyReLU(0.2))\n",
    "            sg.fillWheights(layers)\n",
    "            return torch.nn.Sequential(*layers)\n",
    "        self.decoders = nn.ModuleList([\n",
    "            decblock(2*baseChannels, baseChannels, 3),\n",
    "            decblock(2*baseChannels, baseChannels, 3),\n",
    "            decblock(2*baseChannels, baseChannels, 3, norm=False),\n",
    "            ])\n",
    "\n",
    "        self.lastTouch = nn.Sequential(\n",
    "            nn.Conv2d(baseChannels, 1, 1),\n",
    "            nn.Tanh(),\n",
    "        )\n",
    "        sg.fillWheights(self.lastTouch)\n",
    "\n",
    "\n",
    "    def forward(self, input):\n",
    "\n",
    "        images, noises = input\n",
    "        images, orgDims = sg.unsqeeze4dim(images)\n",
    "        modelIn = images.clone()\n",
    "        modelIn[self.gapRng] = self.preProc(images)\n",
    "\n",
    "        minv = modelIn.min(dim=-1).values.min(dim=-1).values\n",
    "        ampl = modelIn.max(dim=-1).values.max(dim=-1).values - minv\n",
    "        minv = minv[:,:,None,None]\n",
    "        ampl = ampl[:,:,None,None]\n",
    "        iampl = torch.where(ampl==0, 0, 2/ampl)\n",
    "        modelIn = ( modelIn - minv ) * iampl - 1 # stretch\n",
    "\n",
    "        latent = self.noise2latent(noises)\n",
    "        modelIn = torch.cat((modelIn,latent),dim=1).to(sg.TCfg.device)\n",
    "        dwTrain = [modelIn,]\n",
    "        for encoder in self.encoders :\n",
    "            dwTrain.append(encoder(dwTrain[-1]))\n",
    "        mid = self.fcLink(dwTrain[-1])\n",
    "        upTrain = [mid]\n",
    "        for level, decoder in enumerate(self.decoders) :\n",
    "            upTrain.append( decoder( torch.cat( (upTrain[-1], dwTrain[-1-level]), dim=1 ) ) )\n",
    "        res = self.lastTouch(upTrain[-1])\n",
    "\n",
    "        patches = ( 2*res[self.gapRng] + modelIn[:,[0],:, self.gapRngX] + 1 ) * ampl / 2 + minv #destretch\n",
    "        return sg.squeezeOrg(patches, orgDims)\n",
    "\n",
    "\n",
    "sg.generator = Generator()\n",
    "sg.generator.to(sg.TCfg.device)\n",
    "model_summary = summary(sg.generator, input_data=[ [sg.refImages[[0],...], sg.refNoises[[0],...]] ] ).__str__()\n",
    "print(model_summary)\n",
    "#sg.writer.add_graph(sg.generator, ((sg.refImages, sg.refNoises),) )\n",
    "\n",
    "\n"
   ]
  },
  {
   "cell_type": "markdown",
   "metadata": {},
   "source": [
    "### <font style=\"color:lightblue\">Discriminator</font>"
   ]
  },
  {
   "cell_type": "code",
   "execution_count": 8,
   "metadata": {},
   "outputs": [],
   "source": [
    "\n",
    "class Discriminator(sg.DiscriminatorTemplate):\n",
    "\n",
    "    def __init__(self):\n",
    "        super(Discriminator, self).__init__()\n",
    "        baseChannels = 64\n",
    "\n",
    "        def encblock(chIn, chOut, kernel, stride=1, norm=True) :\n",
    "            layers = []\n",
    "            layers.append(nn.Conv2d(chIn, chOut, kernel, stride=stride, bias=True))\n",
    "            if norm :\n",
    "                layers.append(nn.BatchNorm2d(chOut))\n",
    "            layers.append(nn.LeakyReLU(0.2))\n",
    "            return torch.nn.Sequential(*layers)\n",
    "        self.body = nn.Sequential(\n",
    "            encblock(1,            baseChannels, 3, norm=False),\n",
    "            encblock(baseChannels, baseChannels, 3),\n",
    "            encblock(baseChannels, baseChannels, 3),\n",
    "        )\n",
    "        sg.fillWheights(self.body)\n",
    "\n",
    "        encSh = self.body(torch.zeros((1,1,*sg.DCfg.sinoSh))).shape\n",
    "        linChannels = math.prod(encSh)\n",
    "        self.head = nn.Sequential(\n",
    "            nn.Flatten(),\n",
    "            nn.Linear(linChannels, baseChannels*2),\n",
    "            nn.LeakyReLU(0.2),\n",
    "            nn.Linear(baseChannels*2, 1),\n",
    "            nn.Sigmoid()\n",
    "        )\n",
    "        sg.fillWheights(self.head)\n",
    "\n",
    "\n",
    "sg.discriminator = Discriminator()\n",
    "sg.discriminator = sg.discriminator.to(sg.TCfg.device)\n",
    "model_summary = summary(sg.discriminator, input_data=sg.refImages[0,...] ).__str__()\n",
    "#print(model_summary)\n",
    "#sg.writer.add_graph(sg.discriminator, refImages)\n",
    "\n"
   ]
  },
  {
   "cell_type": "markdown",
   "metadata": {},
   "source": [
    "### <font style=\"color:lightblue\">Optimizers</font>"
   ]
  },
  {
   "cell_type": "code",
   "execution_count": 9,
   "metadata": {},
   "outputs": [],
   "source": [
    "sg.optimizer_G , sg.optimizer_D = sg.createOptimizers()"
   ]
  },
  {
   "cell_type": "markdown",
   "metadata": {},
   "source": [
    "## <font style=\"color:lightblue\">Restore checkpoint</font>"
   ]
  },
  {
   "cell_type": "code",
   "execution_count": 10,
   "metadata": {},
   "outputs": [
    {
     "name": "stdout",
     "output_type": "stream",
     "text": [
      "Probabilities of reference images: Ref: 6.126e-01, Gen: 6.081e-01, Pre: 6.263e-01.\n",
      "Distances of reference images: REC: 1.578e-02, MSE: 1.578e-02, L1L: 8.067e-02.\n"
     ]
    },
    {
     "name": "stderr",
     "output_type": "stream",
     "text": [
      "/home/user/usr/src/sinogap/sinogap_module.py:273: FutureWarning: You are using `torch.load` with `weights_only=False` (the current default value), which uses the default pickle module implicitly. It is possible to construct malicious pickle data which will execute arbitrary code during unpickling (See https://github.com/pytorch/pytorch/blob/main/SECURITY.md#untrusted-models for more details). In a future release, the default value for `weights_only` will be flipped to `True`. This limits the functions that could be executed during unpickling. Arbitrary objects will no longer be allowed to be loaded via this mode unless they are explicitly allowlisted by the user via `torch.serialization.add_safe_globals`. We recommend you start setting `weights_only=True` for any use case where you don't have full control of the loaded file. Please open an issue on GitHub for any issues related to this experimental feature.\n",
      "  checkPoint = torch.load(path, map_location=TCfg.device)\n"
     ]
    },
    {
     "data": {
      "image/png": "[encoded data removed]",
      "text/plain": [
       "<Figure size 1427.2x1070.4 with 1 Axes>"
      ]
     },
     "metadata": {},
     "output_type": "display_data"
    }
   ],
   "source": [
    "savedCheckPoint = f\"checkPoint_{sg.TCfg.exec}\"\n",
    "sg.epoch, sg.iter, sg.minGEpoch, sg.minGdLoss = sg.restoreCheckpoint(savedCheckPoint+\".pth\")\n",
    "sg.writer = sg.createWriter(sg.TCfg.logDir, True)\n",
    "#sg.writer.add_graph(sg.generator, ((sg.refImages, sg.refNoises),) )\n",
    "#sg.writer.add_graph(sg.discriminator, refImages)\n",
    "sg.initialTest()"
   ]
  },
  {
   "cell_type": "markdown",
   "metadata": {},
   "source": [
    "## <font style=\"color:lightblue\">Execute</font>"
   ]
  },
  {
   "cell_type": "code",
   "execution_count": null,
   "metadata": {},
   "outputs": [
    {
     "name": "stdout",
     "output_type": "stream",
     "text": [
      "Epoch: 1823 (1822). Losses:  Dis: 0.325 (1.000), Gen: 0.569 (1.000), Rec: 6.879e-05 (6.879e-05 / 6.114e-04).\n",
      "TT: 9.3138e-01 (1284268,546),  FT: 7.3025e-01 (3850942,2167),  HD: 2.424e-02 (5036737,1507),  GP: 0.62067, 0.62121 \n",
      "TF: 8.8567e-01 (5197759,1386),  FF: 4.3418e-01 (3398246,1348),  LD: 5.959e-09 (1498131,957),  R : 0.61713.\n"
     ]
    },
    {
     "data": {
      "image/png": "[encoded data removed]",
      "text/plain": [
       "<Figure size 1427.2x1070.4 with 1 Axes>"
      ]
     },
     "metadata": {},
     "output_type": "display_data"
    },
    {
     "name": "stderr",
     "output_type": "stream",
     "text": [
      "  4%|▍         | 9/213 [00:14<05:10,  1.52s/it]"
     ]
    }
   ],
   "source": [
    "\n",
    "#for item in itertools.chain( sg.optimizer_D.param_groups, sg.optimizer_G.param_groups ):\n",
    "#    item['lr'] *= 0.1\n",
    "trainLoader = sg.createTrainLoader(trainSet, num_workers=4)\n",
    "\n",
    "\n",
    "#torch.autograd.set_detect_anomaly(True)\n",
    "#Summary. Rec: 6.114e-04, MSE: 6.114e-04, L1L: 9.813e-03.\n",
    "sg.prepGdLoss = 6.114e-04\n",
    "if sg.prepGdLoss == 0:\n",
    "    Rec_diff, MSE_diff, L1L_diff = sg.summarizeSet(trainLoader)\n",
    "    sg.prepGdLoss = Rec_diff\n",
    "    sg.writer.add_scalars(\"Distances per epoch\",\n",
    "                          {'MSE0': MSE_diff\n",
    "                          ,'L1L0': L1L_diff\n",
    "                          ,'REC0': Rec_diff\n",
    "                          }, 0 )\n",
    "sg.lossDifCoef = 1000\n",
    "sg.withNoGrad = True\n",
    "\n",
    "try :\n",
    "    sg.train(trainLoader, savedCheckPoint)\n",
    "except :\n",
    "    del trainLoader\n",
    "    sg.freeGPUmem()\n",
    "    1/10 # to release Jupyuter memory in the next step\n",
    "    raise\n",
    "\n",
    "# stretch-add, wide, links, Diff, 3Layers, eval/train, nograd, double patches, double FC"
   ]
  },
  {
   "cell_type": "markdown",
   "metadata": {},
   "source": [
    "## <font style=\"color:lightblue\">Post</font>"
   ]
  },
  {
   "cell_type": "code",
   "execution_count": null,
   "metadata": {},
   "outputs": [],
   "source": [
    "sg.testMe(trainSet, 5)"
   ]
  },
  {
   "cell_type": "markdown",
   "metadata": {},
   "source": [
    "### <font style=\"color:lightblue\">Save results</font>"
   ]
  },
  {
   "cell_type": "code",
   "execution_count": null,
   "metadata": {},
   "outputs": [],
   "source": [
    "sg.saveModels()"
   ]
  },
  {
   "cell_type": "code",
   "execution_count": null,
   "metadata": {},
   "outputs": [],
   "source": []
  }
 ],
 "metadata": {
  "kernelspec": {
   "display_name": "pyenv",
   "language": "python",
   "name": "python3"
  },
  "language_info": {
   "codemirror_mode": {
    "name": "ipython",
    "version": 3
   },
   "file_extension": ".py",
   "mimetype": "text/x-python",
   "name": "python",
   "nbconvert_exporter": "python",
   "pygments_lexer": "ipython3",
   "version": "3.12.3"
  }
 },
 "nbformat": 4,
 "nbformat_minor": 2
}
