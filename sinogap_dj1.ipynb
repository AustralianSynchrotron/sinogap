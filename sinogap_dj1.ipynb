{
 "cells": [
  {
   "cell_type": "markdown",
   "metadata": {},
   "source": [
    "## <font style=\"color:lightblue\">Header</font>"
   ]
  },
  {
   "cell_type": "markdown",
   "metadata": {},
   "source": [
    "### <font style=\"color:lightblue\">Imports</font>"
   ]
  },
  {
   "cell_type": "code",
   "execution_count": 1,
   "metadata": {},
   "outputs": [],
   "source": [
    "#%load_ext autoreload\n",
    "#%autoreload 2\n",
    "\n",
    "import math\n",
    "import numpy as np\n",
    "import torch\n",
    "import torch.nn as nn\n",
    "from torchinfo import summary\n",
    "import itertools\n",
    "import random\n",
    "import os\n",
    "\n",
    "import sinogap_module_long as sg\n",
    "\n",
    "\n"
   ]
  },
  {
   "cell_type": "markdown",
   "metadata": {},
   "source": [
    "### <font style=\"color:lightblue\">Redefine</font>"
   ]
  },
  {
   "cell_type": "code",
   "execution_count": 2,
   "metadata": {},
   "outputs": [],
   "source": [
    "sg.plt.rcParams['figure.dpi']=223\n",
    "sg.plt.rcParams['axes.spines.left'] = False\n",
    "sg.plt.rcParams['axes.spines.right'] = False\n",
    "sg.plt.rcParams['axes.spines.top'] = False\n",
    "sg.plt.rcParams['axes.spines.bottom'] = False\n",
    "\n",
    "\n"
   ]
  },
  {
   "cell_type": "markdown",
   "metadata": {},
   "source": [
    "### <font style=\"color:lightblue\">Configs</font>"
   ]
  },
  {
   "cell_type": "code",
   "execution_count": 3,
   "metadata": {},
   "outputs": [],
   "source": [
    "sg.set_seed(7)\n",
    "\n",
    "sg.TCfg = sg.TCfgClass(\n",
    "     exec = 1\n",
    "    ,nofEpochs = None\n",
    "    ,latentDim = 64\n",
    "    ,batchSize = 2**10\n",
    "    ,batchSplit = 2**0\n",
    "    ,labelSmoothFac = 0.1 # For Fake labels (or set to 0.0 for no smoothing).\n",
    "    ,learningRateD = 1e-3\n",
    "    ,learningRateG = 1e-3\n",
    "    ,dataDir = 'data'\n",
    "    #,num_workers=16\n",
    ")\n",
    "\n",
    "sg.DCfg = sg.DCfgClass(2)\n",
    "os.environ[\"CTAS_MMAP_PATH\"] = \"/mnt/ssdData/\"\n",
    "\n"
   ]
  },
  {
   "cell_type": "markdown",
   "metadata": {},
   "source": [
    "### <font style=\"color:lightblue\">Raw Read</font>"
   ]
  },
  {
   "cell_type": "code",
   "execution_count": 4,
   "metadata": {},
   "outputs": [
    {
     "name": "stdout",
     "output_type": "stream",
     "text": [
      "['data/18692a.ExpChicken6mGyShift', 'data/23574.8965435L.Eiger.32kev_sft', 'data/19022g.11-EggLard', 'data/18692b.MinceO', 'data/23574.8965435L.Eiger.32kev_org', 'data/19736b.09_Feb.4176862R_Eig_Threshold-4keV', 'data/20982b.04_774784R', 'data/18515.Lamb1_Eiger_7m_45keV_360Scan', 'data/19736c.8733147R_Eig_Threshold-8keV.SAMPLE_Y1', 'data/18692b_input_PhantomM', 'data/21836b.2024-08-15-mastectomies.4201381L.35kev.20Hz', 'data/23574h.9230799R.35kev', 'data/18515.Lamb4_Excised_Eiger_7m_30keV_360Scan.Y1', 'data/18648.B_Edist.80keV_0m_Eig_Neoprene.Y2', 'data/19932.10_8093920_35keV', 'data/19932.14_2442231_23keV', 'data/19932.16_4193759_60keV']\n",
      "Loading train set 1 of 17: data/18692a.ExpChicken6mGyShift ... Done\n",
      "Loading train set 2 of 17: data/23574.8965435L.Eiger.32kev_sft ... Done\n",
      "Loading train set 3 of 17: data/19022g.11-EggLard ... Done\n",
      "Loading train set 4 of 17: data/18692b.MinceO ... Done\n",
      "Loading train set 5 of 17: data/23574.8965435L.Eiger.32kev_org ... Done\n",
      "Loading train set 6 of 17: data/19736b.09_Feb.4176862R_Eig_Threshold-4keV ... Done\n",
      "Loading train set 7 of 17: data/20982b.04_774784R ... Done\n",
      "Loading train set 8 of 17: data/18515.Lamb1_Eiger_7m_45keV_360Scan ... Done\n",
      "Loading train set 9 of 17: data/19736c.8733147R_Eig_Threshold-8keV.SAMPLE_Y1 ... Done\n",
      "Loading train set 10 of 17: data/18692b_input_PhantomM ... Done\n",
      "Loading train set 11 of 17: data/21836b.2024-08-15-mastectomies.4201381L.35kev.20Hz ... Done\n",
      "Loading train set 12 of 17: data/23574h.9230799R.35kev ... Done\n",
      "Loading train set 13 of 17: data/18515.Lamb4_Excised_Eiger_7m_30keV_360Scan.Y1 ... Done\n",
      "Loading train set 14 of 17: data/18648.B_Edist.80keV_0m_Eig_Neoprene.Y2 ... Done\n",
      "Loading train set 15 of 17: data/19932.10_8093920_35keV ... Done\n",
      "Loading train set 16 of 17: data/19932.14_2442231_23keV ... Done\n",
      "Loading train set 17 of 17: data/19932.16_4193759_60keV ... Done\n",
      "['data/test/19603a.Exposures.70keV_7m_Calf2_Threshold35keV_25ms_Take2', 'data/test/22280a_input_Day_4_40keV_7m_Threshold20keV_50ms_Y04_no_shell__0.05deg', 'data/test/18515.Lamb4_Eiger_5m_50keV_360Scan.SAMPLE_Y1', 'data/test/18692b_input_Phantom0']\n",
      "Loading train set 1 of 4: data/test/19603a.Exposures.70keV_7m_Calf2_Threshold35keV_25ms_Take2 ... Done\n",
      "Loading train set 2 of 4: data/test/22280a_input_Day_4_40keV_7m_Threshold20keV_50ms_Y04_no_shell__0.05deg ... Done\n",
      "Loading train set 3 of 4: data/test/18515.Lamb4_Eiger_5m_50keV_360Scan.SAMPLE_Y1 ... Done\n",
      "Loading train set 4 of 4: data/test/18692b_input_Phantom0 ... Done\n"
     ]
    }
   ],
   "source": [
    "sg.trainSet = sg.createDataSet(sg.TCfg.dataDir, sg.listOfTrainData, exclusive=False)\n",
    "sg.testSet = sg.createDataSet(sg.TCfg.dataDir+\"/test\", sg.listOfTestData, exclusive=True)"
   ]
  },
  {
   "cell_type": "markdown",
   "metadata": {},
   "source": [
    "### <font style=\"color:lightblue\">Show</font>"
   ]
  },
  {
   "cell_type": "code",
   "execution_count": 5,
   "metadata": {},
   "outputs": [
    {
     "name": "stdout",
     "output_type": "stream",
     "text": [
      "(3, 314, 2081) 34738 (3600, 80)\n",
      "-4.269e-01, 1.147e-01, -4.950e-01, 3.163e-01\n"
     ]
    },
    {
     "data": {
      "image/png": "[encoded data removed]",
      "text/plain": [
       "<Figure size 1427.2x1070.4 with 1 Axes>"
      ]
     },
     "metadata": {},
     "output_type": "display_data"
    }
   ],
   "source": [
    "sg.refImages, sg.refNoises, sg.refBoxes = sg.createReferences(sg.testSet, 2)\n",
    "sg.showMe(sg.testSet)\n"
   ]
  },
  {
   "cell_type": "markdown",
   "metadata": {
    "notebookRunGroups": {
     "groupValue": "2"
    }
   },
   "source": [
    "## <font style=\"color:lightblue\">Models</font>"
   ]
  },
  {
   "cell_type": "code",
   "execution_count": null,
   "metadata": {},
   "outputs": [],
   "source": []
  },
  {
   "cell_type": "markdown",
   "metadata": {},
   "source": [
    "### Generator 2pix"
   ]
  },
  {
   "cell_type": "code",
   "execution_count": 6,
   "metadata": {},
   "outputs": [],
   "source": [
    "\n",
    "\n",
    "class Generator2(sg.GeneratorTemplate):\n",
    "\n",
    "    def __init__(self):\n",
    "        super(Generator2, self).__init__(2, batchNorm=True)\n",
    "        self.amplitude = 1\n",
    "        #self.baseChannels = 2\n",
    "        self.encoders =  nn.ModuleList([\n",
    "            self.encblock(  1/self.baseChannels,\n",
    "                               1, 3, padding=1, norm=False),\n",
    "            self.encblock(  1, 1, 3, padding=1),\n",
    "            self.encblock(  1, 2, 3, stride=(2,1), padding=(1,0)),\n",
    "            self.encblock(  2, 2, 3, padding=1),\n",
    "            self.encblock(  2, 4, 3, stride=(2,1), padding=(1,0)),\n",
    "            self.encblock(  4, 4, 3, padding=1),\n",
    "            self.encblock(  4, 8, 3, stride=(2,1), padding=(1,0)),\n",
    "            self.encblock(  8, 8, 3, padding=1),\n",
    "            self.encblock(  8,16, 3, stride=(2,1), padding=(1,0)),\n",
    "            ])\n",
    "        self.fcLink = self.createFClink()\n",
    "        self.decoders = nn.ModuleList([\n",
    "            self.decblock(32, 8, 3, stride=(2,1), outputPadding=(1,0), padding=(1,0)),\n",
    "            self.decblock(16, 8, 3, padding=1),\n",
    "            self.decblock(16, 4, 3, stride=(2,1), outputPadding=(1,0), padding=(1,0)),\n",
    "            self.decblock( 8, 4, 3, padding=1),\n",
    "            self.decblock( 8, 2, 3, stride=(2,1), outputPadding=(1,0), padding=(1,0)),\n",
    "            self.decblock( 4, 2, 3, padding=1),\n",
    "            self.decblock( 4, 1, 3, stride=(2,1), outputPadding=(1,0), padding=(1,0)),\n",
    "            self.decblock( 2, 1, 3, padding=1),\n",
    "            self.decblock( 2, 1, 3, padding=1, norm=False),\n",
    "            ])\n",
    "        self.lastTouch = self.createLastTouch()\n",
    "        #sg.load_model(self, model_path=\"saves/gap2/noBNreNorm_SSIM/model_gen.pt\" )\n",
    "\n",
    "generator2 = Generator2()\n",
    "generator2 = generator2.to(sg.TCfg.device)\n",
    "#generator2 = generator2.requires_grad_(False)\n",
    "generator2 = generator2.eval()\n",
    "sg.lowResGenerators[2] = generator2\n",
    "\n"
   ]
  },
  {
   "cell_type": "markdown",
   "metadata": {},
   "source": [
    "### <font style=\"color:lightblue\">Generator</font>"
   ]
  },
  {
   "cell_type": "code",
   "execution_count": 7,
   "metadata": {},
   "outputs": [
    {
     "name": "stdout",
     "output_type": "stream",
     "text": [
      "torch.Size([4, 1, 512, 10]) torch.Size([1, 1, 512, 10])\n",
      "==========================================================================================\n",
      "Layer (type:depth-idx)                   Output Shape              Param #\n",
      "==========================================================================================\n",
      "Generator2                               [1, 1, 512, 2]            --\n",
      "├─ModuleList: 1-1                        --                        --\n",
      "│    └─Sequential: 2-1                   [1, 4, 512, 10]           --\n",
      "│    │    └─Conv2d: 3-1                  [1, 4, 512, 10]           40\n",
      "│    │    └─LeakyReLU: 3-2               [1, 4, 512, 10]           --\n",
      "│    └─Sequential: 2-2                   [1, 4, 512, 10]           --\n",
      "│    │    └─Conv2d: 3-3                  [1, 4, 512, 10]           144\n",
      "│    │    └─BatchNorm2d: 3-4             [1, 4, 512, 10]           8\n",
      "│    │    └─LeakyReLU: 3-5               [1, 4, 512, 10]           --\n",
      "│    └─Sequential: 2-3                   [1, 8, 256, 8]            --\n",
      "│    │    └─Conv2d: 3-6                  [1, 8, 256, 8]            288\n",
      "│    │    └─BatchNorm2d: 3-7             [1, 8, 256, 8]            16\n",
      "│    │    └─LeakyReLU: 3-8               [1, 8, 256, 8]            --\n",
      "│    └─Sequential: 2-4                   [1, 8, 256, 8]            --\n",
      "│    │    └─Conv2d: 3-9                  [1, 8, 256, 8]            576\n",
      "│    │    └─BatchNorm2d: 3-10            [1, 8, 256, 8]            16\n",
      "│    │    └─LeakyReLU: 3-11              [1, 8, 256, 8]            --\n",
      "│    └─Sequential: 2-5                   [1, 16, 128, 6]           --\n",
      "│    │    └─Conv2d: 3-12                 [1, 16, 128, 6]           1,152\n",
      "│    │    └─BatchNorm2d: 3-13            [1, 16, 128, 6]           32\n",
      "│    │    └─LeakyReLU: 3-14              [1, 16, 128, 6]           --\n",
      "│    └─Sequential: 2-6                   [1, 16, 128, 6]           --\n",
      "│    │    └─Conv2d: 3-15                 [1, 16, 128, 6]           2,304\n",
      "│    │    └─BatchNorm2d: 3-16            [1, 16, 128, 6]           32\n",
      "│    │    └─LeakyReLU: 3-17              [1, 16, 128, 6]           --\n",
      "│    └─Sequential: 2-7                   [1, 32, 64, 4]            --\n",
      "│    │    └─Conv2d: 3-18                 [1, 32, 64, 4]            4,608\n",
      "│    │    └─BatchNorm2d: 3-19            [1, 32, 64, 4]            64\n",
      "│    │    └─LeakyReLU: 3-20              [1, 32, 64, 4]            --\n",
      "│    └─Sequential: 2-8                   [1, 32, 64, 4]            --\n",
      "│    │    └─Conv2d: 3-21                 [1, 32, 64, 4]            9,216\n",
      "│    │    └─BatchNorm2d: 3-22            [1, 32, 64, 4]            64\n",
      "│    │    └─LeakyReLU: 3-23              [1, 32, 64, 4]            --\n",
      "│    └─Sequential: 2-9                   [1, 64, 32, 2]            --\n",
      "│    │    └─Conv2d: 3-24                 [1, 64, 32, 2]            18,432\n",
      "│    │    └─BatchNorm2d: 3-25            [1, 64, 32, 2]            128\n",
      "│    │    └─LeakyReLU: 3-26              [1, 64, 32, 2]            --\n",
      "├─Sequential: 1-2                        [1, 64, 32, 2]            --\n",
      "│    └─Flatten: 2-10                     [1, 4096]                 --\n",
      "│    └─Linear: 2-11                      [1, 4096]                 16,781,312\n",
      "│    └─LeakyReLU: 2-12                   [1, 4096]                 --\n",
      "│    └─Linear: 2-13                      [1, 4096]                 16,781,312\n",
      "│    └─LeakyReLU: 2-14                   [1, 4096]                 --\n",
      "│    └─Unflatten: 2-15                   [1, 64, 32, 2]            --\n",
      "├─ModuleList: 1-3                        --                        --\n",
      "│    └─Sequential: 2-16                  [1, 32, 64, 4]            --\n",
      "│    │    └─ConvTranspose2d: 3-27        [1, 32, 64, 4]            36,864\n",
      "│    │    └─BatchNorm2d: 3-28            [1, 32, 64, 4]            64\n",
      "│    │    └─LeakyReLU: 3-29              [1, 32, 64, 4]            --\n",
      "│    └─Sequential: 2-17                  [1, 32, 64, 4]            --\n",
      "│    │    └─ConvTranspose2d: 3-30        [1, 32, 64, 4]            18,432\n",
      "│    │    └─BatchNorm2d: 3-31            [1, 32, 64, 4]            64\n",
      "│    │    └─LeakyReLU: 3-32              [1, 32, 64, 4]            --\n",
      "│    └─Sequential: 2-18                  [1, 16, 128, 6]           --\n",
      "│    │    └─ConvTranspose2d: 3-33        [1, 16, 128, 6]           9,216\n",
      "│    │    └─BatchNorm2d: 3-34            [1, 16, 128, 6]           32\n",
      "│    │    └─LeakyReLU: 3-35              [1, 16, 128, 6]           --\n",
      "│    └─Sequential: 2-19                  [1, 16, 128, 6]           --\n",
      "│    │    └─ConvTranspose2d: 3-36        [1, 16, 128, 6]           4,608\n",
      "│    │    └─BatchNorm2d: 3-37            [1, 16, 128, 6]           32\n",
      "│    │    └─LeakyReLU: 3-38              [1, 16, 128, 6]           --\n",
      "│    └─Sequential: 2-20                  [1, 8, 256, 8]            --\n",
      "│    │    └─ConvTranspose2d: 3-39        [1, 8, 256, 8]            2,304\n",
      "│    │    └─BatchNorm2d: 3-40            [1, 8, 256, 8]            16\n",
      "│    │    └─LeakyReLU: 3-41              [1, 8, 256, 8]            --\n",
      "│    └─Sequential: 2-21                  [1, 8, 256, 8]            --\n",
      "│    │    └─ConvTranspose2d: 3-42        [1, 8, 256, 8]            1,152\n",
      "│    │    └─BatchNorm2d: 3-43            [1, 8, 256, 8]            16\n",
      "│    │    └─LeakyReLU: 3-44              [1, 8, 256, 8]            --\n",
      "│    └─Sequential: 2-22                  [1, 4, 512, 10]           --\n",
      "│    │    └─ConvTranspose2d: 3-45        [1, 4, 512, 10]           576\n",
      "│    │    └─BatchNorm2d: 3-46            [1, 4, 512, 10]           8\n",
      "│    │    └─LeakyReLU: 3-47              [1, 4, 512, 10]           --\n",
      "│    └─Sequential: 2-23                  [1, 4, 512, 10]           --\n",
      "│    │    └─ConvTranspose2d: 3-48        [1, 4, 512, 10]           288\n",
      "│    │    └─BatchNorm2d: 3-49            [1, 4, 512, 10]           8\n",
      "│    │    └─LeakyReLU: 3-50              [1, 4, 512, 10]           --\n",
      "│    └─Sequential: 2-24                  [1, 4, 512, 10]           --\n",
      "│    │    └─ConvTranspose2d: 3-51        [1, 4, 512, 10]           292\n",
      "│    │    └─LeakyReLU: 3-52              [1, 4, 512, 10]           --\n",
      "├─Sequential: 1-4                        [1, 1, 512, 10]           --\n",
      "│    └─Conv2d: 2-25                      [1, 1, 512, 10]           6\n",
      "│    └─Tanh: 2-26                        [1, 1, 512, 10]           --\n",
      "==========================================================================================\n",
      "Total params: 33,673,722\n",
      "Trainable params: 33,673,722\n",
      "Non-trainable params: 0\n",
      "Total mult-adds (Units.MEGABYTES): 81.45\n",
      "==========================================================================================\n",
      "Input size (MB): 0.02\n",
      "Forward/backward pass size (MB): 3.84\n",
      "Params size (MB): 134.69\n",
      "Estimated Total Size (MB): 138.56\n",
      "==========================================================================================\n"
     ]
    }
   ],
   "source": [
    "sg.generator = sg.lowResGenerators[sg.DCfg.gapW]\n",
    "sg.optimizer_G = sg.createOptimizer(sg.generator, sg.TCfg.learningRateG)\n",
    "model_summary = summary(sg.generator, input_data=[ [sg.refImages[[0],...], sg.refNoises[[0],...]] ] ).__str__()\n",
    "print(sg.refImages.shape, sg.refImages[[0],...].shape)\n",
    "print(model_summary)\n"
   ]
  },
  {
   "cell_type": "markdown",
   "metadata": {},
   "source": [
    "### <font style=\"color:lightblue\">Discriminator</font>"
   ]
  },
  {
   "cell_type": "code",
   "execution_count": 8,
   "metadata": {},
   "outputs": [
    {
     "name": "stdout",
     "output_type": "stream",
     "text": [
      "==========================================================================================\n",
      "Layer (type:depth-idx)                   Output Shape              Param #\n",
      "==========================================================================================\n",
      "Discriminator                            [1, 1]                    1\n",
      "==========================================================================================\n",
      "Total params: 1\n",
      "Trainable params: 1\n",
      "Non-trainable params: 0\n",
      "Total mult-adds (Units.MEGABYTES): 0\n",
      "==========================================================================================\n",
      "Input size (MB): 0.08\n",
      "Forward/backward pass size (MB): 0.00\n",
      "Params size (MB): 0.00\n",
      "Estimated Total Size (MB): 0.08\n",
      "==========================================================================================\n"
     ]
    }
   ],
   "source": [
    "\n",
    "class Discriminator(sg.DiscriminatorTemplate):\n",
    "    def __init__(self):\n",
    "        super(Discriminator, self).__init__()\n",
    "        self.param = nn.Parameter(torch.zeros(1))\n",
    "    def forward(self, images):\n",
    "        return torch.zeros((images.shape[0],1), device=sg.TCfg.device)\n",
    "\n",
    "sg.discriminator = Discriminator()\n",
    "sg.discriminator = sg.discriminator.to(sg.TCfg.device)\n",
    "model_summary = summary(sg.discriminator, input_data=sg.refImages[0,...] ).__str__()\n",
    "print(model_summary)\n",
    "#sg.writer.add_graph(sg.discriminator, refImages)\n",
    "\n",
    "sg.optimizer_D = sg.createOptimizer(sg.discriminator, sg.TCfg.learningRateD)\n",
    "\n"
   ]
  },
  {
   "cell_type": "markdown",
   "metadata": {},
   "source": [
    "## <font style=\"color:lightblue\">Norms</font>"
   ]
  },
  {
   "cell_type": "code",
   "execution_count": 9,
   "metadata": {},
   "outputs": [],
   "source": [
    "sg.dataLoader = sg.createDataLoader(sg.trainSet, shuffle=True, num_workers=16)\n",
    "sg.testLoader = sg.createDataLoader(sg.testSet, shuffle=False, num_workers=16)\n",
    "\n",
    "#_ = sg.summarizeMe(sg.testLoader, True)\n",
    "#_ = sg.summarizeMe(sg.testLoader, False)\n",
    "#_ = sg.summarizeMe(sg.dataLoader, True)\n",
    "#_ = sg.summarizeMe(sg.dataLoader, False)\n",
    "#sg.displayImages()\n",
    "\n",
    "sg.metrices = {\n",
    "    'Adv'    : sg.Metrics(sg.loss_Adv_Gen, 1.000e+00, 0, False),\n",
    "    'MSE'    : sg.Metrics(sg.loss_MSE,     1.154e-01, 1),\n",
    "    'L1L'    : sg.Metrics(sg.loss_L1L,     2.571e+00, 1),\n",
    "    'SSIM'   : sg.Metrics(sg.loss_SSIM,    4.183e-04, 1),\n",
    "    'MSSSIM' : sg.Metrics(sg.loss_MSSSIM,  4.515e-06, 1),\n",
    "}\n"
   ]
  },
  {
   "cell_type": "markdown",
   "metadata": {},
   "source": [
    "## <font style=\"color:lightblue\">Restore checkpoint</font>"
   ]
  },
  {
   "cell_type": "code",
   "execution_count": 11,
   "metadata": {},
   "outputs": [
    {
     "name": "stdout",
     "output_type": "stream",
     "text": [
      "Initial LR : G 1.000e-03 (1.0000)\n"
     ]
    }
   ],
   "source": [
    "\n",
    "sg.scheduler_G = torch.optim.lr_scheduler.StepLR(sg.optimizer_G, 1, gamma=1)\n",
    "#sg.scheduler_D = torch.optim.lr_scheduler.StepLR(sg.optimizer_D, 1, gamma=1)\n",
    "savedCheckPoint = f\"checkPoint_{sg.TCfg.exec}\"\n",
    "sg.epoch, sg.imer, sg.minGEpoch, sg.minGdLoss, sg.startFrom, sg.resAcc = \\\n",
    "    sg.restoreCheckpoint(savedCheckPoint+\".pth\")\n",
    "#sg.epoch, sg.imer, sg.minGEpoch, sg.minGdLoss, sg.startFrom = 0, 0, 0, 1, 0\n",
    "sg.writer = sg.createWriter(sg.TCfg.logDir, True)\n",
    "#sg.writer.add_graph(sg.generator, ((sg.refImages, sg.refNoises),) )\n",
    "#sg.writer.add_graph(sg.discriminator, refImages)\n",
    "\n",
    "sg.scheduler_G.gamma = 1-0.01\n",
    "#sg.scheduler_D.gamma = 1-0.005\n",
    "#sg.optimizer_G.step()\n",
    "#sg.optimizer_D.step()\n",
    "\n",
    "print(f\"Initial LR : G {sg.scheduler_G.get_last_lr()[0]:.3e} ({sg.scheduler_G.get_last_lr()[0]/sg.TCfg.learningRateG:.4f})\")\n",
    "                  #f\" D {sg.scheduler_D.get_last_lr()[0]:.3e} ({sg.scheduler_D.get_last_lr()[0]/sg.TCfg.learningRateD:.4f}), Epoch {sg.epoch} {sg.imer}\")\n"
   ]
  },
  {
   "cell_type": "code",
   "execution_count": 12,
   "metadata": {},
   "outputs": [
    {
     "data": {
      "image/png": "[encoded data removed]",
      "text/plain": [
       "<Figure size 1427.2x1070.4 with 1 Axes>"
      ]
     },
     "metadata": {},
     "output_type": "display_data"
    },
    {
     "data": {
      "image/png": "[encoded data removed]",
      "text/plain": [
       "<Figure size 1427.2x1070.4 with 4 Axes>"
      ]
     },
     "metadata": {},
     "output_type": "display_data"
    },
    {
     "data": {
      "image/png": "[encoded data removed]",
      "text/plain": [
       "<Figure size 1427.2x1070.4 with 1 Axes>"
      ]
     },
     "metadata": {},
     "output_type": "display_data"
    },
    {
     "data": {
      "image/png": "[encoded data removed]",
      "text/plain": [
       "<Figure size 1427.2x1070.4 with 4 Axes>"
      ]
     },
     "metadata": {},
     "output_type": "display_data"
    },
    {
     "data": {
      "image/png": "[encoded data removed]",
      "text/plain": [
       "<Figure size 1427.2x1070.4 with 1 Axes>"
      ]
     },
     "metadata": {},
     "output_type": "display_data"
    },
    {
     "data": {
      "image/png": "[encoded data removed]",
      "text/plain": [
       "<Figure size 1427.2x1070.4 with 4 Axes>"
      ]
     },
     "metadata": {},
     "output_type": "display_data"
    },
    {
     "data": {
      "image/png": "[encoded data removed]",
      "text/plain": [
       "<Figure size 1427.2x1070.4 with 1 Axes>"
      ]
     },
     "metadata": {},
     "output_type": "display_data"
    },
    {
     "data": {
      "image/png": "[encoded data removed]",
      "text/plain": [
       "<Figure size 1427.2x1070.4 with 4 Axes>"
      ]
     },
     "metadata": {},
     "output_type": "display_data"
    }
   ],
   "source": [
    "sg.displayImages()\n",
    "#_ = sg.summarizeMe(sg.testLoader, False)"
   ]
  },
  {
   "cell_type": "markdown",
   "metadata": {},
   "source": [
    "## <font style=\"color:lightblue\">Execute</font>"
   ]
  },
  {
   "cell_type": "code",
   "execution_count": null,
   "metadata": {},
   "outputs": [
    {
     "name": "stderr",
     "output_type": "stream",
     "text": [
      "  0%|          | 71/16601 [00:37<2:27:03,  1.87it/s]\n"
     ]
    },
    {
     "ename": "KeyboardInterrupt",
     "evalue": "",
     "output_type": "error",
     "traceback": [
      "\u001b[31m---------------------------------------------------------------------------\u001b[39m",
      "\u001b[31mKeyboardInterrupt\u001b[39m                         Traceback (most recent call last)",
      "\u001b[36mCell\u001b[39m\u001b[36m \u001b[39m\u001b[32mIn[13]\u001b[39m\u001b[32m, line 12\u001b[39m\n\u001b[32m      8\u001b[39m \u001b[38;5;66;03m#sg.beforeReport = my_beforeReport\u001b[39;00m\n\u001b[32m     11\u001b[39m \u001b[38;5;28;01mtry\u001b[39;00m :\n\u001b[32m---> \u001b[39m\u001b[32m12\u001b[39m     \u001b[43msg\u001b[49m\u001b[43m.\u001b[49m\u001b[43mtrain\u001b[49m\u001b[43m(\u001b[49m\u001b[43msavedCheckPoint\u001b[49m\u001b[43m)\u001b[49m\n\u001b[32m     13\u001b[39m \u001b[38;5;28;01mexcept\u001b[39;00m :\n\u001b[32m     14\u001b[39m     \u001b[38;5;66;03m#del sg.dataLoader\u001b[39;00m\n\u001b[32m     15\u001b[39m     \u001b[38;5;66;03m#del sg.testLoader\u001b[39;00m\n\u001b[32m     16\u001b[39m     sg.freeGPUmem()\n",
      "\u001b[36mFile \u001b[39m\u001b[32m~/usr/src/sinogap/sinogap_module_long.py:1351\u001b[39m, in \u001b[36mtrain\u001b[39m\u001b[34m(savedCheckPoint)\u001b[39m\n\u001b[32m   1349\u001b[39m images = data[\u001b[33m'\u001b[39m\u001b[33mimage\u001b[39m\u001b[33m'\u001b[39m].to(TCfg.device)\n\u001b[32m   1350\u001b[39m imer += images.shape[\u001b[32m0\u001b[39m]\n\u001b[32m-> \u001b[39m\u001b[32m1351\u001b[39m trainRes = \u001b[43mtrain_step\u001b[49m\u001b[43m(\u001b[49m\u001b[43mimages\u001b[49m\u001b[43m)\u001b[49m\n\u001b[32m   1352\u001b[39m resAcc += trainRes\n\u001b[32m   1353\u001b[39m updAcc += trainRes\n",
      "\u001b[36mFile \u001b[39m\u001b[32m~/usr/src/sinogap/sinogap_module_long.py:1294\u001b[39m, in \u001b[36mtrain_step\u001b[39m\u001b[34m(allImages)\u001b[39m\n\u001b[32m   1292\u001b[39m         genLoss /= subBatchSize\n\u001b[32m   1293\u001b[39m         genLoss.backward()\n\u001b[32m-> \u001b[39m\u001b[32m1294\u001b[39m     \u001b[43moptimizer_G\u001b[49m\u001b[43m.\u001b[49m\u001b[43mstep\u001b[49m\u001b[43m(\u001b[49m\u001b[43m)\u001b[49m\n\u001b[32m   1295\u001b[39m     optimizer_G.zero_grad(set_to_none=\u001b[38;5;28;01mTrue\u001b[39;00m)\n\u001b[32m   1297\u001b[39m \u001b[38;5;28;01mreturn\u001b[39;00m trainRes\n",
      "\u001b[36mFile \u001b[39m\u001b[32m~/usr/venv/torchEnv/lib/python3.13/site-packages/torch/optim/lr_scheduler.py:140\u001b[39m, in \u001b[36mLRScheduler.__init__.<locals>.patch_track_step_called.<locals>.wrap_step.<locals>.wrapper\u001b[39m\u001b[34m(*args, **kwargs)\u001b[39m\n\u001b[32m    138\u001b[39m opt = opt_ref()\n\u001b[32m    139\u001b[39m opt._opt_called = \u001b[38;5;28;01mTrue\u001b[39;00m  \u001b[38;5;66;03m# type: ignore[union-attr]\u001b[39;00m\n\u001b[32m--> \u001b[39m\u001b[32m140\u001b[39m \u001b[38;5;28;01mreturn\u001b[39;00m \u001b[43mfunc\u001b[49m\u001b[43m.\u001b[49m\u001b[34;43m__get__\u001b[39;49m\u001b[43m(\u001b[49m\u001b[43mopt\u001b[49m\u001b[43m,\u001b[49m\u001b[43m \u001b[49m\u001b[43mopt\u001b[49m\u001b[43m.\u001b[49m\u001b[34;43m__class__\u001b[39;49m\u001b[43m)\u001b[49m\u001b[43m(\u001b[49m\u001b[43m*\u001b[49m\u001b[43margs\u001b[49m\u001b[43m,\u001b[49m\u001b[43m \u001b[49m\u001b[43m*\u001b[49m\u001b[43m*\u001b[49m\u001b[43mkwargs\u001b[49m\u001b[43m)\u001b[49m\n",
      "\u001b[36mFile \u001b[39m\u001b[32m~/usr/venv/torchEnv/lib/python3.13/site-packages/torch/optim/optimizer.py:493\u001b[39m, in \u001b[36mOptimizer.profile_hook_step.<locals>.wrapper\u001b[39m\u001b[34m(*args, **kwargs)\u001b[39m\n\u001b[32m    488\u001b[39m         \u001b[38;5;28;01melse\u001b[39;00m:\n\u001b[32m    489\u001b[39m             \u001b[38;5;28;01mraise\u001b[39;00m \u001b[38;5;167;01mRuntimeError\u001b[39;00m(\n\u001b[32m    490\u001b[39m                 \u001b[33mf\u001b[39m\u001b[33m\"\u001b[39m\u001b[38;5;132;01m{\u001b[39;00mfunc\u001b[38;5;132;01m}\u001b[39;00m\u001b[33m must return None or a tuple of (new_args, new_kwargs), but got \u001b[39m\u001b[38;5;132;01m{\u001b[39;00mresult\u001b[38;5;132;01m}\u001b[39;00m\u001b[33m.\u001b[39m\u001b[33m\"\u001b[39m\n\u001b[32m    491\u001b[39m             )\n\u001b[32m--> \u001b[39m\u001b[32m493\u001b[39m out = \u001b[43mfunc\u001b[49m\u001b[43m(\u001b[49m\u001b[43m*\u001b[49m\u001b[43margs\u001b[49m\u001b[43m,\u001b[49m\u001b[43m \u001b[49m\u001b[43m*\u001b[49m\u001b[43m*\u001b[49m\u001b[43mkwargs\u001b[49m\u001b[43m)\u001b[49m\n\u001b[32m    494\u001b[39m \u001b[38;5;28mself\u001b[39m._optimizer_step_code()\n\u001b[32m    496\u001b[39m \u001b[38;5;66;03m# call optimizer step post hooks\u001b[39;00m\n",
      "\u001b[36mFile \u001b[39m\u001b[32m~/usr/venv/torchEnv/lib/python3.13/site-packages/torch/optim/optimizer.py:91\u001b[39m, in \u001b[36m_use_grad_for_differentiable.<locals>._use_grad\u001b[39m\u001b[34m(self, *args, **kwargs)\u001b[39m\n\u001b[32m     89\u001b[39m     torch.set_grad_enabled(\u001b[38;5;28mself\u001b[39m.defaults[\u001b[33m\"\u001b[39m\u001b[33mdifferentiable\u001b[39m\u001b[33m\"\u001b[39m])\n\u001b[32m     90\u001b[39m     torch._dynamo.graph_break()\n\u001b[32m---> \u001b[39m\u001b[32m91\u001b[39m     ret = \u001b[43mfunc\u001b[49m\u001b[43m(\u001b[49m\u001b[38;5;28;43mself\u001b[39;49m\u001b[43m,\u001b[49m\u001b[43m \u001b[49m\u001b[43m*\u001b[49m\u001b[43margs\u001b[49m\u001b[43m,\u001b[49m\u001b[43m \u001b[49m\u001b[43m*\u001b[49m\u001b[43m*\u001b[49m\u001b[43mkwargs\u001b[49m\u001b[43m)\u001b[49m\n\u001b[32m     92\u001b[39m \u001b[38;5;28;01mfinally\u001b[39;00m:\n\u001b[32m     93\u001b[39m     torch._dynamo.graph_break()\n",
      "\u001b[36mFile \u001b[39m\u001b[32m~/usr/venv/torchEnv/lib/python3.13/site-packages/torch/optim/adam.py:244\u001b[39m, in \u001b[36mAdam.step\u001b[39m\u001b[34m(self, closure)\u001b[39m\n\u001b[32m    232\u001b[39m     beta1, beta2 = group[\u001b[33m\"\u001b[39m\u001b[33mbetas\u001b[39m\u001b[33m\"\u001b[39m]\n\u001b[32m    234\u001b[39m     has_complex = \u001b[38;5;28mself\u001b[39m._init_group(\n\u001b[32m    235\u001b[39m         group,\n\u001b[32m    236\u001b[39m         params_with_grad,\n\u001b[32m   (...)\u001b[39m\u001b[32m    241\u001b[39m         state_steps,\n\u001b[32m    242\u001b[39m     )\n\u001b[32m--> \u001b[39m\u001b[32m244\u001b[39m     \u001b[43madam\u001b[49m\u001b[43m(\u001b[49m\n\u001b[32m    245\u001b[39m \u001b[43m        \u001b[49m\u001b[43mparams_with_grad\u001b[49m\u001b[43m,\u001b[49m\n\u001b[32m    246\u001b[39m \u001b[43m        \u001b[49m\u001b[43mgrads\u001b[49m\u001b[43m,\u001b[49m\n\u001b[32m    247\u001b[39m \u001b[43m        \u001b[49m\u001b[43mexp_avgs\u001b[49m\u001b[43m,\u001b[49m\n\u001b[32m    248\u001b[39m \u001b[43m        \u001b[49m\u001b[43mexp_avg_sqs\u001b[49m\u001b[43m,\u001b[49m\n\u001b[32m    249\u001b[39m \u001b[43m        \u001b[49m\u001b[43mmax_exp_avg_sqs\u001b[49m\u001b[43m,\u001b[49m\n\u001b[32m    250\u001b[39m \u001b[43m        \u001b[49m\u001b[43mstate_steps\u001b[49m\u001b[43m,\u001b[49m\n\u001b[32m    251\u001b[39m \u001b[43m        \u001b[49m\u001b[43mamsgrad\u001b[49m\u001b[43m=\u001b[49m\u001b[43mgroup\u001b[49m\u001b[43m[\u001b[49m\u001b[33;43m\"\u001b[39;49m\u001b[33;43mamsgrad\u001b[39;49m\u001b[33;43m\"\u001b[39;49m\u001b[43m]\u001b[49m\u001b[43m,\u001b[49m\n\u001b[32m    252\u001b[39m \u001b[43m        \u001b[49m\u001b[43mhas_complex\u001b[49m\u001b[43m=\u001b[49m\u001b[43mhas_complex\u001b[49m\u001b[43m,\u001b[49m\n\u001b[32m    253\u001b[39m \u001b[43m        \u001b[49m\u001b[43mbeta1\u001b[49m\u001b[43m=\u001b[49m\u001b[43mbeta1\u001b[49m\u001b[43m,\u001b[49m\n\u001b[32m    254\u001b[39m \u001b[43m        \u001b[49m\u001b[43mbeta2\u001b[49m\u001b[43m=\u001b[49m\u001b[43mbeta2\u001b[49m\u001b[43m,\u001b[49m\n\u001b[32m    255\u001b[39m \u001b[43m        \u001b[49m\u001b[43mlr\u001b[49m\u001b[43m=\u001b[49m\u001b[43mgroup\u001b[49m\u001b[43m[\u001b[49m\u001b[33;43m\"\u001b[39;49m\u001b[33;43mlr\u001b[39;49m\u001b[33;43m\"\u001b[39;49m\u001b[43m]\u001b[49m\u001b[43m,\u001b[49m\n\u001b[32m    256\u001b[39m \u001b[43m        \u001b[49m\u001b[43mweight_decay\u001b[49m\u001b[43m=\u001b[49m\u001b[43mgroup\u001b[49m\u001b[43m[\u001b[49m\u001b[33;43m\"\u001b[39;49m\u001b[33;43mweight_decay\u001b[39;49m\u001b[33;43m\"\u001b[39;49m\u001b[43m]\u001b[49m\u001b[43m,\u001b[49m\n\u001b[32m    257\u001b[39m \u001b[43m        \u001b[49m\u001b[43meps\u001b[49m\u001b[43m=\u001b[49m\u001b[43mgroup\u001b[49m\u001b[43m[\u001b[49m\u001b[33;43m\"\u001b[39;49m\u001b[33;43meps\u001b[39;49m\u001b[33;43m\"\u001b[39;49m\u001b[43m]\u001b[49m\u001b[43m,\u001b[49m\n\u001b[32m    258\u001b[39m \u001b[43m        \u001b[49m\u001b[43mmaximize\u001b[49m\u001b[43m=\u001b[49m\u001b[43mgroup\u001b[49m\u001b[43m[\u001b[49m\u001b[33;43m\"\u001b[39;49m\u001b[33;43mmaximize\u001b[39;49m\u001b[33;43m\"\u001b[39;49m\u001b[43m]\u001b[49m\u001b[43m,\u001b[49m\n\u001b[32m    259\u001b[39m \u001b[43m        \u001b[49m\u001b[43mforeach\u001b[49m\u001b[43m=\u001b[49m\u001b[43mgroup\u001b[49m\u001b[43m[\u001b[49m\u001b[33;43m\"\u001b[39;49m\u001b[33;43mforeach\u001b[39;49m\u001b[33;43m\"\u001b[39;49m\u001b[43m]\u001b[49m\u001b[43m,\u001b[49m\n\u001b[32m    260\u001b[39m \u001b[43m        \u001b[49m\u001b[43mcapturable\u001b[49m\u001b[43m=\u001b[49m\u001b[43mgroup\u001b[49m\u001b[43m[\u001b[49m\u001b[33;43m\"\u001b[39;49m\u001b[33;43mcapturable\u001b[39;49m\u001b[33;43m\"\u001b[39;49m\u001b[43m]\u001b[49m\u001b[43m,\u001b[49m\n\u001b[32m    261\u001b[39m \u001b[43m        \u001b[49m\u001b[43mdifferentiable\u001b[49m\u001b[43m=\u001b[49m\u001b[43mgroup\u001b[49m\u001b[43m[\u001b[49m\u001b[33;43m\"\u001b[39;49m\u001b[33;43mdifferentiable\u001b[39;49m\u001b[33;43m\"\u001b[39;49m\u001b[43m]\u001b[49m\u001b[43m,\u001b[49m\n\u001b[32m    262\u001b[39m \u001b[43m        \u001b[49m\u001b[43mfused\u001b[49m\u001b[43m=\u001b[49m\u001b[43mgroup\u001b[49m\u001b[43m[\u001b[49m\u001b[33;43m\"\u001b[39;49m\u001b[33;43mfused\u001b[39;49m\u001b[33;43m\"\u001b[39;49m\u001b[43m]\u001b[49m\u001b[43m,\u001b[49m\n\u001b[32m    263\u001b[39m \u001b[43m        \u001b[49m\u001b[43mgrad_scale\u001b[49m\u001b[43m=\u001b[49m\u001b[38;5;28;43mgetattr\u001b[39;49m\u001b[43m(\u001b[49m\u001b[38;5;28;43mself\u001b[39;49m\u001b[43m,\u001b[49m\u001b[43m \u001b[49m\u001b[33;43m\"\u001b[39;49m\u001b[33;43mgrad_scale\u001b[39;49m\u001b[33;43m\"\u001b[39;49m\u001b[43m,\u001b[49m\u001b[43m \u001b[49m\u001b[38;5;28;43;01mNone\u001b[39;49;00m\u001b[43m)\u001b[49m\u001b[43m,\u001b[49m\n\u001b[32m    264\u001b[39m \u001b[43m        \u001b[49m\u001b[43mfound_inf\u001b[49m\u001b[43m=\u001b[49m\u001b[38;5;28;43mgetattr\u001b[39;49m\u001b[43m(\u001b[49m\u001b[38;5;28;43mself\u001b[39;49m\u001b[43m,\u001b[49m\u001b[43m \u001b[49m\u001b[33;43m\"\u001b[39;49m\u001b[33;43mfound_inf\u001b[39;49m\u001b[33;43m\"\u001b[39;49m\u001b[43m,\u001b[49m\u001b[43m \u001b[49m\u001b[38;5;28;43;01mNone\u001b[39;49;00m\u001b[43m)\u001b[49m\u001b[43m,\u001b[49m\n\u001b[32m    265\u001b[39m \u001b[43m    \u001b[49m\u001b[43m)\u001b[49m\n\u001b[32m    267\u001b[39m \u001b[38;5;28;01mreturn\u001b[39;00m loss\n",
      "\u001b[36mFile \u001b[39m\u001b[32m~/usr/venv/torchEnv/lib/python3.13/site-packages/torch/optim/optimizer.py:154\u001b[39m, in \u001b[36m_disable_dynamo_if_unsupported.<locals>.wrapper.<locals>.maybe_fallback\u001b[39m\u001b[34m(*args, **kwargs)\u001b[39m\n\u001b[32m    152\u001b[39m     \u001b[38;5;28;01mreturn\u001b[39;00m disabled_func(*args, **kwargs)\n\u001b[32m    153\u001b[39m \u001b[38;5;28;01melse\u001b[39;00m:\n\u001b[32m--> \u001b[39m\u001b[32m154\u001b[39m     \u001b[38;5;28;01mreturn\u001b[39;00m \u001b[43mfunc\u001b[49m\u001b[43m(\u001b[49m\u001b[43m*\u001b[49m\u001b[43margs\u001b[49m\u001b[43m,\u001b[49m\u001b[43m \u001b[49m\u001b[43m*\u001b[49m\u001b[43m*\u001b[49m\u001b[43mkwargs\u001b[49m\u001b[43m)\u001b[49m\n",
      "\u001b[36mFile \u001b[39m\u001b[32m~/usr/venv/torchEnv/lib/python3.13/site-packages/torch/optim/adam.py:876\u001b[39m, in \u001b[36madam\u001b[39m\u001b[34m(params, grads, exp_avgs, exp_avg_sqs, max_exp_avg_sqs, state_steps, foreach, capturable, differentiable, fused, grad_scale, found_inf, has_complex, amsgrad, beta1, beta2, lr, weight_decay, eps, maximize)\u001b[39m\n\u001b[32m    873\u001b[39m \u001b[38;5;28;01melse\u001b[39;00m:\n\u001b[32m    874\u001b[39m     func = _single_tensor_adam\n\u001b[32m--> \u001b[39m\u001b[32m876\u001b[39m \u001b[43mfunc\u001b[49m\u001b[43m(\u001b[49m\n\u001b[32m    877\u001b[39m \u001b[43m    \u001b[49m\u001b[43mparams\u001b[49m\u001b[43m,\u001b[49m\n\u001b[32m    878\u001b[39m \u001b[43m    \u001b[49m\u001b[43mgrads\u001b[49m\u001b[43m,\u001b[49m\n\u001b[32m    879\u001b[39m \u001b[43m    \u001b[49m\u001b[43mexp_avgs\u001b[49m\u001b[43m,\u001b[49m\n\u001b[32m    880\u001b[39m \u001b[43m    \u001b[49m\u001b[43mexp_avg_sqs\u001b[49m\u001b[43m,\u001b[49m\n\u001b[32m    881\u001b[39m \u001b[43m    \u001b[49m\u001b[43mmax_exp_avg_sqs\u001b[49m\u001b[43m,\u001b[49m\n\u001b[32m    882\u001b[39m \u001b[43m    \u001b[49m\u001b[43mstate_steps\u001b[49m\u001b[43m,\u001b[49m\n\u001b[32m    883\u001b[39m \u001b[43m    \u001b[49m\u001b[43mamsgrad\u001b[49m\u001b[43m=\u001b[49m\u001b[43mamsgrad\u001b[49m\u001b[43m,\u001b[49m\n\u001b[32m    884\u001b[39m \u001b[43m    \u001b[49m\u001b[43mhas_complex\u001b[49m\u001b[43m=\u001b[49m\u001b[43mhas_complex\u001b[49m\u001b[43m,\u001b[49m\n\u001b[32m    885\u001b[39m \u001b[43m    \u001b[49m\u001b[43mbeta1\u001b[49m\u001b[43m=\u001b[49m\u001b[43mbeta1\u001b[49m\u001b[43m,\u001b[49m\n\u001b[32m    886\u001b[39m \u001b[43m    \u001b[49m\u001b[43mbeta2\u001b[49m\u001b[43m=\u001b[49m\u001b[43mbeta2\u001b[49m\u001b[43m,\u001b[49m\n\u001b[32m    887\u001b[39m \u001b[43m    \u001b[49m\u001b[43mlr\u001b[49m\u001b[43m=\u001b[49m\u001b[43mlr\u001b[49m\u001b[43m,\u001b[49m\n\u001b[32m    888\u001b[39m \u001b[43m    \u001b[49m\u001b[43mweight_decay\u001b[49m\u001b[43m=\u001b[49m\u001b[43mweight_decay\u001b[49m\u001b[43m,\u001b[49m\n\u001b[32m    889\u001b[39m \u001b[43m    \u001b[49m\u001b[43meps\u001b[49m\u001b[43m=\u001b[49m\u001b[43meps\u001b[49m\u001b[43m,\u001b[49m\n\u001b[32m    890\u001b[39m \u001b[43m    \u001b[49m\u001b[43mmaximize\u001b[49m\u001b[43m=\u001b[49m\u001b[43mmaximize\u001b[49m\u001b[43m,\u001b[49m\n\u001b[32m    891\u001b[39m \u001b[43m    \u001b[49m\u001b[43mcapturable\u001b[49m\u001b[43m=\u001b[49m\u001b[43mcapturable\u001b[49m\u001b[43m,\u001b[49m\n\u001b[32m    892\u001b[39m \u001b[43m    \u001b[49m\u001b[43mdifferentiable\u001b[49m\u001b[43m=\u001b[49m\u001b[43mdifferentiable\u001b[49m\u001b[43m,\u001b[49m\n\u001b[32m    893\u001b[39m \u001b[43m    \u001b[49m\u001b[43mgrad_scale\u001b[49m\u001b[43m=\u001b[49m\u001b[43mgrad_scale\u001b[49m\u001b[43m,\u001b[49m\n\u001b[32m    894\u001b[39m \u001b[43m    \u001b[49m\u001b[43mfound_inf\u001b[49m\u001b[43m=\u001b[49m\u001b[43mfound_inf\u001b[49m\u001b[43m,\u001b[49m\n\u001b[32m    895\u001b[39m \u001b[43m\u001b[49m\u001b[43m)\u001b[49m\n",
      "\u001b[36mFile \u001b[39m\u001b[32m~/usr/venv/torchEnv/lib/python3.13/site-packages/torch/optim/adam.py:685\u001b[39m, in \u001b[36m_multi_tensor_adam\u001b[39m\u001b[34m(params, grads, exp_avgs, exp_avg_sqs, max_exp_avg_sqs, state_steps, grad_scale, found_inf, amsgrad, has_complex, beta1, beta2, lr, weight_decay, eps, maximize, capturable, differentiable)\u001b[39m\n\u001b[32m    682\u001b[39m     torch._foreach_addcdiv_(device_params, device_exp_avgs, exp_avg_sq_sqrt)\n\u001b[32m    683\u001b[39m \u001b[38;5;28;01melse\u001b[39;00m:\n\u001b[32m    684\u001b[39m     bias_correction1 = [\n\u001b[32m--> \u001b[39m\u001b[32m685\u001b[39m         \u001b[32m1\u001b[39m - beta1 ** \u001b[43m_get_value\u001b[49m\u001b[43m(\u001b[49m\u001b[43mstep\u001b[49m\u001b[43m)\u001b[49m \u001b[38;5;28;01mfor\u001b[39;00m step \u001b[38;5;129;01min\u001b[39;00m device_state_steps\n\u001b[32m    686\u001b[39m     ]\n\u001b[32m    687\u001b[39m     bias_correction2 = [\n\u001b[32m    688\u001b[39m         \u001b[32m1\u001b[39m - beta2 ** _get_value(step) \u001b[38;5;28;01mfor\u001b[39;00m step \u001b[38;5;129;01min\u001b[39;00m device_state_steps\n\u001b[32m    689\u001b[39m     ]\n\u001b[32m    691\u001b[39m     step_size = _stack_if_compiling([(lr / bc) * -\u001b[32m1\u001b[39m \u001b[38;5;28;01mfor\u001b[39;00m bc \u001b[38;5;129;01min\u001b[39;00m bias_correction1])\n",
      "\u001b[36mFile \u001b[39m\u001b[32m~/usr/venv/torchEnv/lib/python3.13/site-packages/torch/optim/optimizer.py:106\u001b[39m, in \u001b[36m_get_value\u001b[39m\u001b[34m(x)\u001b[39m\n\u001b[32m    104\u001b[39m     \u001b[38;5;28;01mreturn\u001b[39;00m x\n\u001b[32m    105\u001b[39m \u001b[38;5;28;01melse\u001b[39;00m:\n\u001b[32m--> \u001b[39m\u001b[32m106\u001b[39m     \u001b[38;5;28;01mreturn\u001b[39;00m \u001b[43mx\u001b[49m\u001b[43m.\u001b[49m\u001b[43mitem\u001b[49m\u001b[43m(\u001b[49m\u001b[43m)\u001b[49m \u001b[38;5;28;01mif\u001b[39;00m \u001b[38;5;28misinstance\u001b[39m(x, torch.Tensor) \u001b[38;5;28;01melse\u001b[39;00m x\n",
      "\u001b[31mKeyboardInterrupt\u001b[39m: "
     ]
    }
   ],
   "source": [
    "\n",
    "\n",
    "\n",
    "def my_beforeReport(sglocals) :\n",
    "    message = \"\"\n",
    "    #message += \"G\" + sg.adjustScheduler(sg.scheduler_G, sg.TCfg.learningRateG, 0.1)\n",
    "    sg.generator.amplitude = max(0.5, sg.generator.amplitude * 0.99)\n",
    "    message += f\"Amplitude {sg.generator.amplitude}.\"\n",
    "    with open(f\"message_{sg.TCfg.exec}.txt\", 'a') as file:\n",
    "        file.write(message + \"\\n\")\n",
    "    print(message)\n",
    "    return\n",
    "#sg.beforeReport = my_beforeReport\n",
    "\n",
    "\n",
    "try :\n",
    "    sg.train(savedCheckPoint)\n",
    "except :\n",
    "    #del sg.dataLoader\n",
    "    #del sg.testLoader\n",
    "    sg.freeGPUmem()\n",
    "    1/10 # to release Jupyuter memory in the next step\n",
    "    sg.epoch -= 1\n",
    "    raise\n",
    "\n",
    "#BS=2**12, LR=1e-3"
   ]
  },
  {
   "cell_type": "markdown",
   "metadata": {},
   "source": [
    "## <font style=\"color:lightblue\">Post</font>"
   ]
  },
  {
   "cell_type": "code",
   "execution_count": null,
   "metadata": {},
   "outputs": [],
   "source": [
    "sg.saveCheckPoint(savedCheckPoint+\".pth\",\n",
    "                           sg.epoch+1, sg.imer, sg.minGEpoch, sg.minGLoss,\n",
    "                           sg.generator, sg.discriminator,\n",
    "                           sg.optimizer_G, sg.optimizer_D)\n"
   ]
  },
  {
   "cell_type": "code",
   "execution_count": null,
   "metadata": {},
   "outputs": [],
   "source": [
    "resTest = sg.summarizeMe(sg.testLoader, False)\n",
    "resTest *= 1/resTest.nofIm\n",
    "sg.writer.add_scalars(\"Losses test\",\n",
    "                   {'Dis': resTest.lossD\n",
    "                   ,'Gen': resTest.lossG\n",
    "                   ,'Adv' : resTest.metrices['Adv']\n",
    "                   }, sg.epoch )\n",
    "sg.writer.add_scalars(\"Metrices test\", resTest.metrices, sg.epoch )\n",
    "sg.writer.add_scalars(\"Probs test\",\n",
    "                   {'Ref':resTest.predReal\n",
    "                   ,'Gen':resTest.predFake\n",
    "                   #,'Pre':trainRes.predGen\n",
    "                   }, sg.epoch )\n",
    "\n",
    "\n",
    "\n"
   ]
  },
  {
   "cell_type": "markdown",
   "metadata": {},
   "source": [
    "### <font style=\"color:lightblue\">Save results</font>"
   ]
  },
  {
   "cell_type": "code",
   "execution_count": null,
   "metadata": {},
   "outputs": [],
   "source": [
    "sg.saveModels()"
   ]
  },
  {
   "cell_type": "code",
   "execution_count": null,
   "metadata": {},
   "outputs": [],
   "source": []
  }
 ],
 "metadata": {
  "kernelspec": {
   "display_name": "torchEnv",
   "language": "python",
   "name": "python3"
  },
  "language_info": {
   "codemirror_mode": {
    "name": "ipython",
    "version": 3
   },
   "file_extension": ".py",
   "mimetype": "text/x-python",
   "name": "python",
   "nbconvert_exporter": "python",
   "pygments_lexer": "ipython3",
   "version": "3.13.3"
  }
 },
 "nbformat": 4,
 "nbformat_minor": 2
}
