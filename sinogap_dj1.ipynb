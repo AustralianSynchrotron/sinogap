{
 "cells": [
  {
   "cell_type": "markdown",
   "metadata": {},
   "source": [
    "## <font style=\"color:lightblue\">Header</font>"
   ]
  },
  {
   "cell_type": "markdown",
   "metadata": {},
   "source": [
    "### <font style=\"color:lightblue\">Imports</font>"
   ]
  },
  {
   "cell_type": "code",
   "execution_count": null,
   "metadata": {},
   "outputs": [],
   "source": [
    "#%load_ext autoreload\n",
    "#%autoreload 2\n",
    "\n",
    "import math\n",
    "import numpy as np\n",
    "import torch\n",
    "import torch.nn as nn\n",
    "from torchinfo import summary\n",
    "import itertools\n",
    "import random\n",
    "\n",
    "import sinogap_module as sg\n",
    "\n",
    "\n"
   ]
  },
  {
   "cell_type": "markdown",
   "metadata": {},
   "source": [
    "### <font style=\"color:lightblue\">Redefine</font>"
   ]
  },
  {
   "cell_type": "code",
   "execution_count": null,
   "metadata": {},
   "outputs": [],
   "source": [
    "sg.plt.rcParams['figure.dpi']=223\n",
    "\n",
    "\n",
    "\n"
   ]
  },
  {
   "cell_type": "markdown",
   "metadata": {},
   "source": [
    "### <font style=\"color:lightblue\">Configs</font>"
   ]
  },
  {
   "cell_type": "code",
   "execution_count": null,
   "metadata": {},
   "outputs": [],
   "source": [
    "sg.set_seed(7)\n",
    "\n",
    "sg.TCfg = sg.TCfgClass(\n",
    "     exec = 1\n",
    "    ,nofEpochs = None\n",
    "    ,latentDim = 64\n",
    "    ,batchSize = 2**10\n",
    "    ,batchSplit = 2\n",
    "    ,labelSmoothFac = 0.1 # For Fake labels (or set to 0.0 for no smoothing).\n",
    "    ,learningRateD = 0.00005\n",
    "    ,learningRateG = 0.00005\n",
    ")\n",
    "\n",
    "sg.DCfg = sg.DCfgClass(16)\n"
   ]
  },
  {
   "cell_type": "markdown",
   "metadata": {},
   "source": [
    "### <font style=\"color:lightblue\">Raw Read</font>"
   ]
  },
  {
   "cell_type": "code",
   "execution_count": null,
   "metadata": {},
   "outputs": [],
   "source": [
    "trainSet = sg.createTrainSet()\n",
    "testSet = sg.createTestSet()"
   ]
  },
  {
   "cell_type": "markdown",
   "metadata": {},
   "source": [
    "### <font style=\"color:lightblue\">Show</font>"
   ]
  },
  {
   "cell_type": "code",
   "execution_count": null,
   "metadata": {},
   "outputs": [],
   "source": [
    "sg.refImages, sg.refNoises = sg.createReferences(testSet, 0)\n",
    "sg.showMe(testSet, 0 )"
   ]
  },
  {
   "cell_type": "markdown",
   "metadata": {
    "notebookRunGroups": {
     "groupValue": "2"
    }
   },
   "source": [
    "## <font style=\"color:lightblue\">Models</font>"
   ]
  },
  {
   "cell_type": "markdown",
   "metadata": {},
   "source": [
    "### Generator 2pix"
   ]
  },
  {
   "cell_type": "code",
   "execution_count": null,
   "metadata": {},
   "outputs": [],
   "source": [
    "\n",
    "\n",
    "class Generator2(sg.GeneratorTemplate):\n",
    "\n",
    "    def __init__(self):\n",
    "        super(Generator2, self).__init__(2)\n",
    "        self.amplitude = 4\n",
    "        self.encoders =  nn.ModuleList([\n",
    "            self.encblock(  1/self.baseChannels,\n",
    "                               1, 3, norm=False),\n",
    "            self.encblock(  1, 1, 3),\n",
    "            self.encblock(  1, 1, 3),\n",
    "            ])\n",
    "        self.fcLink = self.createFClink()\n",
    "        self.decoders = nn.ModuleList([\n",
    "            self.decblock(2, 1, 3),\n",
    "            self.decblock(2, 1, 3),\n",
    "            self.decblock(2, 1, 3, norm=False),\n",
    "            ])\n",
    "        self.lastTouch = self.createLastTouch()\n",
    "        sg.load_model(self, model_path=\"saves/gap2/noBNreNorm4/model_gen.pt\" )\n",
    "\n",
    "generator2 = Generator2()\n",
    "generator2 = generator2.to(sg.TCfg.device)\n",
    "generator2 = generator2.requires_grad_(False)\n",
    "generator2 = generator2.eval()\n",
    "sg.lowResGenerators[2] = generator2\n",
    "\n"
   ]
  },
  {
   "cell_type": "markdown",
   "metadata": {},
   "source": [
    "### Generator 4pix"
   ]
  },
  {
   "cell_type": "code",
   "execution_count": null,
   "metadata": {},
   "outputs": [],
   "source": [
    "\n",
    "\n",
    "class Generator4(sg.GeneratorTemplate):\n",
    "\n",
    "    def __init__(self):\n",
    "        super(Generator4, self).__init__(4)\n",
    "        self.amplitude = 4\n",
    "        self.encoders =  nn.ModuleList([\n",
    "            self.encblock( 1/self.baseChannels,\n",
    "                              1, 3, norm=False),\n",
    "            self.encblock( 1, 1, 3),\n",
    "            self.encblock( 1, 2, 3, stride=2),\n",
    "            self.encblock( 2, 2, 3),\n",
    "            self.encblock( 2, 4, 3),\n",
    "            ])\n",
    "        self.fcLink = self.createFClink()\n",
    "        self.decoders = nn.ModuleList([\n",
    "            self.decblock(8, 2, 3),\n",
    "            self.decblock(4, 2, 3),\n",
    "            self.decblock(4, 1, 4, stride=2),\n",
    "            self.decblock(2, 1, 3),\n",
    "            self.decblock(2, 1, 3, norm=False),\n",
    "            ])\n",
    "        self.lastTouch = self.createLastTouch()\n",
    "        sg.load_model(self, model_path=\"saves/gap4/noBNreNorm4/model_gen.pt\" )\n",
    "\n",
    "generator4 = Generator4()\n",
    "generator4 = generator4.to(sg.TCfg.device)\n",
    "generator4 = generator4.requires_grad_(False)\n",
    "generator4 = generator4.eval()\n",
    "sg.lowResGenerators[4] = generator4\n",
    "\n",
    "\n",
    "\n"
   ]
  },
  {
   "cell_type": "markdown",
   "metadata": {},
   "source": [
    "### Generator 8pix"
   ]
  },
  {
   "cell_type": "code",
   "execution_count": null,
   "metadata": {},
   "outputs": [],
   "source": [
    "\n",
    "\n",
    "class Generator8(sg.GeneratorTemplate):\n",
    "\n",
    "    def __init__(self):\n",
    "        super(Generator8, self).__init__(8)\n",
    "        self.amplitude = 4\n",
    "\n",
    "        self.encoders =  nn.ModuleList([\n",
    "            self.encblock( 1/self.baseChannels,\n",
    "                              1, 3, norm=False),\n",
    "            self.encblock( 1, 1, 3, dopadding=True),\n",
    "            self.encblock( 1, 2, 3, stride=2),\n",
    "            self.encblock( 2, 2, 3, dopadding=True),\n",
    "            self.encblock( 2, 4, 3, stride=2),\n",
    "            self.encblock( 4, 4, 3, dopadding=True),\n",
    "            self.encblock( 4, 8, 3, stride=2),\n",
    "            self.encblock( 8, 8, 3, dopadding=True),\n",
    "            ])\n",
    "\n",
    "        self.fcLink = self.createFClink()\n",
    "\n",
    "        self.decoders = nn.ModuleList([\n",
    "            self.decblock(16, 8, 3, dopadding=True),\n",
    "            self.decblock(16, 4, 4, stride=2),\n",
    "            self.decblock( 8, 4, 3, dopadding=True),\n",
    "            self.decblock( 8, 2, 4, stride=2),\n",
    "            self.decblock( 4, 2, 3, dopadding=True),\n",
    "            self.decblock( 4, 1, 4, stride=2),\n",
    "            self.decblock( 2, 1, 3, dopadding=True),\n",
    "            self.decblock( 2, 1, 3, norm=False),\n",
    "            ])\n",
    "\n",
    "        self.lastTouch = self.createLastTouch()\n",
    "\n",
    "        sg.load_model(self, model_path=\"saves/gap8/noBNreNorm4/model_gen.pt\" )\n",
    "\n",
    "generator8 = Generator8()\n",
    "generator8 = generator8.to(sg.TCfg.device)\n",
    "generator8 = generator8.requires_grad_(False)\n",
    "generator8 = generator8.eval()\n",
    "sg.lowResGenerators[8] = generator8"
   ]
  },
  {
   "cell_type": "markdown",
   "metadata": {},
   "source": [
    "### Generator 16pix"
   ]
  },
  {
   "cell_type": "code",
   "execution_count": null,
   "metadata": {},
   "outputs": [],
   "source": [
    "\n",
    "\n",
    "class Generator16(sg.GeneratorTemplate):\n",
    "\n",
    "    def __init__(self):\n",
    "        super(Generator16, self).__init__(16,1)\n",
    "        self.amplitude = 4\n",
    "\n",
    "        self.noise2latent = self.createLatent()\n",
    "\n",
    "        self.encoders =  nn.ModuleList([\n",
    "            self.encblock( (1+self.latentChannels) /self.baseChannels,\n",
    "                               1, 3, norm=False),\n",
    "            self.encblock( 1,  1, 3, dopadding=True),\n",
    "            self.encblock( 1,  2, 3, stride=2),\n",
    "            self.encblock( 2,  2, 3, dopadding=True),\n",
    "            self.encblock( 2,  4, 3, stride=2),\n",
    "            self.encblock( 4,  4, 3, dopadding=True),\n",
    "            self.encblock( 4,  8, 3, stride=2),\n",
    "            self.encblock( 8,  8, 3, dopadding=True),\n",
    "            self.encblock( 8, 16, 3, stride=2),\n",
    "            self.encblock(16, 16, 3, dopadding=True),\n",
    "            ])\n",
    "\n",
    "        self.fcLink = self.createFClink()\n",
    "\n",
    "        self.decoders = nn.ModuleList([\n",
    "            self.decblock(32, 16, 3, dopadding=True),\n",
    "            self.decblock(32,  8, 4, stride=2),\n",
    "            self.decblock(16,  8, 3, dopadding=True),\n",
    "            self.decblock(16,  4, 4, stride=2),\n",
    "            self.decblock( 8,  4, 3, dopadding=True),\n",
    "            self.decblock( 8,  2, 4, stride=2),\n",
    "            self.decblock( 4,  2, 3, dopadding=True),\n",
    "            self.decblock( 4,  1, 4, stride=2),\n",
    "            self.decblock( 2,  1, 3, dopadding=True),\n",
    "            self.decblock( 2,  1, 3, norm=False),\n",
    "            ])\n",
    "\n",
    "        self.lastTouch = self.createLastTouch()\n",
    "\n",
    "        #sg.load_model(self, model_path=\"model_1_gen.pt\" )\n",
    "\n",
    "generator16 = Generator16()\n",
    "generator16 = generator16.to(sg.TCfg.device)\n",
    "sg.lowResGenerators[16] = generator16\n",
    "\n",
    "\n"
   ]
  },
  {
   "cell_type": "markdown",
   "metadata": {},
   "source": [
    "### <font style=\"color:lightblue\">Generator</font>"
   ]
  },
  {
   "cell_type": "code",
   "execution_count": null,
   "metadata": {},
   "outputs": [],
   "source": [
    "sg.generator = sg.lowResGenerators[sg.DCfg.gapW]\n",
    "sg.optimizer_G = sg.createOptimizer(sg.generator, sg.TCfg.learningRateG)\n",
    "model_summary = summary(sg.generator, input_data=[ [sg.refImages[[0],...], sg.refNoises[[0],...]] ] ).__str__()\n",
    "print(model_summary)\n"
   ]
  },
  {
   "cell_type": "markdown",
   "metadata": {},
   "source": [
    "### <font style=\"color:lightblue\">Discriminator</font>"
   ]
  },
  {
   "cell_type": "code",
   "execution_count": null,
   "metadata": {},
   "outputs": [],
   "source": [
    "\n",
    "class Discriminator(sg.DiscriminatorTemplate):\n",
    "    def __init__(self):\n",
    "        super(Discriminator, self).__init__()\n",
    "        self.param = nn.Parameter(torch.zeros(1))\n",
    "    def forward(self, images):\n",
    "        return torch.zeros((images.shape[0],1), device=sg.TCfg.device)\n",
    "\n",
    "\n",
    "sg.discriminator = Discriminator()\n",
    "sg.discriminator = sg.discriminator.to(sg.TCfg.device)\n",
    "model_summary = summary(sg.discriminator, input_data=sg.refImages[0,...] ).__str__()\n",
    "#print(model_summary)\n",
    "#sg.writer.add_graph(sg.discriminator, refImages)\n",
    "\n",
    "sg.optimizer_D = sg.createOptimizer(sg.discriminator, sg.TCfg.learningRateD)\n",
    "\n"
   ]
  },
  {
   "cell_type": "markdown",
   "metadata": {},
   "source": [
    "## <font style=\"color:lightblue\">Restore checkpoint</font>"
   ]
  },
  {
   "cell_type": "code",
   "execution_count": null,
   "metadata": {},
   "outputs": [],
   "source": [
    "sg.scheduler_G = torch.optim.lr_scheduler.StepLR(sg.optimizer_G, 1, gamma=0.999)\n",
    "sg.scheduler_D = torch.optim.lr_scheduler.StepLR(sg.optimizer_D, 1, gamma=0.999)\n",
    "savedCheckPoint = f\"checkPoint_{sg.TCfg.exec}\"\n",
    "sg.epoch, sg.imer, sg.minGEpoch, sg.minGdLoss, sg.startFrom, sg.resAcc = \\\n",
    "    sg.restoreCheckpoint(savedCheckPoint+\".pth\")\n",
    "sg.writer = sg.createWriter(sg.TCfg.logDir, True)\n",
    "#sg.writer.add_graph(sg.generator, ((sg.refImages, sg.refNoises),) )\n",
    "#sg.writer.add_graph(sg.discriminator, refImages)\n",
    "#sg.epoch, sg.imer, sg.minGEpoch, sg.minGdLoss, sg.startFrom = 0, 0, 0, 1, 0\n",
    "sg.initialTest()"
   ]
  },
  {
   "cell_type": "code",
   "execution_count": null,
   "metadata": {},
   "outputs": [],
   "source": [
    "#print(\"amplitude: \", sg.generator.amplitude.item(), 2 * torch.sigmoid(sg.generator.amplitude).item() )\n",
    "print(sg.epoch, sg.imer, sg.minGEpoch, sg.minGdLoss, sg.startFrom)\n",
    "lastLR = sg.scheduler_D.get_last_lr()[0]\n",
    "print(f\"Initial LR : {lastLR:.6e}  {lastLR/sg.TCfg.learningRateD:.3f}\")\n",
    "#print(f\"{sg.normRec.item():e}, {sg.normMSE.item():e}, {sg.normL1L.item():e}\")\n",
    "#print(f\"{sg.normTestRec.item():e}, {sg.normTestMSE.item():e}, {sg.normTestL1L.item():e}\")\n",
    "sg.freeGPUmem()\n"
   ]
  },
  {
   "cell_type": "markdown",
   "metadata": {},
   "source": [
    "## <font style=\"color:lightblue\">Execute</font>"
   ]
  },
  {
   "cell_type": "code",
   "execution_count": null,
   "metadata": {},
   "outputs": [],
   "source": [
    "sg.noAdv = True\n",
    "sg.dataLoader = sg.createDataLoader(trainSet, num_workers=16)\n",
    "sg.testLoader = sg.createDataLoader(testSet , num_workers=16)\n",
    "#sg.scheduler_G = None\n",
    "#sg.scheduler_D = None\n",
    "\n",
    "#sg.normRec, sg.normMSE, sg.normL1L, _ , _ = sg.summarizeSet(sg.dataLoader)\n",
    "#sg.normTestRec, sg.normTestMSE, sg.normTestL1L, _ , _ = sg.summarizeSet(sg.testLoader)\n",
    "sg.normRec, sg.normMSE, sg.normL1L = 4.031e-03, 6.579e-03, 2.047e-02\n",
    "sg.normTestRec, sg.normTestMSE, sg.normTestL1L = 4.868e-03, 1.382e-03, 1.369e-02\n",
    "if sg.epoch == 0 :\n",
    "    if sg.normRec == 1:\n",
    "        sg.normRec, sg.normMSE, sg.normL1L, _ , _ = sg.summarizeSet(sg.dataLoader)\n",
    "        sg.normTestRec, sg.normTestMSE, sg.normTestL1L, _ , _ = sg.summarizeSet(sg.testLoader)\n",
    "    #sg.minGdLoss = sg.normTestRec\n",
    "    #with torch.no_grad(): sg.generator.amplitude[()] = -math.log(1+2/sg.normMSE)\n",
    "\n",
    "#torch.autograd.set_detect_anomaly(True)\n",
    "\n",
    "\n",
    "\n",
    "#def my_afterEachEpoch(epoch) :\n",
    "#    if sg.minGEpoch < 600 :\n",
    "#        return\n",
    "#    if not sg.dataLoader is None :\n",
    "#        del sg.dataLoader\n",
    "#        sg.freeGPUmem()\n",
    "#    if sg.TCfg.batchSize < 131072 :\n",
    "#    sg.TCfg.batchSize += round( 0.01 * sg.TCfg.batchSize )\n",
    "#    sg.dataLoader = sg.createTrainLoader(trainSet, num_workers=24)\n",
    "#    print(\"Batch size: \",sg.TCfg.batchSize)\n",
    "#sg.afterEachEpoch = my_afterEachEpoch\n",
    "\n",
    "\n",
    "lastLR = sg.scheduler_D.get_last_lr()[0]\n",
    "print(f\"Initial LR : {lastLR:.6e}  {lastLR/sg.TCfg.learningRateD:.3f}\")\n",
    "def my_beforeReport() :\n",
    "    lastLR = sg.scheduler_D.get_last_lr()[0]\n",
    "    print(f\"LR : {lastLR:.6e} {lastLR/sg.TCfg.learningRateD:.3f}\")\n",
    "    if sg.scheduler_D.get_last_lr()[0]  <  0.1 * sg.TCfg.learningRateD :\n",
    "        return\n",
    "    if sg.scheduler_G is not None :\n",
    "        sg.scheduler_G.step()\n",
    "    if sg.scheduler_D is not None :\n",
    "        sg.scheduler_D.step()\n",
    "    return\n",
    "sg.beforeReport = my_beforeReport\n",
    "\n",
    "\n",
    "sg.noAdv = True\n",
    "\n",
    "try :\n",
    "    sg.train(savedCheckPoint)\n",
    "except :\n",
    "    del sg.dataLoader\n",
    "    del sg.testLoader\n",
    "    sg.freeGPUmem()\n",
    "    1/10 # to release Jupyuter memory in the next step\n",
    "    print(sg.normRec, sg.normMSE, sg.normL1L)\n",
    "    print(sg.normTestRec, sg.normTestMSE, sg.normTestL1L)\n",
    "    sg.epoch -= 1\n",
    "    raise\n",
    "\n"
   ]
  },
  {
   "cell_type": "markdown",
   "metadata": {},
   "source": [
    "## <font style=\"color:lightblue\">Post</font>"
   ]
  },
  {
   "cell_type": "code",
   "execution_count": null,
   "metadata": {},
   "outputs": [],
   "source": [
    "print (sg.generator.amplitude.item(), 2 * torch.sigmoid(sg.generator.amplitude).item() )\n",
    "sg.initialTest()\n"
   ]
  },
  {
   "cell_type": "code",
   "execution_count": null,
   "metadata": {},
   "outputs": [],
   "source": [
    "sg.testMe(trainSet, 5)"
   ]
  },
  {
   "cell_type": "markdown",
   "metadata": {},
   "source": [
    "### <font style=\"color:lightblue\">Save results</font>"
   ]
  },
  {
   "cell_type": "code",
   "execution_count": null,
   "metadata": {},
   "outputs": [],
   "source": [
    "sg.saveModels()"
   ]
  },
  {
   "cell_type": "code",
   "execution_count": null,
   "metadata": {},
   "outputs": [],
   "source": []
  }
 ],
 "metadata": {
  "kernelspec": {
   "display_name": "pyenv",
   "language": "python",
   "name": "python3"
  },
  "language_info": {
   "codemirror_mode": {
    "name": "ipython",
    "version": 3
   },
   "file_extension": ".py",
   "mimetype": "text/x-python",
   "name": "python",
   "nbconvert_exporter": "python",
   "pygments_lexer": "ipython3",
   "version": "3.12.3"
  }
 },
 "nbformat": 4,
 "nbformat_minor": 2
}
