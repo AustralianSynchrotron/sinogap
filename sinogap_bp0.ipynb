{
 "cells": [
  {
   "cell_type": "markdown",
   "metadata": {},
   "source": [
    "## <font style=\"color:lightblue\">Header</font>"
   ]
  },
  {
   "cell_type": "markdown",
   "metadata": {},
   "source": [
    "### <font style=\"color:lightblue\">Imports</font>"
   ]
  },
  {
   "cell_type": "code",
   "execution_count": 1,
   "metadata": {},
   "outputs": [],
   "source": [
    "#%load_ext autoreload\n",
    "#%autoreload 2\n",
    "\n",
    "import math\n",
    "import numpy as np\n",
    "import torch\n",
    "import torch.nn as nn\n",
    "from torchinfo import summary\n",
    "import itertools\n",
    "import random\n",
    "\n",
    "import sinogap_module_alt_0 as sg\n",
    "\n",
    "\n"
   ]
  },
  {
   "cell_type": "markdown",
   "metadata": {},
   "source": [
    "### <font style=\"color:lightblue\">Redefine</font>"
   ]
  },
  {
   "cell_type": "code",
   "execution_count": 2,
   "metadata": {},
   "outputs": [],
   "source": [
    "sg.plt.rcParams['figure.dpi']=223\n",
    "\n",
    "\n",
    "\n"
   ]
  },
  {
   "cell_type": "markdown",
   "metadata": {},
   "source": [
    "### <font style=\"color:lightblue\">Configs</font>"
   ]
  },
  {
   "cell_type": "code",
   "execution_count": 3,
   "metadata": {},
   "outputs": [],
   "source": [
    "sg.set_seed(7)\n",
    "\n",
    "sg.TCfg = sg.TCfgClass(\n",
    "     exec = 0\n",
    "    ,nofEpochs = None\n",
    "    ,latentDim = 64\n",
    "    ,batchSize = 2**12 # 16384 # 4096 # 98304 # 131072\n",
    "    ,batchSplit = 1\n",
    "    ,labelSmoothFac = 0.1 # For Fake labels (or set to 0.0 for no smoothing).\n",
    "    ,learningRateD = 0.0001\n",
    "    ,learningRateG = 0.0001\n",
    ")\n",
    "\n",
    "sg.DCfg = sg.DCfgClass(4)\n"
   ]
  },
  {
   "cell_type": "markdown",
   "metadata": {},
   "source": [
    "### <font style=\"color:lightblue\">Raw Read</font>"
   ]
  },
  {
   "cell_type": "code",
   "execution_count": 4,
   "metadata": {},
   "outputs": [
    {
     "name": "stdout",
     "output_type": "stream",
     "text": [
      "Loading train set 1 of 9: 18515.Lamb1_Eiger_7m_45keV_360Scan ... Done\n",
      "Loading train set 2 of 9: 18692a.ExpChicken6mGyShift ... Done\n",
      "Loading train set 3 of 9: 18692b_input_PhantomM ... Done\n",
      "Loading train set 4 of 9: 18692b.MinceO ... Done\n",
      "Loading train set 5 of 9: 19022g.11-EggLard ... Done\n",
      "Loading train set 6 of 9: 19736b.09_Feb.4176862R_Eig_Threshold-4keV ... Done\n",
      "Loading train set 7 of 9: 19736c.8733147R_Eig_Threshold-8keV.SAMPLE_Y1 ... Done\n",
      "Loading train set 8 of 9: 20982b.04_774784R ... Done\n",
      "Loading train set 9 of 9: 23574.8965435L.Eiger.32kev_org ... Done\n",
      "Loading test set ... Done\n"
     ]
    }
   ],
   "source": [
    "trainSet = sg.createTrainSet()\n",
    "testSet = sg.createTestSet()"
   ]
  },
  {
   "cell_type": "markdown",
   "metadata": {},
   "source": [
    "### <font style=\"color:lightblue\">Show</font>"
   ]
  },
  {
   "cell_type": "code",
   "execution_count": 5,
   "metadata": {},
   "outputs": [
    {
     "name": "stdout",
     "output_type": "stream",
     "text": [
      "4.748e-01, 1.956e-02, 4.272e-01, 5.260e-01\n"
     ]
    },
    {
     "data": {
      "image/png": "[encoded data removed]",
      "text/plain": [
       "<Figure size 1427.2x1070.4 with 1 Axes>"
      ]
     },
     "metadata": {},
     "output_type": "display_data"
    }
   ],
   "source": [
    "from torchvision import transforms\n",
    "\n",
    "def createReferences(tSet, toShow = 0) :\n",
    "    global examples\n",
    "    examples = sg.examplesDb[sg.DCfg.gapW].copy()\n",
    "    if toShow :\n",
    "        examples.insert(0, examples.pop(toShow))\n",
    "    mytransforms = transforms.Compose([\n",
    "            transforms.Resize(sg.DCfg.sinoSh),\n",
    "            transforms.Normalize(mean=(0.5), std=(1))\n",
    "    ])\n",
    "    refImages = torch.stack( [ mytransforms(tSet.__getitem__(ex, doTransform=False)[0])\n",
    "                               for ex in examples ] ).to(sg.TCfg.device)\n",
    "    #refImages = torch.stack( [ tSet.__getitem__(ex, doTransform=False)[0] for ex in examples ] ).to(TCfg.device)\n",
    "    refNoises = torch.randn((refImages.shape[0],sg.TCfg.latentDim)).to(sg.TCfg.device)\n",
    "    return refImages, refNoises\n",
    "\n",
    "\n",
    "sg.refImages, sg.refNoises = createReferences(testSet, 1)\n",
    "sg.showMe(testSet, 0 )"
   ]
  },
  {
   "cell_type": "markdown",
   "metadata": {
    "notebookRunGroups": {
     "groupValue": "2"
    }
   },
   "source": [
    "## <font style=\"color:lightblue\">Models</font>"
   ]
  },
  {
   "cell_type": "markdown",
   "metadata": {},
   "source": [
    "### Generator 2pix"
   ]
  },
  {
   "cell_type": "code",
   "execution_count": 6,
   "metadata": {},
   "outputs": [
    {
     "name": "stderr",
     "output_type": "stream",
     "text": [
      "/home/user/usr/src/sinogap/sinogap_module_alt_0.py:250: FutureWarning: You are using `torch.load` with `weights_only=False` (the current default value), which uses the default pickle module implicitly. It is possible to construct malicious pickle data which will execute arbitrary code during unpickling (See https://github.com/pytorch/pytorch/blob/main/SECURITY.md#untrusted-models for more details). In a future release, the default value for `weights_only` will be flipped to `True`. This limits the functions that could be executed during unpickling. Arbitrary objects will no longer be allowed to be loaded via this mode unless they are explicitly allowlisted by the user via `torch.serialization.add_safe_globals`. We recommend you start setting `weights_only=True` for any use case where you don't have full control of the loaded file. Please open an issue on GitHub for any issues related to this experimental feature.\n",
      "  model.load_state_dict(torch.load(model_path, map_location=TCfg.device))\n"
     ]
    }
   ],
   "source": [
    "\n",
    "\n",
    "class Generator2(sg.GeneratorTemplate):\n",
    "\n",
    "    def __init__(self):\n",
    "        super(Generator2, self).__init__(2)\n",
    "        self.encoders =  nn.ModuleList([\n",
    "            self.encblock(  1/self.baseChannels,\n",
    "                               1, 3, norm=False),\n",
    "            self.encblock(  1, 1, 3),\n",
    "            self.encblock(  1, 1, 3),\n",
    "            ])\n",
    "        self.fcLink = self.createFClink()\n",
    "        self.decoders = nn.ModuleList([\n",
    "            self.decblock(2, 1, 3),\n",
    "            self.decblock(2, 1, 3),\n",
    "            self.decblock(2, 1, 3, norm=False),\n",
    "            ])\n",
    "        self.lastTouch = self.createLastTouch()\n",
    "        sg.load_model(self, model_path=\"saves/gap2/noBNreNorm/model_gen.pt\" )\n",
    "\n",
    "generator2 = Generator2()\n",
    "generator2 = generator2.to(sg.TCfg.device)\n",
    "generator2 = generator2.requires_grad_(False)\n",
    "generator2 = generator2.eval()\n",
    "sg.lowResGenerators[2] = generator2\n",
    "\n"
   ]
  },
  {
   "cell_type": "markdown",
   "metadata": {},
   "source": [
    "### Generator 4pix"
   ]
  },
  {
   "cell_type": "code",
   "execution_count": 7,
   "metadata": {},
   "outputs": [],
   "source": [
    "\n",
    "\n",
    "class Generator4(sg.GeneratorTemplate):\n",
    "\n",
    "    def __init__(self):\n",
    "        super(Generator4, self).__init__(4)\n",
    "        self.encoders =  nn.ModuleList([\n",
    "            self.encblock( 1/self.baseChannels,\n",
    "                              1, 3, norm=False),\n",
    "            self.encblock( 1, 1, 3),\n",
    "            self.encblock( 1, 2, 3, stride=2),\n",
    "            self.encblock( 2, 2, 3),\n",
    "            self.encblock( 2, 4, 3),\n",
    "            ])\n",
    "        self.fcLink = self.createFClink()\n",
    "        self.decoders = nn.ModuleList([\n",
    "            self.decblock(8, 2, 3),\n",
    "            self.decblock(4, 2, 3),\n",
    "            self.decblock(4, 1, 4, stride=2),\n",
    "            self.decblock(2, 1, 3),\n",
    "            self.decblock(2, 1, 3, norm=False),\n",
    "            ])\n",
    "        self.lastTouch = self.createLastTouch()\n",
    "        sg.load_model(self, model_path=\"saves/gap4/noBN/model_gen.pt\" )\n",
    "\n",
    "generator4 = Generator4()\n",
    "generator4 = generator4.to(sg.TCfg.device)\n",
    "#generator4 = generator4.requires_grad_(False)\n",
    "#generator4 = generator4.eval()\n",
    "sg.lowResGenerators[4] = generator4\n",
    "\n",
    "\n",
    "\n"
   ]
  },
  {
   "cell_type": "markdown",
   "metadata": {},
   "source": [
    "### <font style=\"color:lightblue\">Generator</font>"
   ]
  },
  {
   "cell_type": "code",
   "execution_count": 8,
   "metadata": {},
   "outputs": [
    {
     "name": "stdout",
     "output_type": "stream",
     "text": [
      "==========================================================================================\n",
      "Layer (type:depth-idx)                   Output Shape              Param #\n",
      "==========================================================================================\n",
      "Generator4                               [1, 1, 20, 4]             --\n",
      "├─ModuleList: 1-1                        --                        --\n",
      "│    └─Sequential: 2-1                   [1, 64, 18, 18]           --\n",
      "│    │    └─Conv2d: 3-1                  [1, 64, 18, 18]           640\n",
      "│    │    └─LeakyReLU: 3-2               [1, 64, 18, 18]           --\n",
      "│    └─Sequential: 2-2                   [1, 64, 16, 16]           --\n",
      "│    │    └─Conv2d: 3-3                  [1, 64, 16, 16]           36,928\n",
      "│    │    └─LeakyReLU: 3-4               [1, 64, 16, 16]           --\n",
      "│    └─Sequential: 2-3                   [1, 128, 7, 7]            --\n",
      "│    │    └─Conv2d: 3-5                  [1, 128, 7, 7]            73,856\n",
      "│    │    └─LeakyReLU: 3-6               [1, 128, 7, 7]            --\n",
      "│    └─Sequential: 2-4                   [1, 128, 5, 5]            --\n",
      "│    │    └─Conv2d: 3-7                  [1, 128, 5, 5]            147,584\n",
      "│    │    └─LeakyReLU: 3-8               [1, 128, 5, 5]            --\n",
      "│    └─Sequential: 2-5                   [1, 256, 3, 3]            --\n",
      "│    │    └─Conv2d: 3-9                  [1, 256, 3, 3]            295,168\n",
      "│    │    └─LeakyReLU: 3-10              [1, 256, 3, 3]            --\n",
      "├─Sequential: 1-2                        [1, 256, 3, 3]            --\n",
      "│    └─Flatten: 2-6                      [1, 2304]                 --\n",
      "│    └─Linear: 2-7                       [1, 2304]                 5,310,720\n",
      "│    └─LeakyReLU: 2-8                    [1, 2304]                 --\n",
      "│    └─Linear: 2-9                       [1, 2304]                 5,310,720\n",
      "│    └─LeakyReLU: 2-10                   [1, 2304]                 --\n",
      "│    └─Unflatten: 2-11                   [1, 256, 3, 3]            --\n",
      "├─ModuleList: 1-3                        --                        --\n",
      "│    └─Sequential: 2-12                  [1, 128, 5, 5]            --\n",
      "│    │    └─ConvTranspose2d: 3-11        [1, 128, 5, 5]            589,952\n",
      "│    │    └─LeakyReLU: 3-12              [1, 128, 5, 5]            --\n",
      "│    └─Sequential: 2-13                  [1, 128, 7, 7]            --\n",
      "│    │    └─ConvTranspose2d: 3-13        [1, 128, 7, 7]            295,040\n",
      "│    │    └─LeakyReLU: 3-14              [1, 128, 7, 7]            --\n",
      "│    └─Sequential: 2-14                  [1, 64, 16, 16]           --\n",
      "│    │    └─ConvTranspose2d: 3-15        [1, 64, 16, 16]           262,208\n",
      "│    │    └─LeakyReLU: 3-16              [1, 64, 16, 16]           --\n",
      "│    └─Sequential: 2-15                  [1, 64, 18, 18]           --\n",
      "│    │    └─ConvTranspose2d: 3-17        [1, 64, 18, 18]           73,792\n",
      "│    │    └─LeakyReLU: 3-18              [1, 64, 18, 18]           --\n",
      "│    └─Sequential: 2-16                  [1, 64, 20, 20]           --\n",
      "│    │    └─ConvTranspose2d: 3-19        [1, 64, 20, 20]           73,792\n",
      "│    │    └─LeakyReLU: 3-20              [1, 64, 20, 20]           --\n",
      "├─Sequential: 1-4                        [1, 1, 20, 20]            --\n",
      "│    └─Conv2d: 2-17                      [1, 1, 20, 20]            66\n",
      "│    └─Tanh: 2-18                        [1, 1, 20, 20]            --\n",
      "==========================================================================================\n",
      "Total params: 12,470,466\n",
      "Trainable params: 12,470,466\n",
      "Non-trainable params: 0\n",
      "Total mult-adds (Units.MEGABYTES): 180.03\n",
      "==========================================================================================\n",
      "Input size (MB): 0.00\n",
      "Forward/backward pass size (MB): 1.01\n",
      "Params size (MB): 49.88\n",
      "Estimated Total Size (MB): 50.89\n",
      "==========================================================================================\n"
     ]
    }
   ],
   "source": [
    "sg.generator = sg.lowResGenerators[sg.DCfg.gapW]\n",
    "sg.optimizer_G = sg.createOptimizer(sg.generator, sg.TCfg.learningRateG)\n",
    "model_summary = summary(sg.generator, input_data=[ [sg.refImages[[0],...], sg.refNoises[[0],...]] ] ).__str__()\n",
    "print(model_summary)\n"
   ]
  },
  {
   "cell_type": "markdown",
   "metadata": {},
   "source": [
    "### <font style=\"color:lightblue\">Discriminator</font>"
   ]
  },
  {
   "cell_type": "code",
   "execution_count": 9,
   "metadata": {},
   "outputs": [],
   "source": [
    "\n",
    "class Discriminator(sg.DiscriminatorTemplate):\n",
    "    def __init__(self):\n",
    "        super(Discriminator, self).__init__()\n",
    "        self.param = nn.Parameter(torch.zeros(1))\n",
    "    def forward(self, images):\n",
    "        return torch.zeros((images.shape[0],1), device=sg.TCfg.device)\n",
    "\n",
    "\n",
    "sg.discriminator = Discriminator()\n",
    "sg.discriminator = sg.discriminator.to(sg.TCfg.device)\n",
    "model_summary = summary(sg.discriminator, input_data=sg.refImages[0,...] ).__str__()\n",
    "#print(model_summary)\n",
    "#sg.writer.add_graph(sg.discriminator, refImages)\n",
    "\n",
    "sg.optimizer_D = sg.createOptimizer(sg.discriminator, sg.TCfg.learningRateD)\n",
    "\n"
   ]
  },
  {
   "cell_type": "markdown",
   "metadata": {},
   "source": [
    "## <font style=\"color:lightblue\">Restore checkpoint</font>"
   ]
  },
  {
   "cell_type": "code",
   "execution_count": 10,
   "metadata": {},
   "outputs": [
    {
     "name": "stderr",
     "output_type": "stream",
     "text": [
      "/home/user/usr/src/sinogap/sinogap_module_alt_0.py:1232: FutureWarning: You are using `torch.load` with `weights_only=False` (the current default value), which uses the default pickle module implicitly. It is possible to construct malicious pickle data which will execute arbitrary code during unpickling (See https://github.com/pytorch/pytorch/blob/main/SECURITY.md#untrusted-models for more details). In a future release, the default value for `weights_only` will be flipped to `True`. This limits the functions that could be executed during unpickling. Arbitrary objects will no longer be allowed to be loaded via this mode unless they are explicitly allowlisted by the user via `torch.serialization.add_safe_globals`. We recommend you start setting `weights_only=True` for any use case where you don't have full control of the loaded file. Please open an issue on GitHub for any issues related to this experimental feature.\n",
      "  checkPoint = torch.load(path, map_location=TCfg.device)\n"
     ]
    },
    {
     "name": "stdout",
     "output_type": "stream",
     "text": [
      "Probabilities of reference images: Ref: 0.000e+00, Gen: 0.000e+00, Pre: 0.000e+00.\n",
      "Distances of reference images: REC: 3.769e-04, MSE: 7.526e-05, L1L: 5.530e-03.\n"
     ]
    },
    {
     "data": {
      "image/png": "[encoded data removed]",
      "text/plain": [
       "<Figure size 1427.2x1070.4 with 1 Axes>"
      ]
     },
     "metadata": {},
     "output_type": "display_data"
    }
   ],
   "source": [
    "savedCheckPoint = f\"checkPoint_{sg.TCfg.exec}\"\n",
    "sg.epoch, sg.imer, sg.minGEpoch, sg.minGdLoss, sg.startFrom, sg.resAcc = \\\n",
    "    sg.restoreCheckpoint(savedCheckPoint+\"_hourly.pth\")\n",
    "sg.writer = sg.createWriter(sg.TCfg.logDir, True)\n",
    "sg.writer.add_graph(sg.generator, ((sg.refImages, sg.refNoises),) )\n",
    "#sg.writer.add_graph(sg.discriminator, refImages)\n",
    "sg.startFrom, sg.resAcc = 0, sg.TrainResClass()\n",
    "sg.initialTest()"
   ]
  },
  {
   "cell_type": "code",
   "execution_count": 11,
   "metadata": {},
   "outputs": [],
   "source": [
    "#print(\"amplitude: \", sg.generator.amplitude.item(), 2 * torch.sigmoid(sg.generator.amplitude).item() )\n",
    "#sg.epoch, sg.imer, sg.minGEpoch, sg.minGdLoss, sg.startFrom = 0, 0, 0, 1, 0\n",
    "#print(f\"{sg.normRec.item():e}, {sg.normMSE.item():e}, {sg.normL1L.item():e}\")\n",
    "#print(f\"{sg.normTestRec.item():e}, {sg.normTestMSE.item():e}, {sg.normTestL1L.item():e}\")"
   ]
  },
  {
   "cell_type": "markdown",
   "metadata": {},
   "source": [
    "## <font style=\"color:lightblue\">Execute</font>"
   ]
  },
  {
   "cell_type": "code",
   "execution_count": 13,
   "metadata": {},
   "outputs": [
    {
     "name": "stdout",
     "output_type": "stream",
     "text": [
      "Epoch: 210 (205).  L1L: 0.515  MSE: 0.311  Rec: 0.233 (Train: 0.214, Test: 0.505 | 0.501).\n",
      "TT: 0.00,  FT: 0.00,  HD: 3.451e+01,  GP: 0.000, 0.000 \n",
      "TF: 0.00,  FF: 0.00,  LD: 4.420e-04,  R : 0.000.\n"
     ]
    },
    {
     "data": {
      "image/png": "[encoded data removed]",
      "text/plain": [
       "<Figure size 1427.2x1070.4 with 1 Axes>"
      ]
     },
     "metadata": {},
     "output_type": "display_data"
    },
    {
     "name": "stderr",
     "output_type": "stream",
     "text": [
      "  5%|▍         | 106/2145 [00:55<17:47,  1.91it/s]\n"
     ]
    },
    {
     "name": "stdout",
     "output_type": "stream",
     "text": [
      "0.001262 0.001796 0.01068\n",
      "0.0004515 0.0002116 0.005043\n"
     ]
    },
    {
     "ename": "KeyboardInterrupt",
     "evalue": "",
     "output_type": "error",
     "traceback": [
      "\u001b[0;31m---------------------------------------------------------------------------\u001b[0m",
      "\u001b[0;31mKeyboardInterrupt\u001b[0m                         Traceback (most recent call last)",
      "Cell \u001b[0;32mIn[13], line 54\u001b[0m\n\u001b[1;32m     51\u001b[0m sg\u001b[38;5;241m.\u001b[39mnoAdv \u001b[38;5;241m=\u001b[39m \u001b[38;5;28;01mTrue\u001b[39;00m\n\u001b[1;32m     53\u001b[0m \u001b[38;5;28;01mtry\u001b[39;00m :\n\u001b[0;32m---> 54\u001b[0m     \u001b[43msg\u001b[49m\u001b[38;5;241;43m.\u001b[39;49m\u001b[43mtrain\u001b[49m\u001b[43m(\u001b[49m\u001b[43msavedCheckPoint\u001b[49m\u001b[43m)\u001b[49m\n\u001b[1;32m     55\u001b[0m \u001b[38;5;28;01mexcept\u001b[39;00m :\n\u001b[1;32m     56\u001b[0m     \u001b[38;5;28;01mdel\u001b[39;00m sg\u001b[38;5;241m.\u001b[39mdataLoader\n",
      "File \u001b[0;32m~/usr/src/sinogap/sinogap_module_alt_0.py:1462\u001b[0m, in \u001b[0;36mtrain\u001b[0;34m(savedCheckPoint)\u001b[0m\n\u001b[1;32m   1460\u001b[0m imer \u001b[38;5;241m+\u001b[39m\u001b[38;5;241m=\u001b[39m nofIm\n\u001b[1;32m   1461\u001b[0m totalIm \u001b[38;5;241m+\u001b[39m\u001b[38;5;241m=\u001b[39m nofIm\n\u001b[0;32m-> 1462\u001b[0m trainRes \u001b[38;5;241m=\u001b[39m \u001b[43mtrain_step\u001b[49m\u001b[43m(\u001b[49m\u001b[43mimages\u001b[49m\u001b[43m)\u001b[49m\n\u001b[1;32m   1463\u001b[0m resAcc \u001b[38;5;241m+\u001b[39m\u001b[38;5;241m=\u001b[39m trainRes \u001b[38;5;241m*\u001b[39m nofIm\n\u001b[1;32m   1464\u001b[0m resAcc\u001b[38;5;241m.\u001b[39mnofIm \u001b[38;5;241m+\u001b[39m\u001b[38;5;241m=\u001b[39m nofIm\n",
      "File \u001b[0;32m~/usr/src/sinogap/sinogap_module_alt_0.py:1341\u001b[0m, in \u001b[0;36mtrain_step\u001b[0;34m(images)\u001b[0m\n\u001b[1;32m   1339\u001b[0m subFakeImages \u001b[38;5;241m=\u001b[39m generator\u001b[38;5;241m.\u001b[39mgenerateImages(procImages[subRange,\u001b[38;5;241m.\u001b[39m\u001b[38;5;241m.\u001b[39m\u001b[38;5;241m.\u001b[39m])\n\u001b[1;32m   1340\u001b[0m \u001b[38;5;28;01mif\u001b[39;00m noAdv :\n\u001b[0;32m-> 1341\u001b[0m     subG_loss \u001b[38;5;241m=\u001b[39m \u001b[43mloss_Rec\u001b[49m\u001b[43m(\u001b[49m\u001b[43m \u001b[49m\u001b[43mprocImages\u001b[49m\u001b[43m[\u001b[49m\u001b[43msubRange\u001b[49m\u001b[43m,\u001b[49m\u001b[43m:\u001b[49m\u001b[43m,\u001b[49m\u001b[43mDCfg\u001b[49m\u001b[38;5;241;43m.\u001b[39;49m\u001b[43mgapRngX\u001b[49m\u001b[43m]\u001b[49m\u001b[43m,\u001b[49m\u001b[43m \u001b[49m\u001b[43msubFakeImages\u001b[49m\u001b[43m[\u001b[49m\u001b[43mDCfg\u001b[49m\u001b[38;5;241;43m.\u001b[39;49m\u001b[43mgapRng\u001b[49m\u001b[43m]\u001b[49m\n\u001b[1;32m   1342\u001b[0m \u001b[43m                        \u001b[49m\u001b[43m,\u001b[49m\u001b[43m \u001b[49m\u001b[43mwghts\u001b[49m\u001b[43m,\u001b[49m\u001b[43m \u001b[49m\u001b[43mnormalizeRec\u001b[49m\u001b[38;5;241;43m=\u001b[39;49m\u001b[43mnormDiff\u001b[49m\u001b[43m[\u001b[49m\u001b[43msubRange\u001b[49m\u001b[43m,\u001b[49m\u001b[38;5;241;43m.\u001b[39;49m\u001b[38;5;241;43m.\u001b[39;49m\u001b[38;5;241;43m.\u001b[39;49m\u001b[43m]\u001b[49m\u001b[43m)\u001b[49m\n\u001b[1;32m   1343\u001b[0m     subGD_loss \u001b[38;5;241m=\u001b[39m subGA_loss \u001b[38;5;241m=\u001b[39m subG_loss\n\u001b[1;32m   1344\u001b[0m \u001b[38;5;28;01melse\u001b[39;00m :\n",
      "File \u001b[0;32m~/usr/src/sinogap/sinogap_module_alt_0.py:935\u001b[0m, in \u001b[0;36mloss_Rec\u001b[0;34m(p_true, p_pred, weights, storePerIm, normalizeRec)\u001b[0m\n\u001b[1;32m    933\u001b[0m     hDindex \u001b[38;5;241m=\u001b[39m loss\u001b[38;5;241m.\u001b[39margmax()\n\u001b[1;32m    934\u001b[0m     lDindex \u001b[38;5;241m=\u001b[39m loss\u001b[38;5;241m.\u001b[39margmin()\n\u001b[0;32m--> 935\u001b[0m     eDinfo \u001b[38;5;241m=\u001b[39m (hDindex, \u001b[43mloss\u001b[49m\u001b[43m[\u001b[49m\u001b[43mhDindex\u001b[49m\u001b[43m]\u001b[49m\u001b[38;5;241;43m.\u001b[39;49m\u001b[43mitem\u001b[49m\u001b[43m(\u001b[49m\u001b[43m)\u001b[49m, lDindex, loss[lDindex]\u001b[38;5;241m.\u001b[39mitem() )\n\u001b[1;32m    936\u001b[0m \u001b[38;5;28;01mreturn\u001b[39;00m applyWeights(loss, weights, storePerIm\u001b[38;5;241m=\u001b[39mstorePerIm)\n",
      "\u001b[0;31mKeyboardInterrupt\u001b[0m: "
     ]
    }
   ],
   "source": [
    "sg.scheduler_G = None\n",
    "sg.scheduler_D = None\n",
    "#torch.optim.lr_scheduler.StepLR(sg.optimizer_G, 1, gamma=0.5).step()\n",
    "#torch.optim.lr_scheduler.StepLR(sg.optimizer_D, 1, gamma=0.5).step()\n",
    "\n",
    "sg.dataLoader = sg.createDataLoader(trainSet, num_workers=16)\n",
    "sg.testLoader = sg.createDataLoader(testSet , num_workers=16)\n",
    "sg.normRec, sg.normMSE, sg.normL1L = 1.262e-03, 1.796e-03, 1.068e-02\n",
    "sg.normTestRec, sg.normTestMSE, sg.normTestL1L = 4.515e-04, 2.116e-04, 5.043e-03\n",
    "#sg.normRec, sg.normMSE, sg.normL1L, _ , _ = sg.summarizeSet(sg.dataLoader)\n",
    "#sg.normTestRec, sg.normTestMSE, sg.normTestL1L, _ , _ = sg.summarizeSet(sg.testLoader)\n",
    "if sg.epoch == 0 :\n",
    "    if sg.normRec == 1:\n",
    "        sg.normRec, sg.normMSE, sg.normL1L, _ , _ = sg.summarizeSet(sg.dataLoader)\n",
    "        sg.normTestRec, sg.normTestMSE, sg.normTestL1L, _ , _ = sg.summarizeSet(sg.testLoader)\n",
    "    #sg.minGdLoss = sg.normTestRec\n",
    "    #with torch.no_grad(): sg.generator.amplitude[()] = -math.log(1+2/sg.normMSE)\n",
    "\n",
    "#torch.autograd.set_detect_anomaly(True)\n",
    "\n",
    "\n",
    "#minGdLossToKeep = sg.minGdLoss\n",
    "#startingEpoch=sg.epoch\n",
    "#def my_afterEachEpoch(epoch) :\n",
    "#    global startingEpoch, minGdLossToKeep\n",
    "#    if sg.minGEpoch < startingEpoch+2 and sg.minGdLoss < minGdLossToKeep :\n",
    "#        sg.minGdLoss = minGdLossToKeep\n",
    "#        return\n",
    "#    for item in itertools.chain( sg.optimizer_D.param_groups, sg.optimizer_G.param_groups ):\n",
    "#        item['lr'] *= 0.99\n",
    "#sg.afterEachEpoch = my_afterEachEpoch\n",
    "\n",
    "#\n",
    "#def my_afterEachEpoch(epoch) :\n",
    "#    if sg.minGEpoch < 600 :\n",
    "#        return\n",
    "#    if not sg.dataLoader is None :\n",
    "#        del sg.dataLoader\n",
    "#        sg.freeGPUmem()\n",
    "#    if sg.TCfg.batchSize < 131072 :\n",
    "#    sg.TCfg.batchSize += round( 0.01 * sg.TCfg.batchSize )\n",
    "#    sg.dataLoader = sg.createTrainLoader(trainSet, num_workers=24)\n",
    "#    print(\"Batch size: \",sg.TCfg.batchSize)\n",
    "#sg.afterEachEpoch = my_afterEachEpoch\n",
    "\n",
    "def my_beforeReport() :\n",
    "    return\n",
    "    print(\"amplitude: \", sg.generator.amplitude.item() )\n",
    "sg.beforeReport = my_beforeReport\n",
    "\n",
    "sg.noAdv = True\n",
    "\n",
    "try :\n",
    "    sg.train(savedCheckPoint)\n",
    "except :\n",
    "    del sg.dataLoader\n",
    "    del sg.testLoader\n",
    "    sg.freeGPUmem()\n",
    "    1/10 # to release Jupyuter memory in the next step\n",
    "    print(sg.normRec, sg.normMSE, sg.normL1L)\n",
    "    print(sg.normTestRec, sg.normTestMSE, sg.normTestL1L)\n",
    "    sg.epoch -= 1\n",
    "    raise\n",
    "\n",
    "\n"
   ]
  },
  {
   "cell_type": "markdown",
   "metadata": {},
   "source": [
    "## <font style=\"color:lightblue\">Post</font>"
   ]
  },
  {
   "cell_type": "code",
   "execution_count": null,
   "metadata": {},
   "outputs": [],
   "source": [
    "print (sg.generator.amplitude.item(), 2 * torch.sigmoid(sg.generator.amplitude).item() )\n",
    "sg.initialTest()\n"
   ]
  },
  {
   "cell_type": "code",
   "execution_count": null,
   "metadata": {},
   "outputs": [],
   "source": [
    "sg.testMe(trainSet, 5)"
   ]
  },
  {
   "cell_type": "markdown",
   "metadata": {},
   "source": [
    "### <font style=\"color:lightblue\">Save results</font>"
   ]
  },
  {
   "cell_type": "code",
   "execution_count": null,
   "metadata": {},
   "outputs": [],
   "source": [
    "sg.saveModels()"
   ]
  },
  {
   "cell_type": "code",
   "execution_count": null,
   "metadata": {},
   "outputs": [],
   "source": []
  }
 ],
 "metadata": {
  "kernelspec": {
   "display_name": "pyenv",
   "language": "python",
   "name": "python3"
  },
  "language_info": {
   "codemirror_mode": {
    "name": "ipython",
    "version": 3
   },
   "file_extension": ".py",
   "mimetype": "text/x-python",
   "name": "python",
   "nbconvert_exporter": "python",
   "pygments_lexer": "ipython3",
   "version": "3.12.3"
  }
 },
 "nbformat": 4,
 "nbformat_minor": 2
}
