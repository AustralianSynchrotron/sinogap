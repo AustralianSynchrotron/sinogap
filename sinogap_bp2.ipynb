{
 "cells": [
  {
   "cell_type": "markdown",
   "metadata": {},
   "source": [
    "## <font style=\"color:lightblue\">Header</font>"
   ]
  },
  {
   "cell_type": "markdown",
   "metadata": {},
   "source": [
    "### <font style=\"color:lightblue\">Imports</font>"
   ]
  },
  {
   "cell_type": "code",
   "execution_count": 1,
   "metadata": {},
   "outputs": [],
   "source": [
    "#%load_ext autoreload\n",
    "#%autoreload 2\n",
    "\n",
    "import math\n",
    "import numpy as np\n",
    "import torch\n",
    "import torch.nn as nn\n",
    "from torchinfo import summary\n",
    "import itertools\n",
    "import random\n",
    "\n",
    "import sinogap_module_alt as sg\n",
    "\n",
    "\n"
   ]
  },
  {
   "cell_type": "markdown",
   "metadata": {},
   "source": [
    "### <font style=\"color:lightblue\">Redefine</font>"
   ]
  },
  {
   "cell_type": "code",
   "execution_count": 2,
   "metadata": {},
   "outputs": [],
   "source": [
    "sg.plt.rcParams['figure.dpi']=223\n",
    "\n",
    "\n",
    "\n"
   ]
  },
  {
   "cell_type": "markdown",
   "metadata": {},
   "source": [
    "### <font style=\"color:lightblue\">Configs</font>"
   ]
  },
  {
   "cell_type": "code",
   "execution_count": 3,
   "metadata": {},
   "outputs": [],
   "source": [
    "sg.set_seed(7)\n",
    "\n",
    "sg.TCfg = sg.TCfgClass(\n",
    "     exec = 2\n",
    "    ,nofEpochs = None\n",
    "    ,latentDim = 64\n",
    "    ,batchSize = 2**11\n",
    "    ,batchSplit = 1\n",
    "    ,labelSmoothFac = 0.1 # For Fake labels (or set to 0.0 for no smoothing).\n",
    "    ,learningRateD = 0.0001\n",
    "    ,learningRateG = 0.0001\n",
    ")\n",
    "\n",
    "sg.DCfg = sg.DCfgClass(2)\n"
   ]
  },
  {
   "cell_type": "markdown",
   "metadata": {},
   "source": [
    "### <font style=\"color:lightblue\">Raw Read</font>"
   ]
  },
  {
   "cell_type": "code",
   "execution_count": 4,
   "metadata": {},
   "outputs": [
    {
     "name": "stdout",
     "output_type": "stream",
     "text": [
      "Loading train set 1 of 9: 18515.Lamb1_Eiger_7m_45keV_360Scan ... Done\n",
      "Loading train set 2 of 9: 18692a.ExpChicken6mGyShift ... Done\n",
      "Loading train set 3 of 9: 18692b_input_PhantomM ... Done\n",
      "Loading train set 4 of 9: 18692b.MinceO ... Done\n",
      "Loading train set 5 of 9: 19022g.11-EggLard ... Done\n",
      "Loading train set 6 of 9: 19736b.09_Feb.4176862R_Eig_Threshold-4keV ... Done\n",
      "Loading train set 7 of 9: 19736c.8733147R_Eig_Threshold-8keV.SAMPLE_Y1 ... Done\n",
      "Loading train set 8 of 9: 20982b.04_774784R ... Done\n",
      "Loading train set 9 of 9: 23574.8965435L.Eiger.32kev_org ... Done\n"
     ]
    }
   ],
   "source": [
    "trainSet = sg.createTrainSet()\n",
    "#testSet = sg.createTestSet()"
   ]
  },
  {
   "cell_type": "markdown",
   "metadata": {},
   "source": [
    "### <font style=\"color:lightblue\">Show</font>"
   ]
  },
  {
   "cell_type": "code",
   "execution_count": 5,
   "metadata": {},
   "outputs": [],
   "source": [
    "#sg.refImages, sg.refNoises = sg.createReferences(testSet, 1)\n",
    "#sg.showMe(testSet, 0 )"
   ]
  },
  {
   "cell_type": "markdown",
   "metadata": {
    "notebookRunGroups": {
     "groupValue": "2"
    }
   },
   "source": [
    "## <font style=\"color:lightblue\">Models</font>"
   ]
  },
  {
   "cell_type": "markdown",
   "metadata": {},
   "source": [
    "### Generator 2pix"
   ]
  },
  {
   "cell_type": "code",
   "execution_count": 6,
   "metadata": {},
   "outputs": [],
   "source": [
    "\n",
    "\n",
    "class Generator2(sg.GeneratorTemplate):\n",
    "\n",
    "    def __init__(self):\n",
    "        super(Generator2, self).__init__(2)\n",
    "        self.amplitude = 4\n",
    "        self.encoders =  nn.ModuleList([\n",
    "            self.encblock(  1/self.baseChannels,\n",
    "                               1, 3, padding=1, norm=False),\n",
    "            self.encblock(  1, 1, 3, padding=1),\n",
    "            self.encblock(  1, 1, 3, stride=(2,1), padding=(1,0)),\n",
    "            self.encblock(  1, 1, 3, padding=1),\n",
    "            self.encblock(  1, 1, 3, stride=(2,1), padding=(1,0)),\n",
    "            self.encblock(  1, 1, 3, padding=1),\n",
    "            self.encblock(  1, 1, 3, stride=(2,1), padding=(1,0)),\n",
    "            #self.encblock(  1, 1, 3, padding=1),\n",
    "            #self.encblock(  1, 1, 3, stride=(2,1), padding=(1,0)),\n",
    "            ])\n",
    "        self.fcLink = self.createFClink()\n",
    "        self.decoders = nn.ModuleList([\n",
    "            #self.decblock(2, 1, 3, stride=(2,1), outputPadding=(1,0), padding=(1,0)),\n",
    "            #self.decblock(2, 1, 3, padding=1),\n",
    "            self.decblock(2, 1, 3, stride=(2,1), outputPadding=(1,0), padding=(1,0)),\n",
    "            self.decblock(2, 1, 3, padding=1),\n",
    "            self.decblock(2, 1, 3, stride=(2,1), outputPadding=(1,0), padding=(1,0)),\n",
    "            self.decblock(2, 1, 3, padding=1),\n",
    "            self.decblock(2, 1, 3, stride=(2,1), outputPadding=(1,0), padding=(1,0)),\n",
    "            self.decblock(2, 1, 3, padding=1),\n",
    "            self.decblock(2, 1, 3, padding=1, norm=False),\n",
    "            ])\n",
    "        self.lastTouch = self.createLastTouch()\n",
    "        #sg.load_model(self, model_path=\"saves/gap2/noBNreNorm_SSIM/model_gen.pt\" )\n",
    "\n",
    "#generator2 = Generator2()\n",
    "#generator2 = generator2.to(sg.TCfg.device)\n",
    "#generator2 = generator2.requires_grad_(False)\n",
    "#generator2 = generator2.eval()\n",
    "#sg.lowResGenerators[2] = generator2\n",
    "#\n",
    "#input_data=[ (torch.randn( (1,1,*generator2.sinoSh), device=sg.TCfg.device),\n",
    "#              torch.randn( (1,sg.TCfg.latentDim), device=sg.TCfg.device)) ]\n",
    "#model_summary = summary(generator2, input_data=input_data ).__str__()\n",
    "#print(model_summary)\n",
    "\n",
    "\n"
   ]
  },
  {
   "cell_type": "markdown",
   "metadata": {},
   "source": [
    "### Generator 4pix"
   ]
  },
  {
   "cell_type": "code",
   "execution_count": 7,
   "metadata": {},
   "outputs": [],
   "source": [
    "\n",
    "\n",
    "class Generator4(sg.GeneratorTemplate):\n",
    "\n",
    "    def __init__(self):\n",
    "        super(Generator4, self).__init__(4)\n",
    "        self.amplitude = 4\n",
    "        self.encoders =  nn.ModuleList([\n",
    "            self.encblock( 1/self.baseChannels,\n",
    "                               1, 3, padding=1, norm=False),\n",
    "            self.encblock(  1, 1, 3, padding=1),\n",
    "            self.encblock(  1, 2, 3, stride=(2,2), padding=(1,1)),\n",
    "            self.encblock(  2, 2, 3, padding=1),\n",
    "            self.encblock(  2, 2, 3, stride=(2,1), padding=(1,0)),\n",
    "            self.encblock(  2, 2, 3, padding=1),\n",
    "            self.encblock(  2, 2, 3, stride=(2,1), padding=(1,0)),\n",
    "            self.encblock(  2, 2, 3, padding=1),\n",
    "            self.encblock(  2, 2, 3, stride=(2,1), padding=(1,0)),\n",
    "            ])\n",
    "        self.fcLink = self.createFClink()\n",
    "        self.decoders = nn.ModuleList([\n",
    "            self.decblock(4, 2, 3, stride=(2,1), outputPadding=(1,0), padding=(1,0)),\n",
    "            self.decblock(4, 2, 3, padding=1),\n",
    "            self.decblock(4, 2, 3, stride=(2,1), outputPadding=(1,0), padding=(1,0)),\n",
    "            self.decblock(4, 2, 3, padding=1),\n",
    "            self.decblock(4, 2, 3, stride=(2,1), outputPadding=(1,0), padding=(1,0)),\n",
    "            self.decblock(4, 2, 3, padding=1),\n",
    "            self.decblock(4, 1, 3, stride=(2,2), outputPadding=(1,1), padding=(1,1)),\n",
    "            self.decblock(2, 1, 3, padding=1),\n",
    "            self.decblock(2, 1, 3, padding=1, norm=False),\n",
    "            ])\n",
    "        self.lastTouch = self.createLastTouch()\n",
    "        self.lowResGenerator = Generator2()\n",
    "        #sg.load_model(self, model_path=\"saves/gap4/noBNreNorm_SSIM/model_gen.pt\" )\n",
    "\n",
    "#generator4 = Generator4()\n",
    "#generator4 = generator4.to(sg.TCfg.device)\n",
    "#generator4 = generator4.requires_grad_(False)\n",
    "#generator4 = generator4.eval()\n",
    "#sg.lowResGenerators[4] = generator4\n",
    "#\n",
    "#input_data=[ (torch.randn( (1,1,*generator4.sinoSh), device=sg.TCfg.device),\n",
    "#              torch.randn( (1,sg.TCfg.latentDim), device=sg.TCfg.device)) ]\n",
    "#model_summary = summary(generator4, input_data=input_data ).__str__()\n",
    "#print(model_summary)\n",
    "\n",
    "\n"
   ]
  },
  {
   "cell_type": "markdown",
   "metadata": {},
   "source": [
    "### Generator 8pix"
   ]
  },
  {
   "cell_type": "code",
   "execution_count": 8,
   "metadata": {},
   "outputs": [],
   "source": [
    "\n",
    "\n",
    "class Generator8(sg.GeneratorTemplate):\n",
    "\n",
    "    def __init__(self):\n",
    "        super(Generator8, self).__init__(8)\n",
    "        self.amplitude = 4\n",
    "\n",
    "        self.encoders =  nn.ModuleList([\n",
    "            self.encblock( 1/self.baseChannels,\n",
    "                               1, 3, padding=1, norm=False),\n",
    "            self.encblock(  1, 1, 3, padding=1),\n",
    "            self.encblock(  1, 2, 3, stride=(2,2), padding=(1,1)),\n",
    "            self.encblock(  2, 2, 3, padding=1),\n",
    "            self.encblock(  2, 4, 3, stride=(2,2), padding=(1,1)),\n",
    "            self.encblock(  4, 4, 3, padding=1),\n",
    "            self.encblock(  4, 4, 3, stride=(2,1), padding=(1,0)),\n",
    "            self.encblock(  4, 4, 3, padding=1),\n",
    "            self.encblock(  4, 4, 3, stride=(2,1), padding=(1,0)),\n",
    "            self.encblock(  4, 4, 3, padding=1),\n",
    "            self.encblock(  4, 4, 3, stride=(2,1), padding=(1,0)),\n",
    "            ])\n",
    "\n",
    "        self.fcLink = self.createFClink()\n",
    "\n",
    "        self.decoders = nn.ModuleList([\n",
    "            self.decblock(8, 4, 3, stride=(2,1), outputPadding=(1,0), padding=(1,0)),\n",
    "            self.decblock(8, 4, 3, padding=1),\n",
    "            self.decblock(8, 4, 3, stride=(2,1), outputPadding=(1,0), padding=(1,0)),\n",
    "            self.decblock(8, 4, 3, padding=1),\n",
    "            self.decblock(8, 4, 3, stride=(2,1), outputPadding=(1,0), padding=(1,0)),\n",
    "            self.decblock(8, 4, 3, padding=1),\n",
    "            self.decblock(8, 2, 3, stride=(2,2), outputPadding=(1,1), padding=(1,1)),\n",
    "            self.decblock(4, 2, 3, padding=1),\n",
    "            self.decblock(4, 1, 3, stride=(2,2), outputPadding=(1,1), padding=(1,1)),\n",
    "            self.decblock(2, 1, 3, padding=1),\n",
    "            self.decblock(2, 1, 3, padding=1, norm=False),\n",
    "            ])\n",
    "\n",
    "        self.lastTouch = self.createLastTouch()\n",
    "        self.lowResGenerator = Generator4()\n",
    "        #sg.load_model(self, model_path=\"saves/gap8/noBNreNorm_SSIM/model_gen.pt\" )\n",
    "\n",
    "\n",
    "#generator8 = Generator8()\n",
    "#generator8 = generator8.to(sg.TCfg.device)\n",
    "#generator8 = generator8.requires_grad_(False)\n",
    "#generator8 = generator8.eval()\n",
    "#sg.lowResGenerators[8] = generator8\n",
    "#\n",
    "#input_data=[ (torch.randn( (1,1,*generator8.sinoSh), device=sg.TCfg.device),\n",
    "#              torch.randn( (1,sg.TCfg.latentDim), device=sg.TCfg.device)) ]\n",
    "#model_summary = summary(generator8, input_data=input_data ).__str__()\n",
    "#print(model_summary)\n"
   ]
  },
  {
   "cell_type": "markdown",
   "metadata": {},
   "source": [
    "### Generator 16pix"
   ]
  },
  {
   "cell_type": "code",
   "execution_count": 9,
   "metadata": {},
   "outputs": [],
   "source": [
    "\n",
    "\n",
    "class Generator16(sg.GeneratorTemplate):\n",
    "\n",
    "    def __init__(self):\n",
    "        super(Generator16, self).__init__(16,1)\n",
    "        self.amplitude = 4\n",
    "\n",
    "        self.noise2latent = self.createLatent()\n",
    "\n",
    "        self.encoders =  nn.ModuleList([\n",
    "            self.encblock( (1+self.latentChannels)/self.baseChannels,\n",
    "                               1, 3, padding=1, norm=False),\n",
    "            self.encblock(  1, 1, 3, padding=1),\n",
    "            self.encblock(  1, 2, 3, stride=(2,2), padding=(1,1)),\n",
    "            self.encblock(  2, 2, 3, padding=1),\n",
    "            self.encblock(  2, 4, 3, stride=(2,2), padding=(1,1)),\n",
    "            self.encblock(  4, 4, 3, padding=1),\n",
    "            self.encblock(  4, 8, 3, stride=(2,2), padding=(1,1)),\n",
    "            self.encblock(  8, 8, 3, padding=1),\n",
    "            self.encblock(  8, 8, 3, stride=(2,1), padding=(1,0)),\n",
    "            self.encblock(  8, 8, 3, padding=1),\n",
    "            self.encblock(  8, 8, 3, stride=(2,1), padding=(1,0)),\n",
    "            self.encblock(  8, 8, 3, padding=1),\n",
    "            self.encblock(  8, 8, 3, stride=(2,1), padding=(1,0)),\n",
    "            ])\n",
    "\n",
    "        self.fcLink = self.createFClink()\n",
    "\n",
    "        self.decoders = nn.ModuleList([\n",
    "            self.decblock(16, 8, 3, stride=(2,1), outputPadding=(1,0), padding=(1,0)),\n",
    "            self.decblock(16, 8, 3, padding=1),\n",
    "            self.decblock(16, 8, 3, stride=(2,1), outputPadding=(1,0), padding=(1,0)),\n",
    "            self.decblock(16, 8, 3, padding=1),\n",
    "            self.decblock(16, 8, 3, stride=(2,1), outputPadding=(1,0), padding=(1,0)),\n",
    "            self.decblock(16, 8, 3, padding=1),\n",
    "            self.decblock(16, 4, 3, stride=(2,2), outputPadding=(1,1), padding=(1,1)),\n",
    "            self.decblock( 8, 4, 3, padding=1),\n",
    "            self.decblock( 8, 2, 3, stride=(2,2), outputPadding=(1,1), padding=(1,1)),\n",
    "            self.decblock( 4, 2, 3, padding=1),\n",
    "            self.decblock( 4, 1, 3, stride=(2,2), outputPadding=(1,1), padding=(1,1)),\n",
    "            self.decblock( 2, 1, 3, padding=1),\n",
    "            self.decblock( 2, 1, 3, padding=1, norm=False),\n",
    "            ])\n",
    "\n",
    "        self.lowResGenerator = Generator8()\n",
    "        self.lastTouch = self.createLastTouch()\n",
    "        #sg.load_model(self, model_path=\"saves/gap16/noBNreNorm_SSIM/model_gen.pt\" )\n",
    "\n",
    "#generator16 = Generator16()\n",
    "#generator16 = generator16.to(sg.TCfg.device)\n",
    "#sg.lowResGenerators[16] = generator16\n",
    "#\n",
    "#input_data=[ (torch.randn( (1,1,*generator16.sinoSh), device=sg.TCfg.device),\n",
    "#              torch.randn( (1,sg.TCfg.latentDim), device=sg.TCfg.device)) ]\n",
    "#model_summary = summary(generator16, input_data=input_data ).__str__()\n",
    "#print(model_summary)\n"
   ]
  },
  {
   "cell_type": "markdown",
   "metadata": {},
   "source": [
    "### <font style=\"color:lightblue\">Generator</font>"
   ]
  },
  {
   "cell_type": "code",
   "execution_count": 10,
   "metadata": {},
   "outputs": [
    {
     "name": "stdout",
     "output_type": "stream",
     "text": [
      "==========================================================================================\n",
      "Layer (type:depth-idx)                   Output Shape              Param #\n",
      "==========================================================================================\n",
      "Generator2                               [1, 1, 512, 2]            --\n",
      "├─ModuleList: 1-1                        --                        --\n",
      "│    └─Sequential: 2-1                   [1, 4, 512, 10]           --\n",
      "│    │    └─Conv2d: 3-1                  [1, 4, 512, 10]           40\n",
      "│    │    └─LeakyReLU: 3-2               [1, 4, 512, 10]           --\n",
      "│    └─Sequential: 2-2                   [1, 4, 512, 10]           --\n",
      "│    │    └─Conv2d: 3-3                  [1, 4, 512, 10]           148\n",
      "│    │    └─LeakyReLU: 3-4               [1, 4, 512, 10]           --\n",
      "│    └─Sequential: 2-3                   [1, 4, 256, 8]            --\n",
      "│    │    └─Conv2d: 3-5                  [1, 4, 256, 8]            148\n",
      "│    │    └─LeakyReLU: 3-6               [1, 4, 256, 8]            --\n",
      "│    └─Sequential: 2-4                   [1, 4, 256, 8]            --\n",
      "│    │    └─Conv2d: 3-7                  [1, 4, 256, 8]            148\n",
      "│    │    └─LeakyReLU: 3-8               [1, 4, 256, 8]            --\n",
      "│    └─Sequential: 2-5                   [1, 4, 128, 6]            --\n",
      "│    │    └─Conv2d: 3-9                  [1, 4, 128, 6]            148\n",
      "│    │    └─LeakyReLU: 3-10              [1, 4, 128, 6]            --\n",
      "│    └─Sequential: 2-6                   [1, 4, 128, 6]            --\n",
      "│    │    └─Conv2d: 3-11                 [1, 4, 128, 6]            148\n",
      "│    │    └─LeakyReLU: 3-12              [1, 4, 128, 6]            --\n",
      "│    └─Sequential: 2-7                   [1, 4, 64, 4]             --\n",
      "│    │    └─Conv2d: 3-13                 [1, 4, 64, 4]             148\n",
      "│    │    └─LeakyReLU: 3-14              [1, 4, 64, 4]             --\n",
      "├─Sequential: 1-2                        [1, 4, 64, 4]             --\n",
      "│    └─Flatten: 2-8                      [1, 1024]                 --\n",
      "│    └─Linear: 2-9                       [1, 1024]                 1,049,600\n",
      "│    └─LeakyReLU: 2-10                   [1, 1024]                 --\n",
      "│    └─Linear: 2-11                      [1, 1024]                 1,049,600\n",
      "│    └─LeakyReLU: 2-12                   [1, 1024]                 --\n",
      "│    └─Unflatten: 2-13                   [1, 4, 64, 4]             --\n",
      "├─ModuleList: 1-3                        --                        --\n",
      "│    └─Sequential: 2-14                  [1, 4, 128, 6]            --\n",
      "│    │    └─ConvTranspose2d: 3-15        [1, 4, 128, 6]            292\n",
      "│    │    └─LeakyReLU: 3-16              [1, 4, 128, 6]            --\n",
      "│    └─Sequential: 2-15                  [1, 4, 128, 6]            --\n",
      "│    │    └─ConvTranspose2d: 3-17        [1, 4, 128, 6]            292\n",
      "│    │    └─LeakyReLU: 3-18              [1, 4, 128, 6]            --\n",
      "│    └─Sequential: 2-16                  [1, 4, 256, 8]            --\n",
      "│    │    └─ConvTranspose2d: 3-19        [1, 4, 256, 8]            292\n",
      "│    │    └─LeakyReLU: 3-20              [1, 4, 256, 8]            --\n",
      "│    └─Sequential: 2-17                  [1, 4, 256, 8]            --\n",
      "│    │    └─ConvTranspose2d: 3-21        [1, 4, 256, 8]            292\n",
      "│    │    └─LeakyReLU: 3-22              [1, 4, 256, 8]            --\n",
      "│    └─Sequential: 2-18                  [1, 4, 512, 10]           --\n",
      "│    │    └─ConvTranspose2d: 3-23        [1, 4, 512, 10]           292\n",
      "│    │    └─LeakyReLU: 3-24              [1, 4, 512, 10]           --\n",
      "│    └─Sequential: 2-19                  [1, 4, 512, 10]           --\n",
      "│    │    └─ConvTranspose2d: 3-25        [1, 4, 512, 10]           292\n",
      "│    │    └─LeakyReLU: 3-26              [1, 4, 512, 10]           --\n",
      "│    └─Sequential: 2-20                  [1, 4, 512, 10]           --\n",
      "│    │    └─ConvTranspose2d: 3-27        [1, 4, 512, 10]           292\n",
      "│    │    └─LeakyReLU: 3-28              [1, 4, 512, 10]           --\n",
      "├─Sequential: 1-4                        [1, 1, 512, 10]           --\n",
      "│    └─Conv2d: 2-21                      [1, 1, 512, 10]           6\n",
      "│    └─Tanh: 2-22                        [1, 1, 512, 10]           --\n",
      "==========================================================================================\n",
      "Total params: 2,102,178\n",
      "Trainable params: 2,102,178\n",
      "Non-trainable params: 0\n",
      "Total mult-adds (Units.MEGABYTES): 10.09\n",
      "==========================================================================================\n",
      "Input size (MB): 0.02\n",
      "Forward/backward pass size (MB): 1.25\n",
      "Params size (MB): 8.41\n",
      "Estimated Total Size (MB): 9.67\n",
      "==========================================================================================\n"
     ]
    }
   ],
   "source": [
    "generator = Generator2()\n",
    "generator = generator.to(sg.TCfg.device)\n",
    "sg.lowResGenerators[2] = generator\n",
    "\n",
    "sg.generator = sg.lowResGenerators[sg.DCfg.gapW]\n",
    "sg.optimizer_G = sg.createOptimizer(sg.generator, sg.TCfg.learningRateG)\n",
    "input_data=[ (torch.randn( (1,1,*sg.generator.sinoSh), device=sg.TCfg.device),\n",
    "              torch.randn( (1,sg.TCfg.latentDim), device=sg.TCfg.device)) ]\n",
    "#input_data=[ [sg.refImages[[0],...], sg.refNoises[[0],...]] ]\n",
    "model_summary = summary(sg.generator, input_data=input_data ).__str__()\n",
    "print(model_summary)\n"
   ]
  },
  {
   "cell_type": "markdown",
   "metadata": {},
   "source": [
    "### <font style=\"color:lightblue\">Discriminator</font>"
   ]
  },
  {
   "cell_type": "code",
   "execution_count": 11,
   "metadata": {},
   "outputs": [],
   "source": [
    "\n",
    "class Discriminator(sg.DiscriminatorTemplate):\n",
    "    def __init__(self):\n",
    "        super(Discriminator, self).__init__()\n",
    "        self.param = nn.Parameter(torch.zeros(1))\n",
    "    def forward(self, images):\n",
    "        return torch.zeros((images.shape[0],1), device=sg.TCfg.device)\n",
    "\n",
    "\n",
    "sg.discriminator = Discriminator()\n",
    "sg.discriminator = sg.discriminator.to(sg.TCfg.device)\n",
    "#model_summary = summary(sg.discriminator, input_data=sg.refImages[0,...] ).__str__()\n",
    "model_summary = summary(sg.discriminator, input_data=torch.randn( (1,1,*sg.generator.sinoSh), device=sg.TCfg.device) ).__str__()\n",
    "#print(model_summary)\n",
    "#sg.writer.add_graph(sg.discriminator, refImages)\n",
    "\n",
    "sg.optimizer_D = sg.createOptimizer(sg.discriminator, sg.TCfg.learningRateD)\n",
    "\n"
   ]
  },
  {
   "cell_type": "markdown",
   "metadata": {},
   "source": [
    "## <font style=\"color:lightblue\">Restore checkpoint</font>"
   ]
  },
  {
   "cell_type": "code",
   "execution_count": 12,
   "metadata": {},
   "outputs": [
    {
     "name": "stdout",
     "output_type": "stream",
     "text": [
      "(0.012063, 0.006625, 0.055)\n",
      "(0.009692, 0.00137, 0.03605)\n"
     ]
    }
   ],
   "source": [
    "sg.noAdv = True\n",
    "#sg.dataLoader = sg.createDataLoader(trainSet, num_workers=16)\n",
    "#sg.testLoader = sg.createDataLoader(testSet , num_workers=16)\n",
    "\n",
    "#sg.normRec, sg.normMSE, sg.normL1L = sg.summarizeSet(sg.dataLoader)[0:3]\n",
    "#sg.normTestRec, sg.normTestMSE, sg.normTestL1L, = sg.summarizeSet(sg.testLoader)[0:3]\n",
    "sg.normRec, sg.normMSE, sg.normL1L = 3 * 4.021e-03, 6.625e-03, 5.5e-02 #sg.summarizeSet(sg.dataLoader)[0:3]\n",
    "sg.normTestRec, sg.normTestMSE, sg.normTestL1L, = 2 * 4.846e-03, 1.370e-03, 3.605e-02 # sg.summarizeSet(sg.testLoader)[0:3]\n",
    "sg.normSSIM = sg.normL1L\n",
    "sg.normTestSSIM = sg.normTestL1L\n",
    "print((sg.normRec, sg.normMSE, sg.normL1L))\n",
    "print((sg.normTestRec, sg.normTestMSE, sg.normTestL1L))"
   ]
  },
  {
   "cell_type": "code",
   "execution_count": 13,
   "metadata": {},
   "outputs": [],
   "source": [
    "#sg.scheduler_G = torch.optim.lr_scheduler.StepLR(sg.optimizer_G, 1, gamma=1-0.001)\n",
    "#sg.scheduler_D = torch.optim.lr_scheduler.StepLR(sg.optimizer_D, 1, gamma=1-0.001)\n",
    "savedCheckPoint = f\"checkPoint_{sg.TCfg.exec}\"\n",
    "sg.epoch, sg.imer, sg.minGEpoch, sg.minGdLoss, sg.startFrom, sg.resAcc = \\\n",
    "    sg.restoreCheckpoint()#savedCheckPoint+\".pth\")\n",
    "sg.writer = sg.createWriter(sg.TCfg.logDir, True)\n",
    "#sg.writer.add_graph(sg.generator, ((sg.refImages, sg.refNoises),) )\n",
    "#sg.writer.add_graph(sg.discriminator, refImages)\n",
    "#sg.minGdLoss = 100\n",
    "#sg.epoch, sg.imer, sg.minGEpoch, sg.minGdLoss, sg.startFrom = 0, 0, 0, 1, 0\n",
    "#print(sg.epoch, sg.imer, sg.minGEpoch, sg.minGdLoss, sg.scheduler_D.get_last_lr()[0], sg.startFrom)\n",
    "#lastLR = sg.scheduler_D.get_last_lr()[0]\n",
    "#initialLR = sg.TCfg.learningRateD\n",
    "#print(f\"Initial LR : {lastLR} {lastLR/initialLR:.3f}\")\n",
    "#sg.initialTest()\n"
   ]
  },
  {
   "cell_type": "markdown",
   "metadata": {},
   "source": [
    "## <font style=\"color:lightblue\">Execute</font>"
   ]
  },
  {
   "cell_type": "code",
   "execution_count": null,
   "metadata": {},
   "outputs": [
    {
     "name": "stderr",
     "output_type": "stream",
     "text": [
      "\r 94%|█████████▍| 5362/5676 [86:49:48<4:35:42, 52.68s/it]"
     ]
    },
    {
     "name": "stdout",
     "output_type": "stream",
     "text": [
      "Epoch: 1 (0).  L1L: 0.369  MSE: 22.242  Rec: 6.799 (Train: 1.000, Test: 103.178 | 103.178).\n",
      "TT: 0.00,  FT: 0.00,  HD: 2.500e+02,  \n",
      "TF: 0.00,  FF: 0.00,  LD: 7.160e-02,  \n"
     ]
    },
    {
     "name": "stderr",
     "output_type": "stream",
     "text": [
      " 94%|█████████▍| 5363/5676 [86:50:39<4:32:55, 52.32s/it]"
     ]
    }
   ],
   "source": [
    "sg.noAdv = True\n",
    "sg.dataLoader = sg.createDataLoader(trainSet, num_workers=0)\n",
    "#sg.testLoader = sg.createDataLoader(testSet , num_workers=16)\n",
    "#torch.autograd.set_detect_anomaly(True)\n",
    "\n",
    "\n",
    "\n",
    "#\n",
    "#def my_afterEachEpoch(epoch) :\n",
    "#    if sg.minGEpoch < 600 :\n",
    "#        return\n",
    "#    if not sg.dataLoader is None :\n",
    "#        del sg.dataLoader\n",
    "#        sg.freeGPUmem()\n",
    "#    if sg.TCfg.batchSize < 131072 :\n",
    "#    sg.TCfg.batchSize += round( 0.01 * sg.TCfg.batchSize )\n",
    "#    sg.dataLoader = sg.createTrainLoader(trainSet, num_workers=24)\n",
    "#    print(\"Batch size: \",sg.TCfg.batchSize)\n",
    "#sg.afterEachEpoch = my_afterEachEpoch\n",
    "\n",
    "#def my_beforeReport() :\n",
    "#    sg.generator.amplitude = max(4, sg.generator.amplitude * (1-0.0005) )\n",
    "#    print(f\"AMPL : {sg.generator.amplitude}\")\n",
    "#    with open(f\"message_{sg.TCfg.exec}.txt\", 'a') as file:\n",
    "#        file.write(f\"sg.generator.amplitude: {sg.generator.amplitude}\\n\")\n",
    "#    return\n",
    "#sg.beforeReport = my_beforeReport\n",
    "\n",
    "sg.SSIM_MSE = 1\n",
    "sg.ADV_DIF = 0\n",
    "#def my_beforeReport() :\n",
    "#    lastLR = sg.scheduler_D.get_last_lr()[0]\n",
    "#    print(f\"LR : {lastLR} {lastLR/initialLR:.3f}\")\n",
    "#    if lastLR  >  0.01 * initialLR :\n",
    "#        if sg.scheduler_G is not None :\n",
    "#            sg.scheduler_G.step()\n",
    "#        if sg.scheduler_D is not None :\n",
    "#            sg.scheduler_D.step()\n",
    "#    #sg.generator.amplitude = min(4, sg.generator.amplitude * (1+0.0005) )\n",
    "#    #print(f\"AMPL : {sg.generator.amplitude}\")\n",
    "#    #with open(f\"message_{sg.TCfg.exec}.txt\", 'a') as file:\n",
    "#    #    file.write(f\"sg.generator.amplitude: {sg.generator.amplitude}\\n\")\n",
    "#    #message = f\" SSIM/MSE : {sg.SSIM_MSE:.3f}\"\n",
    "#    #print(message)\n",
    "#    #if sg.SSIM_MSE < 0.99 :\n",
    "#    #    sg.SSIM_MSE += 1e-3\n",
    "#    #    with open(f\"message_{sg.TCfg.exec}.txt\", 'a') as file:\n",
    "#    #        file.write(message + \"\\n\")\n",
    "#    return\n",
    "#sg.beforeReport = my_beforeReport\n",
    "\n",
    "sg.noAdv = True\n",
    "\n",
    "try :\n",
    "    sg.train(savedCheckPoint)\n",
    "except :\n",
    "    del sg.dataLoader\n",
    "    #del sg.testLoader\n",
    "    sg.freeGPUmem()\n",
    "    1/10 # to release Jupyuter memory in the next step\n",
    "    sg.epoch -= 1\n",
    "    raise\n",
    "\n"
   ]
  },
  {
   "cell_type": "markdown",
   "metadata": {},
   "source": [
    "## <font style=\"color:lightblue\">Post</font>"
   ]
  },
  {
   "cell_type": "code",
   "execution_count": null,
   "metadata": {},
   "outputs": [],
   "source": [
    "print (sg.generator.amplitude.item(), 2 * torch.sigmoid(sg.generator.amplitude).item() )\n",
    "sg.initialTest()\n"
   ]
  },
  {
   "cell_type": "code",
   "execution_count": null,
   "metadata": {},
   "outputs": [],
   "source": [
    "sg.testMe(trainSet, 5)"
   ]
  },
  {
   "cell_type": "markdown",
   "metadata": {},
   "source": [
    "### <font style=\"color:lightblue\">Save results</font>"
   ]
  },
  {
   "cell_type": "code",
   "execution_count": null,
   "metadata": {},
   "outputs": [],
   "source": [
    "sg.saveModels()"
   ]
  },
  {
   "cell_type": "code",
   "execution_count": null,
   "metadata": {},
   "outputs": [],
   "source": []
  }
 ],
 "metadata": {
  "kernelspec": {
   "display_name": "pyenv",
   "language": "python",
   "name": "python3"
  },
  "language_info": {
   "codemirror_mode": {
    "name": "ipython",
    "version": 3
   },
   "file_extension": ".py",
   "mimetype": "text/x-python",
   "name": "python",
   "nbconvert_exporter": "python",
   "pygments_lexer": "ipython3",
   "version": "3.12.3"
  }
 },
 "nbformat": 4,
 "nbformat_minor": 2
}
