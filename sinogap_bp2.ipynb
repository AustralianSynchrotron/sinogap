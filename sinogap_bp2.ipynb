{
 "cells": [
  {
   "cell_type": "markdown",
   "metadata": {},
   "source": [
    "## <font style=\"color:lightblue\">Header</font>"
   ]
  },
  {
   "cell_type": "markdown",
   "metadata": {},
   "source": [
    "### <font style=\"color:lightblue\">Imports</font>"
   ]
  },
  {
   "cell_type": "code",
   "execution_count": 1,
   "metadata": {},
   "outputs": [],
   "source": [
    "#%load_ext autoreload\n",
    "#%autoreload 2\n",
    "\n",
    "import math\n",
    "import numpy as np\n",
    "import torch\n",
    "import torch.nn as nn\n",
    "from torchinfo import summary\n",
    "import itertools\n",
    "import random\n",
    "import os\n",
    "\n",
    "import sinogap_module_long as sg\n",
    "\n",
    "\n"
   ]
  },
  {
   "cell_type": "markdown",
   "metadata": {},
   "source": [
    "### <font style=\"color:lightblue\">Redefine</font>"
   ]
  },
  {
   "cell_type": "code",
   "execution_count": 2,
   "metadata": {},
   "outputs": [],
   "source": [
    "sg.plt.rcParams['figure.dpi']=223\n",
    "sg.plt.rcParams['axes.spines.left'] = False\n",
    "sg.plt.rcParams['axes.spines.right'] = False\n",
    "sg.plt.rcParams['axes.spines.top'] = False\n",
    "sg.plt.rcParams['axes.spines.bottom'] = False\n",
    "\n",
    "\n"
   ]
  },
  {
   "cell_type": "markdown",
   "metadata": {},
   "source": [
    "### <font style=\"color:lightblue\">Configs</font>"
   ]
  },
  {
   "cell_type": "code",
   "execution_count": 3,
   "metadata": {},
   "outputs": [],
   "source": [
    "sg.set_seed(7)\n",
    "\n",
    "sg.TCfg = sg.TCfgClass(\n",
    "     exec = 2\n",
    "    ,nofEpochs = None\n",
    "    ,latentDim = 64\n",
    "    ,batchSize = 2**8\n",
    "    ,batchSplit = 2**0\n",
    "    ,labelSmoothFac = 0.1 # For Fake labels (or set to 0.0 for no smoothing).\n",
    "    ,learningRateD = 1e-3\n",
    "    ,learningRateG = 1e-3\n",
    "    ,dataDir = '/dev/shm/sinogapData'\n",
    ")\n",
    "\n",
    "sg.DCfg = sg.DCfgClass(2)\n",
    "\n",
    "#os.environ[\"CTAS_MMAP_PATH\"] = \"/mnt/ssdData/\"\n"
   ]
  },
  {
   "cell_type": "markdown",
   "metadata": {},
   "source": [
    "### <font style=\"color:lightblue\">Raw Read</font>"
   ]
  },
  {
   "cell_type": "code",
   "execution_count": 4,
   "metadata": {},
   "outputs": [
    {
     "name": "stdout",
     "output_type": "stream",
     "text": [
      "['/dev/shm/sinogapData/18692a.ExpChicken6mGyShift', '/dev/shm/sinogapData/23574.8965435L.Eiger.32kev_sft', '/dev/shm/sinogapData/19022g.11-EggLard', '/dev/shm/sinogapData/18692b.MinceO', '/dev/shm/sinogapData/23574.8965435L.Eiger.32kev_org', '/dev/shm/sinogapData/19736b.09_Feb.4176862R_Eig_Threshold-4keV', '/dev/shm/sinogapData/20982b.04_774784R', '/dev/shm/sinogapData/18515.Lamb1_Eiger_7m_45keV_360Scan', '/dev/shm/sinogapData/19736c.8733147R_Eig_Threshold-8keV.SAMPLE_Y1', '/dev/shm/sinogapData/18692b_input_PhantomM', '/dev/shm/sinogapData/21836b.2024-08-15-mastectomies.4201381L.35kev.20Hz', '/dev/shm/sinogapData/23574h.9230799R.35kev', '/dev/shm/sinogapData/18515.Lamb4_Excised_Eiger_7m_30keV_360Scan.Y1', '/dev/shm/sinogapData/18648.B_Edist.80keV_0m_Eig_Neoprene.Y2', '/dev/shm/sinogapData/19932.10_8093920_35keV', '/dev/shm/sinogapData/19932.14_2442231_23keV', '/dev/shm/sinogapData/19932.16_4193759_60keV']\n",
      "Loading train set 1 of 17: /dev/shm/sinogapData/18692a.ExpChicken6mGyShift ... Done\n",
      "Loading train set 2 of 17: /dev/shm/sinogapData/23574.8965435L.Eiger.32kev_sft ... Done\n",
      "Loading train set 3 of 17: /dev/shm/sinogapData/19022g.11-EggLard ... Done\n",
      "Loading train set 4 of 17: /dev/shm/sinogapData/18692b.MinceO ... Done\n",
      "Loading train set 5 of 17: /dev/shm/sinogapData/23574.8965435L.Eiger.32kev_org ... Done\n",
      "Loading train set 6 of 17: /dev/shm/sinogapData/19736b.09_Feb.4176862R_Eig_Threshold-4keV ... Done\n",
      "Loading train set 7 of 17: /dev/shm/sinogapData/20982b.04_774784R ... Done\n",
      "Loading train set 8 of 17: /dev/shm/sinogapData/18515.Lamb1_Eiger_7m_45keV_360Scan ... Done\n",
      "Loading train set 9 of 17: /dev/shm/sinogapData/19736c.8733147R_Eig_Threshold-8keV.SAMPLE_Y1 ... Done\n",
      "Loading train set 10 of 17: /dev/shm/sinogapData/18692b_input_PhantomM ... Done\n",
      "Loading train set 11 of 17: /dev/shm/sinogapData/21836b.2024-08-15-mastectomies.4201381L.35kev.20Hz ... Done\n",
      "Loading train set 12 of 17: /dev/shm/sinogapData/23574h.9230799R.35kev ... Done\n",
      "Loading train set 13 of 17: /dev/shm/sinogapData/18515.Lamb4_Excised_Eiger_7m_30keV_360Scan.Y1 ... Done\n",
      "Loading train set 14 of 17: /dev/shm/sinogapData/18648.B_Edist.80keV_0m_Eig_Neoprene.Y2 ... Done\n",
      "Loading train set 15 of 17: /dev/shm/sinogapData/19932.10_8093920_35keV ... Done\n",
      "Loading train set 16 of 17: /dev/shm/sinogapData/19932.14_2442231_23keV ... Done\n",
      "Loading train set 17 of 17: /dev/shm/sinogapData/19932.16_4193759_60keV ... Done\n",
      "['/dev/shm/sinogapData/test/19603a.Exposures.70keV_7m_Calf2_Threshold35keV_25ms_Take2', '/dev/shm/sinogapData/test/22280a_input_Day_4_40keV_7m_Threshold20keV_50ms_Y04_no_shell__0.05deg', '/dev/shm/sinogapData/test/18515.Lamb4_Eiger_5m_50keV_360Scan.SAMPLE_Y1', '/dev/shm/sinogapData/test/18692b_input_Phantom0']\n",
      "Loading train set 1 of 4: /dev/shm/sinogapData/test/19603a.Exposures.70keV_7m_Calf2_Threshold35keV_25ms_Take2 ... Done\n",
      "Loading train set 2 of 4: /dev/shm/sinogapData/test/22280a_input_Day_4_40keV_7m_Threshold20keV_50ms_Y04_no_shell__0.05deg ... Done\n",
      "Loading train set 3 of 4: /dev/shm/sinogapData/test/18515.Lamb4_Eiger_5m_50keV_360Scan.SAMPLE_Y1 ... Done\n",
      "Loading train set 4 of 4: /dev/shm/sinogapData/test/18692b_input_Phantom0 ... Done\n"
     ]
    }
   ],
   "source": [
    "sg.trainSet = sg.createDataSet(sg.TCfg.dataDir, sg.listOfTrainData, exclusive=False)\n",
    "sg.testSet = sg.createDataSet(sg.TCfg.dataDir+\"/test\", sg.listOfTestData, exclusive=True)"
   ]
  },
  {
   "cell_type": "markdown",
   "metadata": {},
   "source": [
    "### <font style=\"color:lightblue\">Show</font>"
   ]
  },
  {
   "cell_type": "code",
   "execution_count": 5,
   "metadata": {},
   "outputs": [
    {
     "name": "stdout",
     "output_type": "stream",
     "text": [
      "(0, 252, 320) 6714 (3641, 80)\n",
      "2.142e-01, 2.433e-01, 4.320e-03, 9.717e-01\n"
     ]
    },
    {
     "data": {
      "image/png": "[encoded data removed]",
      "text/plain": [
       "<Figure size 1427.2x1070.4 with 1 Axes>"
      ]
     },
     "metadata": {},
     "output_type": "display_data"
    }
   ],
   "source": [
    "sg.refImages, sg.refNoises, sg.refBoxes = sg.createReferences(sg.testSet, 2)\n",
    "sg.showMe(sg.testSet)\n"
   ]
  },
  {
   "cell_type": "markdown",
   "metadata": {
    "notebookRunGroups": {
     "groupValue": "2"
    }
   },
   "source": [
    "## <font style=\"color:lightblue\">Models</font>"
   ]
  },
  {
   "cell_type": "markdown",
   "metadata": {},
   "source": [
    "### Generator 2pix"
   ]
  },
  {
   "cell_type": "code",
   "execution_count": 6,
   "metadata": {},
   "outputs": [],
   "source": [
    "\n",
    "\n",
    "class Generator2(sg.GeneratorTemplate):\n",
    "\n",
    "    def __init__(self):\n",
    "        super(Generator2, self).__init__(2, batchNorm=True)\n",
    "        self.amplitude = 4 # found by training to optimize it (3.3)\n",
    "        self.encoders =  nn.ModuleList([\n",
    "            self.encblock(  1/self.baseChannels,\n",
    "                               1, 3, padding=1, norm=False),\n",
    "            self.encblock(  1, 1, 3, padding=1),\n",
    "            self.encblock(  1, 2, 3, stride=(2,1), padding=(1,0)),\n",
    "            self.encblock(  2, 2, 3, padding=1),\n",
    "            self.encblock(  2, 4, 3, stride=(2,1), padding=(1,0)),\n",
    "            self.encblock(  4, 4, 3, padding=1),\n",
    "            self.encblock(  4, 8, 3, stride=(2,1), padding=(1,0)),\n",
    "            self.encblock(  8, 8, 3, padding=1),\n",
    "            self.encblock(  8,16, 3, stride=(2,1), padding=(1,0)),\n",
    "            ])\n",
    "        self.fcLink = self.createFClink()\n",
    "        self.decoders = nn.ModuleList([\n",
    "            self.decblock(32, 8, 3, stride=(2,1), outputPadding=(1,0), padding=(1,0)),\n",
    "            self.decblock(16, 8, 3, padding=1),\n",
    "            self.decblock(16, 4, 3, stride=(2,1), outputPadding=(1,0), padding=(1,0)),\n",
    "            self.decblock( 8, 4, 3, padding=1),\n",
    "            self.decblock( 8, 2, 3, stride=(2,1), outputPadding=(1,0), padding=(1,0)),\n",
    "            self.decblock( 4, 2, 3, padding=1),\n",
    "            self.decblock( 4, 1, 3, stride=(2,1), outputPadding=(1,0), padding=(1,0)),\n",
    "            self.decblock( 2, 1, 3, padding=1),\n",
    "            self.decblock( 2, 1, 3, padding=1, norm=False),\n",
    "            ])\n",
    "        self.lastTouch = self.createLastTouch()\n",
    "        #sg.load_model(self, model_path=\"model_3_gen.pt\" )\n",
    "        #self.amplitude = nn.Parameter(torch.ones(1))\n",
    "\n",
    "\n",
    "generator2 = Generator2()\n",
    "generator2 = generator2.to(sg.TCfg.device)\n",
    "#generator2 = generator2.requires_grad_(False)\n",
    "generator2 = generator2.eval()\n",
    "sg.lowResGenerators[2] = generator2\n",
    "\n"
   ]
  },
  {
   "cell_type": "markdown",
   "metadata": {},
   "source": [
    "### <font style=\"color:lightblue\">Generator</font>"
   ]
  },
  {
   "cell_type": "code",
   "execution_count": 7,
   "metadata": {},
   "outputs": [
    {
     "name": "stdout",
     "output_type": "stream",
     "text": [
      "torch.Size([4, 1, 512, 10]) torch.Size([1, 1, 512, 10])\n",
      "==========================================================================================\n",
      "Layer (type:depth-idx)                   Output Shape              Param #\n",
      "==========================================================================================\n",
      "Generator2                               [1, 1, 512, 2]            --\n",
      "├─ModuleList: 1-1                        --                        --\n",
      "│    └─Sequential: 2-1                   [1, 4, 512, 10]           --\n",
      "│    │    └─Conv2d: 3-1                  [1, 4, 512, 10]           40\n",
      "│    │    └─LeakyReLU: 3-2               [1, 4, 512, 10]           --\n",
      "│    └─Sequential: 2-2                   [1, 4, 512, 10]           --\n",
      "│    │    └─Conv2d: 3-3                  [1, 4, 512, 10]           144\n",
      "│    │    └─BatchNorm2d: 3-4             [1, 4, 512, 10]           8\n",
      "│    │    └─LeakyReLU: 3-5               [1, 4, 512, 10]           --\n",
      "│    └─Sequential: 2-3                   [1, 8, 256, 8]            --\n",
      "│    │    └─Conv2d: 3-6                  [1, 8, 256, 8]            288\n",
      "│    │    └─BatchNorm2d: 3-7             [1, 8, 256, 8]            16\n",
      "│    │    └─LeakyReLU: 3-8               [1, 8, 256, 8]            --\n",
      "│    └─Sequential: 2-4                   [1, 8, 256, 8]            --\n",
      "│    │    └─Conv2d: 3-9                  [1, 8, 256, 8]            576\n",
      "│    │    └─BatchNorm2d: 3-10            [1, 8, 256, 8]            16\n",
      "│    │    └─LeakyReLU: 3-11              [1, 8, 256, 8]            --\n",
      "│    └─Sequential: 2-5                   [1, 16, 128, 6]           --\n",
      "│    │    └─Conv2d: 3-12                 [1, 16, 128, 6]           1,152\n",
      "│    │    └─BatchNorm2d: 3-13            [1, 16, 128, 6]           32\n",
      "│    │    └─LeakyReLU: 3-14              [1, 16, 128, 6]           --\n",
      "│    └─Sequential: 2-6                   [1, 16, 128, 6]           --\n",
      "│    │    └─Conv2d: 3-15                 [1, 16, 128, 6]           2,304\n",
      "│    │    └─BatchNorm2d: 3-16            [1, 16, 128, 6]           32\n",
      "│    │    └─LeakyReLU: 3-17              [1, 16, 128, 6]           --\n",
      "│    └─Sequential: 2-7                   [1, 32, 64, 4]            --\n",
      "│    │    └─Conv2d: 3-18                 [1, 32, 64, 4]            4,608\n",
      "│    │    └─BatchNorm2d: 3-19            [1, 32, 64, 4]            64\n",
      "│    │    └─LeakyReLU: 3-20              [1, 32, 64, 4]            --\n",
      "│    └─Sequential: 2-8                   [1, 32, 64, 4]            --\n",
      "│    │    └─Conv2d: 3-21                 [1, 32, 64, 4]            9,216\n",
      "│    │    └─BatchNorm2d: 3-22            [1, 32, 64, 4]            64\n",
      "│    │    └─LeakyReLU: 3-23              [1, 32, 64, 4]            --\n",
      "│    └─Sequential: 2-9                   [1, 64, 32, 2]            --\n",
      "│    │    └─Conv2d: 3-24                 [1, 64, 32, 2]            18,432\n",
      "│    │    └─BatchNorm2d: 3-25            [1, 64, 32, 2]            128\n",
      "│    │    └─LeakyReLU: 3-26              [1, 64, 32, 2]            --\n",
      "├─Sequential: 1-2                        [1, 64, 32, 2]            --\n",
      "│    └─Flatten: 2-10                     [1, 4096]                 --\n",
      "│    └─Linear: 2-11                      [1, 4096]                 16,781,312\n",
      "│    └─LeakyReLU: 2-12                   [1, 4096]                 --\n",
      "│    └─Linear: 2-13                      [1, 4096]                 16,781,312\n",
      "│    └─LeakyReLU: 2-14                   [1, 4096]                 --\n",
      "│    └─Unflatten: 2-15                   [1, 64, 32, 2]            --\n",
      "├─ModuleList: 1-3                        --                        --\n",
      "│    └─Sequential: 2-16                  [1, 32, 64, 4]            --\n",
      "│    │    └─ConvTranspose2d: 3-27        [1, 32, 64, 4]            36,864\n",
      "│    │    └─BatchNorm2d: 3-28            [1, 32, 64, 4]            64\n",
      "│    │    └─LeakyReLU: 3-29              [1, 32, 64, 4]            --\n",
      "│    └─Sequential: 2-17                  [1, 32, 64, 4]            --\n",
      "│    │    └─ConvTranspose2d: 3-30        [1, 32, 64, 4]            18,432\n",
      "│    │    └─BatchNorm2d: 3-31            [1, 32, 64, 4]            64\n",
      "│    │    └─LeakyReLU: 3-32              [1, 32, 64, 4]            --\n",
      "│    └─Sequential: 2-18                  [1, 16, 128, 6]           --\n",
      "│    │    └─ConvTranspose2d: 3-33        [1, 16, 128, 6]           9,216\n",
      "│    │    └─BatchNorm2d: 3-34            [1, 16, 128, 6]           32\n",
      "│    │    └─LeakyReLU: 3-35              [1, 16, 128, 6]           --\n",
      "│    └─Sequential: 2-19                  [1, 16, 128, 6]           --\n",
      "│    │    └─ConvTranspose2d: 3-36        [1, 16, 128, 6]           4,608\n",
      "│    │    └─BatchNorm2d: 3-37            [1, 16, 128, 6]           32\n",
      "│    │    └─LeakyReLU: 3-38              [1, 16, 128, 6]           --\n",
      "│    └─Sequential: 2-20                  [1, 8, 256, 8]            --\n",
      "│    │    └─ConvTranspose2d: 3-39        [1, 8, 256, 8]            2,304\n",
      "│    │    └─BatchNorm2d: 3-40            [1, 8, 256, 8]            16\n",
      "│    │    └─LeakyReLU: 3-41              [1, 8, 256, 8]            --\n",
      "│    └─Sequential: 2-21                  [1, 8, 256, 8]            --\n",
      "│    │    └─ConvTranspose2d: 3-42        [1, 8, 256, 8]            1,152\n",
      "│    │    └─BatchNorm2d: 3-43            [1, 8, 256, 8]            16\n",
      "│    │    └─LeakyReLU: 3-44              [1, 8, 256, 8]            --\n",
      "│    └─Sequential: 2-22                  [1, 4, 512, 10]           --\n",
      "│    │    └─ConvTranspose2d: 3-45        [1, 4, 512, 10]           576\n",
      "│    │    └─BatchNorm2d: 3-46            [1, 4, 512, 10]           8\n",
      "│    │    └─LeakyReLU: 3-47              [1, 4, 512, 10]           --\n",
      "│    └─Sequential: 2-23                  [1, 4, 512, 10]           --\n",
      "│    │    └─ConvTranspose2d: 3-48        [1, 4, 512, 10]           288\n",
      "│    │    └─BatchNorm2d: 3-49            [1, 4, 512, 10]           8\n",
      "│    │    └─LeakyReLU: 3-50              [1, 4, 512, 10]           --\n",
      "│    └─Sequential: 2-24                  [1, 4, 512, 10]           --\n",
      "│    │    └─ConvTranspose2d: 3-51        [1, 4, 512, 10]           292\n",
      "│    │    └─LeakyReLU: 3-52              [1, 4, 512, 10]           --\n",
      "├─Sequential: 1-4                        [1, 1, 512, 10]           --\n",
      "│    └─Conv2d: 2-25                      [1, 1, 512, 10]           6\n",
      "│    └─Tanh: 2-26                        [1, 1, 512, 10]           --\n",
      "==========================================================================================\n",
      "Total params: 33,673,722\n",
      "Trainable params: 33,673,722\n",
      "Non-trainable params: 0\n",
      "Total mult-adds (Units.MEGABYTES): 81.45\n",
      "==========================================================================================\n",
      "Input size (MB): 0.02\n",
      "Forward/backward pass size (MB): 3.84\n",
      "Params size (MB): 134.69\n",
      "Estimated Total Size (MB): 138.56\n",
      "==========================================================================================\n"
     ]
    }
   ],
   "source": [
    "sg.generator = sg.lowResGenerators[sg.DCfg.gapW]\n",
    "sg.optimizer_G = sg.createOptimizer(sg.generator, sg.TCfg.learningRateG)\n",
    "model_summary = summary(sg.generator, input_data=[ [sg.refImages[[0],...], sg.refNoises[[0],...]] ] ).__str__()\n",
    "print(sg.refImages.shape, sg.refImages[[0],...].shape)\n",
    "print(model_summary)\n"
   ]
  },
  {
   "cell_type": "markdown",
   "metadata": {},
   "source": [
    "### <font style=\"color:lightblue\">Discriminator</font>"
   ]
  },
  {
   "cell_type": "code",
   "execution_count": 8,
   "metadata": {},
   "outputs": [
    {
     "name": "stdout",
     "output_type": "stream",
     "text": [
      "==========================================================================================\n",
      "Layer (type:depth-idx)                   Output Shape              Param #\n",
      "==========================================================================================\n",
      "Discriminator                            [1, 1]                    1\n",
      "==========================================================================================\n",
      "Total params: 1\n",
      "Trainable params: 1\n",
      "Non-trainable params: 0\n",
      "Total mult-adds (Units.MEGABYTES): 0\n",
      "==========================================================================================\n",
      "Input size (MB): 0.08\n",
      "Forward/backward pass size (MB): 0.00\n",
      "Params size (MB): 0.00\n",
      "Estimated Total Size (MB): 0.08\n",
      "==========================================================================================\n"
     ]
    }
   ],
   "source": [
    "\n",
    "class Discriminator(sg.DiscriminatorTemplate):\n",
    "    def __init__(self):\n",
    "        super(Discriminator, self).__init__()\n",
    "        self.param = nn.Parameter(torch.zeros(1))\n",
    "    def forward(self, images):\n",
    "        return torch.zeros((images.shape[0],1), device=sg.TCfg.device)\n",
    "\n",
    "sg.discriminator = Discriminator()\n",
    "sg.discriminator = sg.discriminator.to(sg.TCfg.device)\n",
    "model_summary = summary(sg.discriminator, input_data=sg.refImages[0,...] ).__str__()\n",
    "print(model_summary)\n",
    "#sg.writer.add_graph(sg.discriminator, refImages)\n",
    "\n",
    "sg.optimizer_D = sg.createOptimizer(sg.discriminator, sg.TCfg.learningRateD)\n",
    "\n"
   ]
  },
  {
   "cell_type": "markdown",
   "metadata": {},
   "source": [
    "## <font style=\"color:lightblue\">Norms</font>"
   ]
  },
  {
   "cell_type": "code",
   "execution_count": 9,
   "metadata": {},
   "outputs": [],
   "source": [
    "sg.dataLoader = sg.createDataLoader(sg.trainSet, shuffle=True, num_workers=16)\n",
    "sg.testLoader = sg.createDataLoader(sg.testSet, shuffle=False)\n",
    "\n",
    "#_ = sg.summarizeMe(sg.testLoader, True)\n",
    "#_ = sg.summarizeMe(sg.testLoader, False)\n",
    "#_ = sg.summarizeMe(sg.dataLoader, True)\n",
    "#_ = sg.summarizeMe(sg.dataLoader, False)\n",
    "#sg.displayImages()\n",
    "\n",
    "### no prenorm\n",
    "\n",
    "sg.metrices = {\n",
    "    'Adv'    : sg.Metrics(sg.loss_Adv_Gen, 0.000e+00, 0),\n",
    "    'MSE'    : sg.Metrics(sg.loss_MSE,     2.189e-01, 1),\n",
    "    'MSEN'   : sg.Metrics(sg.loss_MSEN,    1.684e+01, 0),\n",
    "    'L1L'    : sg.Metrics(sg.loss_L1L,     4.609e+00, 0),\n",
    "    'L1LN'   : sg.Metrics(sg.loss_L1LN,    4.524e+01, 0),\n",
    "    'SSIM'   : sg.Metrics(sg.loss_SSIM,    5.143e-04, 0),\n",
    "    'MSSSIM' : sg.Metrics(sg.loss_MSSSIM,  6.038e-06, 0),\n",
    "}\n",
    "#\n",
    "#sg.metricesTrain = {\n",
    "#    'Adv'    : sg.Metrics(sg.loss_Adv_Gen, 0.000e+00, 0),\n",
    "#    'MSE'    : sg.Metrics(sg.loss_MSE,     5.836e-01, 1),\n",
    "#    'MSEN'   : sg.Metrics(sg.loss_MSEN,    9.134e+01, 1),\n",
    "#    'L1L'    : sg.Metrics(sg.loss_L1L,     9.741e+00, 1),\n",
    "#    'L1LN'   : sg.Metrics(sg.loss_L1LN,    1.727e+02, 1),\n",
    "#    'SSIM'   : sg.Metrics(sg.loss_SSIM,    8.716e-04, 1),\n",
    "#    'MSSSIM' : sg.Metrics(sg.loss_MSSSIM,  4.351e-02, 1),\n",
    "#}\n"
   ]
  },
  {
   "cell_type": "markdown",
   "metadata": {},
   "source": [
    "## <font style=\"color:lightblue\">Restore checkpoint</font>"
   ]
  },
  {
   "cell_type": "code",
   "execution_count": 11,
   "metadata": {},
   "outputs": [
    {
     "name": "stdout",
     "output_type": "stream",
     "text": [
      "Initial LR : G 9.921e-06 (0.0099)\n"
     ]
    }
   ],
   "source": [
    "\n",
    "sg.scheduler_G = torch.optim.lr_scheduler.StepLR(sg.optimizer_G, 1, gamma=1)\n",
    "#sg.scheduler_D = torch.optim.lr_scheduler.StepLR(sg.optimizer_D, 1, gamma=1)\n",
    "savedCheckPoint = f\"checkPoint_{sg.TCfg.exec}\"\n",
    "sg.epoch, sg.imer, sg.minGEpoch, sg.minGdLoss, sg.startFrom, sg.resAcc = \\\n",
    "    sg.restoreCheckpoint(savedCheckPoint+\".pth\")\n",
    "#sg.epoch, sg.imer, sg.minGEpoch, sg.minGdLoss, sg.startFrom = 0, 0, 0, 1, 0\n",
    "sg.writer = sg.createWriter(sg.TCfg.logDir, True)\n",
    "#sg.writer.add_graph(sg.generator, ((sg.refImages, sg.refNoises),) )\n",
    "#sg.writer.add_graph(sg.discriminator, refImages)\n",
    "\n",
    "\n",
    "\n",
    "sg.scheduler_G.gamma = 1-0.01\n",
    "#sg.scheduler_D.gamma = 1-0.005\n",
    "#sg.optimizer_G.step()\n",
    "#torch.optim.lr_scheduler.LambdaLR(sg.optimizer_G, lambda epoch: 1).step()\n",
    "#sg.optimizer_D.step()\n",
    "#torch.optim.lr_scheduler.LambdaLR(sg.optimizer_D, lambda epoch: 0.05).step()\n",
    "\n",
    "print(f\"Initial LR : G {sg.scheduler_G.get_last_lr()[0]:.3e} ({sg.scheduler_G.get_last_lr()[0]/sg.TCfg.learningRateG:.4f})\")\n",
    "                  #f\" D {sg.scheduler_D.get_last_lr()[0]:.3e} ({sg.scheduler_D.get_last_lr()[0]/sg.TCfg.learningRateD:.4f}), Epoch {sg.epoch} {sg.imer}\")\n"
   ]
  },
  {
   "cell_type": "code",
   "execution_count": 13,
   "metadata": {},
   "outputs": [
    {
     "data": {
      "image/png": "[encoded data removed]",
      "text/plain": [
       "<Figure size 1427.2x1070.4 with 1 Axes>"
      ]
     },
     "metadata": {},
     "output_type": "display_data"
    },
    {
     "data": {
      "image/png": "[encoded data removed]",
      "text/plain": [
       "<Figure size 1427.2x1070.4 with 4 Axes>"
      ]
     },
     "metadata": {},
     "output_type": "display_data"
    },
    {
     "data": {
      "image/png": "[encoded data removed]",
      "text/plain": [
       "<Figure size 1427.2x1070.4 with 1 Axes>"
      ]
     },
     "metadata": {},
     "output_type": "display_data"
    },
    {
     "data": {
      "image/png": "[encoded data removed]",
      "text/plain": [
       "<Figure size 1427.2x1070.4 with 4 Axes>"
      ]
     },
     "metadata": {},
     "output_type": "display_data"
    },
    {
     "data": {
      "image/png": "[encoded data removed]",
      "text/plain": [
       "<Figure size 1427.2x1070.4 with 1 Axes>"
      ]
     },
     "metadata": {},
     "output_type": "display_data"
    },
    {
     "data": {
      "image/png": "[encoded data removed]",
      "text/plain": [
       "<Figure size 1427.2x1070.4 with 4 Axes>"
      ]
     },
     "metadata": {},
     "output_type": "display_data"
    },
    {
     "data": {
      "image/png": "[encoded data removed]",
      "text/plain": [
       "<Figure size 1427.2x1070.4 with 1 Axes>"
      ]
     },
     "metadata": {},
     "output_type": "display_data"
    },
    {
     "data": {
      "image/png": "[encoded data removed]",
      "text/plain": [
       "<Figure size 1427.2x1070.4 with 4 Axes>"
      ]
     },
     "metadata": {},
     "output_type": "display_data"
    }
   ],
   "source": [
    "sg.displayImages()\n",
    "#_ = sg.summarizeMe(sg.testLoader, False)"
   ]
  },
  {
   "cell_type": "markdown",
   "metadata": {},
   "source": [
    "## <font style=\"color:lightblue\">Execute</font>"
   ]
  },
  {
   "cell_type": "code",
   "execution_count": null,
   "metadata": {},
   "outputs": [
    {
     "name": "stdout",
     "output_type": "stream",
     "text": [
      "Batch size: 512, split: 1\n"
     ]
    },
    {
     "name": "stderr",
     "output_type": "stream",
     "text": [
      "  1%|          | 295/33203 [00:50<1:10:30,  7.78it/s]"
     ]
    }
   ],
   "source": [
    "\n",
    "\n",
    "sg.scheduler_G.gamma = 1-0.01\n",
    "def my_beforeReport(sglocals) :\n",
    "    message = \"\"\n",
    "\n",
    "    message += \"G\" + sg.adjustScheduler(sg.scheduler_G, sg.TCfg.learningRateG, 0.01)\n",
    "    sg.writer.add_scalars(\"Aux\", {'LrnRate': sg.scheduler_G.get_last_lr()[0]/sg.TCfg.learningRateG}, sg.imer)\n",
    "\n",
    "    #for metrics in ('L1L','SSIM','MSSSIM') :\n",
    "    #    sg.metrices[metrics].weight = max(0, sg.metrices[metrics].weight - 0.005)\n",
    "    #    message += f\"{metrics} weight: {sg.metrices[metrics].weight}. \"\n",
    "    #    sg.writer.add_scalars(\"Aux\", {metrics: sg.metrices[metrics].weight}, sg.imer)\n",
    "\n",
    "    print(message)\n",
    "    return\n",
    "sg.beforeReport = my_beforeReport\n",
    "\n",
    "def my_beforeEachEpoch(sglocals) :\n",
    "    sg.TCfg.batchSize = min(2**12, sg.TCfg.batchSize * 2)\n",
    "    sg.TCfg.batchSplit = max(2**0, int(sg.TCfg.batchSize / 2**9))\n",
    "    sg.writer.add_scalars(\"Aux\", {'Batch size': math.log(2**12,2)}, sg.imer)\n",
    "    print(f\"Batch size: {sg.TCfg.batchSize}, split: {sg.TCfg.batchSplit}\", )\n",
    "    return\n",
    "sg.beforeEachEpoch = my_beforeEachEpoch\n",
    "\n",
    "try :\n",
    "    sg.train(savedCheckPoint)\n",
    "except :\n",
    "    #del sg.dataLoader\n",
    "    #del sg.testLoader\n",
    "    sg.freeGPUmem()\n",
    "    1/10 # to release Jupyuter memory in the next step\n",
    "    sg.epoch -= 1\n",
    "    raise\n",
    "\n",
    "\n",
    "\n",
    "# loss MSE raw, BS=2**8, LR=1e-3\n",
    "#27 LR -> 1e-4\n",
    "#44 LR -> 1e-5\n",
    "#47 BS -> 2**12"
   ]
  },
  {
   "cell_type": "markdown",
   "metadata": {},
   "source": [
    "## <font style=\"color:lightblue\">Post</font>"
   ]
  },
  {
   "cell_type": "code",
   "execution_count": null,
   "metadata": {},
   "outputs": [],
   "source": [
    "sg.saveCheckPoint(savedCheckPoint+\".pth\",\n",
    "                           sg.epoch+1, sg.imer, sg.minGEpoch, sg.minGLoss,\n",
    "                           sg.generator, sg.discriminator,\n",
    "                           sg.optimizer_G, sg.optimizer_D)\n"
   ]
  },
  {
   "cell_type": "code",
   "execution_count": null,
   "metadata": {},
   "outputs": [],
   "source": [
    "for key in sg.resAcc.metrices.keys() :\n",
    "    if sg.metrices[key].norm > 0 :\n",
    "        sg.writer.add_scalars(\"Metrices_per_epoch\", {key : sg.resAcc.metrices[key],}, sg.epoch )\n",
    "\n",
    "resTest = sg.summarizeMe(sg.testLoader, False)\n",
    "resTest *= 1/resTest.nofIm\n",
    "sg.writer.add_scalars(\"Losses epoch test\",\n",
    "                   {'Dis': resTest.lossD\n",
    "                   ,'Gen': resTest.lossG\n",
    "                   #,'Adv' : resTest.metrices['Adv']\n",
    "                   }, sg.epoch )\n",
    "for key in resTest.metrices.keys() :\n",
    "    if sg.metrices[key].norm > 0 :\n",
    "        sg.writer.add_scalars(\"Metrices epoch test\", {key : resTest.metrices[key],}, sg.epoch )\n",
    "sg.writer.add_scalars(\"Probs epoch test\",\n",
    "                   {'Ref':resTest.predReal\n",
    "                   ,'Gen':resTest.predFake\n",
    "                   #,'Pre':trainRes.predGen\n",
    "                   }, sg.epoch )\n",
    "\n",
    "\n",
    "\n"
   ]
  },
  {
   "cell_type": "code",
   "execution_count": null,
   "metadata": {},
   "outputs": [],
   "source": [
    "sg.testMe(trainSet, 5)"
   ]
  },
  {
   "cell_type": "markdown",
   "metadata": {},
   "source": [
    "### <font style=\"color:lightblue\">Save results</font>"
   ]
  },
  {
   "cell_type": "code",
   "execution_count": null,
   "metadata": {},
   "outputs": [],
   "source": [
    "sg.saveModels()"
   ]
  },
  {
   "cell_type": "code",
   "execution_count": null,
   "metadata": {},
   "outputs": [],
   "source": []
  }
 ],
 "metadata": {
  "kernelspec": {
   "display_name": "pyenv",
   "language": "python",
   "name": "python3"
  },
  "language_info": {
   "codemirror_mode": {
    "name": "ipython",
    "version": 3
   },
   "file_extension": ".py",
   "mimetype": "text/x-python",
   "name": "python",
   "nbconvert_exporter": "python",
   "pygments_lexer": "ipython3",
   "version": "3.12.3"
  }
 },
 "nbformat": 4,
 "nbformat_minor": 2
}
