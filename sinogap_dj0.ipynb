{
 "cells": [
  {
   "cell_type": "markdown",
   "metadata": {},
   "source": [
    "## <font style=\"color:lightblue\">Header</font>"
   ]
  },
  {
   "cell_type": "markdown",
   "metadata": {},
   "source": [
    "### <font style=\"color:lightblue\">Imports</font>"
   ]
  },
  {
   "cell_type": "code",
   "execution_count": 1,
   "metadata": {},
   "outputs": [],
   "source": [
    "#%load_ext autoreload\n",
    "#%autoreload 2\n",
    "\n",
    "import math\n",
    "import numpy as np\n",
    "import torch\n",
    "import torch.nn as nn\n",
    "from torchinfo import summary\n",
    "import itertools\n",
    "import random\n",
    "import os\n",
    "\n",
    "import sinogap_module_long as sg\n",
    "\n",
    "\n"
   ]
  },
  {
   "cell_type": "markdown",
   "metadata": {},
   "source": [
    "### <font style=\"color:lightblue\">Redefine</font>"
   ]
  },
  {
   "cell_type": "code",
   "execution_count": 2,
   "metadata": {},
   "outputs": [],
   "source": [
    "sg.plt.rcParams['figure.dpi']=223\n",
    "sg.plt.rcParams['axes.spines.left'] = False\n",
    "sg.plt.rcParams['axes.spines.right'] = False\n",
    "sg.plt.rcParams['axes.spines.top'] = False\n",
    "sg.plt.rcParams['axes.spines.bottom'] = False\n",
    "\n",
    "\n"
   ]
  },
  {
   "cell_type": "markdown",
   "metadata": {},
   "source": [
    "### <font style=\"color:lightblue\">Configs</font>"
   ]
  },
  {
   "cell_type": "code",
   "execution_count": 3,
   "metadata": {},
   "outputs": [],
   "source": [
    "sg.set_seed(7)\n",
    "\n",
    "sg.TCfg = sg.TCfgClass(\n",
    "     exec = 0\n",
    "    ,nofEpochs = None\n",
    "    ,latentDim = 64\n",
    "    ,batchSize = 2**8\n",
    "    ,batchSplit = 2**0\n",
    "    ,labelSmoothFac = 0.1 # For Fake labels (or set to 0.0 for no smoothing).\n",
    "    ,learningRateD = 1e-4\n",
    "    ,learningRateG = 1e-4\n",
    "    ,dataDir = 'data'\n",
    "    ,num_workers=16\n",
    ")\n",
    "\n",
    "sg.DCfg = sg.DCfgClass(2, sinoLen=32*5)\n",
    "\n",
    "os.environ[\"CTAS_MMAP_PATH\"] = \"/mnt/ssdData/\"\n"
   ]
  },
  {
   "cell_type": "markdown",
   "metadata": {},
   "source": [
    "### <font style=\"color:lightblue\">Raw Read</font>"
   ]
  },
  {
   "cell_type": "code",
   "execution_count": 4,
   "metadata": {},
   "outputs": [
    {
     "name": "stdout",
     "output_type": "stream",
     "text": [
      "['data/18692a.ExpChicken6mGyShift', 'data/23574.8965435L.Eiger.32kev_sft', 'data/19022g.11-EggLard', 'data/18692b.MinceO', 'data/23574.8965435L.Eiger.32kev_org', 'data/19736b.09_Feb.4176862R_Eig_Threshold-4keV', 'data/20982b.04_774784R', 'data/18515.Lamb1_Eiger_7m_45keV_360Scan', 'data/19736c.8733147R_Eig_Threshold-8keV.SAMPLE_Y1', 'data/18692b_input_PhantomM', 'data/21836b.2024-08-15-mastectomies.4201381L.35kev.20Hz', 'data/23574h.9230799R.35kev', 'data/18515.Lamb4_Excised_Eiger_7m_30keV_360Scan.Y1', 'data/18648.B_Edist.80keV_0m_Eig_Neoprene.Y2', 'data/19932.10_8093920_35keV', 'data/19932.14_2442231_23keV', 'data/19932.16_4193759_60keV']\n",
      "Loading train set 1 of 17: data/18692a.ExpChicken6mGyShift ... Done\n",
      "Loading train set 2 of 17: data/23574.8965435L.Eiger.32kev_sft ... Done\n",
      "Loading train set 3 of 17: data/19022g.11-EggLard ... Done\n",
      "Loading train set 4 of 17: data/18692b.MinceO ... Done\n",
      "Loading train set 5 of 17: data/23574.8965435L.Eiger.32kev_org ... Done\n",
      "Loading train set 6 of 17: data/19736b.09_Feb.4176862R_Eig_Threshold-4keV ... Done\n",
      "Loading train set 7 of 17: data/20982b.04_774784R ... Done\n",
      "Loading train set 8 of 17: data/18515.Lamb1_Eiger_7m_45keV_360Scan ... Done\n",
      "Loading train set 9 of 17: data/19736c.8733147R_Eig_Threshold-8keV.SAMPLE_Y1 ... Done\n",
      "Loading train set 10 of 17: data/18692b_input_PhantomM ... Done\n",
      "Loading train set 11 of 17: data/21836b.2024-08-15-mastectomies.4201381L.35kev.20Hz ... Done\n",
      "Loading train set 12 of 17: data/23574h.9230799R.35kev ... Done\n",
      "Loading train set 13 of 17: data/18515.Lamb4_Excised_Eiger_7m_30keV_360Scan.Y1 ... Done\n",
      "Loading train set 14 of 17: data/18648.B_Edist.80keV_0m_Eig_Neoprene.Y2 ... Done\n",
      "Loading train set 15 of 17: data/19932.10_8093920_35keV ... Done\n",
      "Loading train set 16 of 17: data/19932.14_2442231_23keV ... Done\n",
      "Loading train set 17 of 17: data/19932.16_4193759_60keV ... Done\n",
      "['data/test/19603a.Exposures.70keV_7m_Calf2_Threshold35keV_25ms_Take2', 'data/test/19603a.ROI-CTs.50keV_7m_Eiger_Sheep1', 'data/test/22280a_input_Day_4_40keV_7m_Threshold20keV_50ms_Y04_no_shell__0.05deg', 'data/test/18515.Lamb4_Eiger_5m_50keV_360Scan.SAMPLE_Y1', 'data/test/18692b_input_Phantom0']\n",
      "Loading train set 1 of 5: data/test/19603a.Exposures.70keV_7m_Calf2_Threshold35keV_25ms_Take2 ... Done\n",
      "Loading train set 2 of 5: data/test/19603a.ROI-CTs.50keV_7m_Eiger_Sheep1 ... Done\n",
      "Loading train set 3 of 5: data/test/22280a_input_Day_4_40keV_7m_Threshold20keV_50ms_Y04_no_shell__0.05deg ... Done\n",
      "Loading train set 4 of 5: data/test/18515.Lamb4_Eiger_5m_50keV_360Scan.SAMPLE_Y1 ... Done\n",
      "Loading train set 5 of 5: data/test/18692b_input_Phantom0 ... Done\n"
     ]
    }
   ],
   "source": [
    "sg.trainSet = sg.createDataSet(sg.TCfg.dataDir, sg.listOfTrainData, exclusive=False)\n",
    "sg.testSet = sg.createDataSet(sg.TCfg.dataDir+\"/test\", sg.listOfTestData, exclusive=True)"
   ]
  },
  {
   "cell_type": "markdown",
   "metadata": {},
   "source": [
    "### <font style=\"color:lightblue\">Show</font>"
   ]
  },
  {
   "cell_type": "code",
   "execution_count": 5,
   "metadata": {},
   "outputs": [
    {
     "name": "stdout",
     "output_type": "stream",
     "text": [
      "(0, 319, 2321) 10189 (3641, 80)\n",
      "2.888e-01, 3.404e-01, -4.009e-01, 4.908e-01\n"
     ]
    },
    {
     "data": {
      "image/png": "[encoded data removed]",
      "text/plain": [
       "<Figure size 1427.2x1070.4 with 1 Axes>"
      ]
     },
     "metadata": {},
     "output_type": "display_data"
    }
   ],
   "source": [
    "sg.refImages, sg.refNoises, sg.refBoxes = sg.createReferences(sg.testSet, 1)\n",
    "sg.showMe(sg.testSet)\n"
   ]
  },
  {
   "cell_type": "markdown",
   "metadata": {
    "notebookRunGroups": {
     "groupValue": "2"
    }
   },
   "source": [
    "## <font style=\"color:lightblue\">Models</font>"
   ]
  },
  {
   "cell_type": "markdown",
   "metadata": {},
   "source": [
    "### Generator 2pix"
   ]
  },
  {
   "cell_type": "code",
   "execution_count": 6,
   "metadata": {},
   "outputs": [],
   "source": [
    "\n",
    "\n",
    "class Generator2(sg.GeneratorTemplate):\n",
    "\n",
    "    def __init__(self):\n",
    "        super(Generator2, self).__init__(2)\n",
    "        self.amplitude = 1\n",
    "        self.baseChannels = 32\n",
    "\n",
    "        self.encoders =  nn.ModuleList([\n",
    "            self.encblock( 1, 1, 3, padding=1, norm=False),\n",
    "            self.encblock( 1, 2, 3, padding=0),\n",
    "            self.encblock( 2, 4, 3, padding=0),\n",
    "            self.encblock( 4, 8, 3, padding=0),\n",
    "            ])\n",
    "\n",
    "        self.fcLink = nn.Sequential(\n",
    "            nn.Flatten(),\n",
    "            nn.Linear(4096, 4096),\n",
    "            nn.LeakyReLU(0.2),\n",
    "            nn.Linear(4096, 4096),\n",
    "            nn.LeakyReLU(0.2),\n",
    "            nn.Unflatten(1, (256, 4, 4)),\n",
    "        )\n",
    "        sg.fillWheights(self.fcLink)\n",
    "\n",
    "        self.decoders = nn.ModuleList([\n",
    "            self.decblock( 16, 4, 3, padding=0),\n",
    "            self.decblock(  8, 2, 3, padding=0),\n",
    "            self.decblock(  4, 1, 3, padding=0),\n",
    "            self.decblock(  2, 1, 3, padding=1, norm=False),\n",
    "            ])\n",
    "        self.lastTouch = nn.Sequential(\n",
    "            nn.Conv2d(64, 32, 1),\n",
    "            nn.Tanh(),\n",
    "        )\n",
    "        sg.fillWheights(self.lastTouch)\n",
    "\n",
    "\n",
    "    def forward(self, input):\n",
    "\n",
    "        images, noises = input\n",
    "        images, orgDims = sg.unsqeeze4dim(images)\n",
    "        modelIn = images.clone().detach()\n",
    "        with torch.no_grad() :\n",
    "            modelIn[self.gapRng] = self.preProc(images)\n",
    "            modelIn = modelIn.view( images.shape[0] , self.baseChannels, 10, images.shape[-1] )\n",
    "            modelIn[1::2,...] = torch.flip(modelIn[1::2,...],dims=(2,))\n",
    "\n",
    "        #return squeezeOrg(modelIn[self.gapRng], orgDims)\n",
    "        if self.latentChannels :\n",
    "            latent = self.noise2latent(noises)\n",
    "            dwTrain = [torch.cat((modelIn, latent), dim=1),]\n",
    "        else :\n",
    "            dwTrain = [modelIn,]\n",
    "\n",
    "        for encoder in self.encoders :\n",
    "            dwTrain.append(encoder(dwTrain[-1]))\n",
    "        mid = self.fcLink(dwTrain[-1])\n",
    "        #return mid\n",
    "        upTrain = [mid]\n",
    "        for level, decoder in enumerate(self.decoders) :\n",
    "            upTrain.append( decoder( torch.cat( (upTrain[-1], dwTrain[-1-level]), dim=1 ) ) )\n",
    "        res = self.lastTouch(torch.cat( (upTrain[-1], modelIn ), dim=1 ))\n",
    "        #return res\n",
    "\n",
    "        patches = modelIn[self.gapRng] + res[self.gapRng] * self.amplitude\n",
    "        patches[1::2,...] = torch.flip(patches[1::2,...],dims=(2,))\n",
    "        patches = patches.view(images.shape[0] , 1, images.shape[2], self.gapW)\n",
    "        return sg.squeezeOrg(patches, orgDims)\n",
    "\n",
    "\n",
    "\n",
    "\n",
    "\n",
    "generator2 = Generator2()\n",
    "generator2 = generator2.to(sg.TCfg.device)\n",
    "#generator2 = generator2.requires_grad_(False)\n",
    "generator2 = generator2.eval()\n",
    "sg.lowResGenerators[2] = generator2\n",
    "\n"
   ]
  },
  {
   "cell_type": "markdown",
   "metadata": {},
   "source": [
    "### <font style=\"color:lightblue\">Generator</font>"
   ]
  },
  {
   "cell_type": "code",
   "execution_count": 7,
   "metadata": {},
   "outputs": [
    {
     "name": "stdout",
     "output_type": "stream",
     "text": [
      "torch.Size([4, 1, 320, 10]) torch.Size([1, 1, 320, 10])\n",
      "==========================================================================================\n",
      "Layer (type:depth-idx)                   Output Shape              Param #\n",
      "==========================================================================================\n",
      "Generator2                               [1, 1, 320, 2]            --\n",
      "├─ModuleList: 1-1                        --                        --\n",
      "│    └─Sequential: 2-1                   [1, 32, 10, 10]           --\n",
      "│    │    └─Conv2d: 3-1                  [1, 32, 10, 10]           9,248\n",
      "│    │    └─LeakyReLU: 3-2               [1, 32, 10, 10]           --\n",
      "│    └─Sequential: 2-2                   [1, 64, 8, 8]             --\n",
      "│    │    └─Conv2d: 3-3                  [1, 64, 8, 8]             18,496\n",
      "│    │    └─LeakyReLU: 3-4               [1, 64, 8, 8]             --\n",
      "│    └─Sequential: 2-3                   [1, 128, 6, 6]            --\n",
      "│    │    └─Conv2d: 3-5                  [1, 128, 6, 6]            73,856\n",
      "│    │    └─LeakyReLU: 3-6               [1, 128, 6, 6]            --\n",
      "│    └─Sequential: 2-4                   [1, 256, 4, 4]            --\n",
      "│    │    └─Conv2d: 3-7                  [1, 256, 4, 4]            295,168\n",
      "│    │    └─LeakyReLU: 3-8               [1, 256, 4, 4]            --\n",
      "├─Sequential: 1-2                        [1, 256, 4, 4]            --\n",
      "│    └─Flatten: 2-5                      [1, 4096]                 --\n",
      "│    └─Linear: 2-6                       [1, 4096]                 16,781,312\n",
      "│    └─LeakyReLU: 2-7                    [1, 4096]                 --\n",
      "│    └─Linear: 2-8                       [1, 4096]                 16,781,312\n",
      "│    └─LeakyReLU: 2-9                    [1, 4096]                 --\n",
      "│    └─Unflatten: 2-10                   [1, 256, 4, 4]            --\n",
      "├─ModuleList: 1-3                        --                        --\n",
      "│    └─Sequential: 2-11                  [1, 128, 6, 6]            --\n",
      "│    │    └─ConvTranspose2d: 3-9         [1, 128, 6, 6]            589,952\n",
      "│    │    └─LeakyReLU: 3-10              [1, 128, 6, 6]            --\n",
      "│    └─Sequential: 2-12                  [1, 64, 8, 8]             --\n",
      "│    │    └─ConvTranspose2d: 3-11        [1, 64, 8, 8]             147,520\n",
      "│    │    └─LeakyReLU: 3-12              [1, 64, 8, 8]             --\n",
      "│    └─Sequential: 2-13                  [1, 32, 10, 10]           --\n",
      "│    │    └─ConvTranspose2d: 3-13        [1, 32, 10, 10]           36,896\n",
      "│    │    └─LeakyReLU: 3-14              [1, 32, 10, 10]           --\n",
      "│    └─Sequential: 2-14                  [1, 32, 10, 10]           --\n",
      "│    │    └─ConvTranspose2d: 3-15        [1, 32, 10, 10]           18,464\n",
      "│    │    └─LeakyReLU: 3-16              [1, 32, 10, 10]           --\n",
      "├─Sequential: 1-4                        [1, 32, 10, 10]           --\n",
      "│    └─Conv2d: 2-15                      [1, 32, 10, 10]           2,080\n",
      "│    └─Tanh: 2-16                        [1, 32, 10, 10]           --\n",
      "==========================================================================================\n",
      "Total params: 34,754,304\n",
      "Trainable params: 34,754,304\n",
      "Non-trainable params: 0\n",
      "Total mult-adds (Units.MEGABYTES): 79.48\n",
      "==========================================================================================\n",
      "Input size (MB): 0.01\n",
      "Forward/backward pass size (MB): 0.34\n",
      "Params size (MB): 139.02\n",
      "Estimated Total Size (MB): 139.37\n",
      "==========================================================================================\n"
     ]
    }
   ],
   "source": [
    "sg.generator = sg.lowResGenerators[sg.DCfg.gapW]\n",
    "sg.optimizer_G = sg.createOptimizer(sg.generator, sg.TCfg.learningRateG)\n",
    "model_summary = summary(sg.generator, input_data=[ [sg.refImages[[0],...], sg.refNoises[[0],...]] ] ).__str__()\n",
    "print(sg.refImages.shape, sg.refImages[[0],...].shape)\n",
    "print(model_summary)\n"
   ]
  },
  {
   "cell_type": "markdown",
   "metadata": {},
   "source": [
    "### <font style=\"color:lightblue\">Discriminator</font>"
   ]
  },
  {
   "cell_type": "code",
   "execution_count": 8,
   "metadata": {},
   "outputs": [
    {
     "name": "stdout",
     "output_type": "stream",
     "text": [
      "==========================================================================================\n",
      "Layer (type:depth-idx)                   Output Shape              Param #\n",
      "==========================================================================================\n",
      "Discriminator                            [1, 1]                    1\n",
      "==========================================================================================\n",
      "Total params: 1\n",
      "Trainable params: 1\n",
      "Non-trainable params: 0\n",
      "Total mult-adds (Units.MEGABYTES): 0\n",
      "==========================================================================================\n",
      "Input size (MB): 0.05\n",
      "Forward/backward pass size (MB): 0.00\n",
      "Params size (MB): 0.00\n",
      "Estimated Total Size (MB): 0.05\n",
      "==========================================================================================\n"
     ]
    }
   ],
   "source": [
    "\n",
    "class Discriminator(sg.DiscriminatorTemplate):\n",
    "    def __init__(self):\n",
    "        super(Discriminator, self).__init__()\n",
    "        self.param = nn.Parameter(torch.zeros(1))\n",
    "    def forward(self, images):\n",
    "        return torch.zeros((images.shape[0],1), device=sg.TCfg.device)\n",
    "\n",
    "sg.discriminator = Discriminator()\n",
    "sg.discriminator = sg.discriminator.to(sg.TCfg.device)\n",
    "model_summary = summary(sg.discriminator, input_data=sg.refImages[0,...] ).__str__()\n",
    "print(model_summary)\n",
    "#sg.writer.add_graph(sg.discriminator, refImages)\n",
    "\n",
    "sg.optimizer_D = sg.createOptimizer(sg.discriminator, sg.TCfg.learningRateD)\n",
    "\n"
   ]
  },
  {
   "cell_type": "markdown",
   "metadata": {},
   "source": [
    "## <font style=\"color:lightblue\">Norms</font>"
   ]
  },
  {
   "cell_type": "code",
   "execution_count": 9,
   "metadata": {},
   "outputs": [],
   "source": [
    "sg.dataLoader = sg.createDataLoader(sg.trainSet, shuffle=True, num_workers=16)\n",
    "sg.testLoader = sg.createDataLoader(sg.testSet, shuffle=False, num_workers=16)\n",
    "\n",
    "#_ = sg.summarizeMe(sg.testLoader, True)\n",
    "#_ = sg.summarizeMe(sg.testLoader, False)\n",
    "#_ = sg.summarizeMe(sg.dataLoader, True)\n",
    "#_ = sg.summarizeMe(sg.dataLoader, False)\n",
    "#sg.displayImages()\n"
   ]
  },
  {
   "cell_type": "markdown",
   "metadata": {},
   "source": [
    "## <font style=\"color:lightblue\">Restore checkpoint</font>"
   ]
  },
  {
   "cell_type": "code",
   "execution_count": 14,
   "metadata": {},
   "outputs": [
    {
     "name": "stdout",
     "output_type": "stream",
     "text": [
      "Initial LR : G 9.910e-06 (0.0991)\n"
     ]
    }
   ],
   "source": [
    "\n",
    "sg.scheduler_G = torch.optim.lr_scheduler.StepLR(sg.optimizer_G, 1, gamma=1)\n",
    "#sg.scheduler_D = torch.optim.lr_scheduler.StepLR(sg.optimizer_D, 1, gamma=1)\n",
    "savedCheckPoint = f\"checkPoint_{sg.TCfg.exec}\"\n",
    "sg.epoch, sg.imer, sg.minGEpoch, sg.minGdLoss, sg.startFrom, sg.resAcc = \\\n",
    "    sg.restoreCheckpoint(savedCheckPoint+\".pth\")\n",
    "#sg.epoch, sg.imer, sg.minGEpoch, sg.minGdLoss, sg.startFrom = 0, 0, 0, 1, 0\n",
    "sg.writer = sg.createWriter(sg.TCfg.logDir, True)\n",
    "#sg.writer.add_graph(sg.generator, ((sg.refImages, sg.refNoises),) )\n",
    "#sg.writer.add_graph(sg.discriminator, refImages)\n",
    "\n",
    "sg.scheduler_G.gamma = 1-0.01\n",
    "#sg.scheduler_D.gamma = 1-0.005\n",
    "#sg.optimizer_G.step()\n",
    "#sg.optimizer_D.step()\n",
    "\n",
    "print(f\"Initial LR : G {sg.scheduler_G.get_last_lr()[0]:.3e} ({sg.scheduler_G.get_last_lr()[0]/sg.TCfg.learningRateG:.4f})\")\n",
    "                  #f\" D {sg.scheduler_D.get_last_lr()[0]:.3e} ({sg.scheduler_D.get_last_lr()[0]/sg.TCfg.learningRateD:.4f}), Epoch {sg.epoch} {sg.imer}\")\n"
   ]
  },
  {
   "cell_type": "code",
   "execution_count": 15,
   "metadata": {},
   "outputs": [
    {
     "data": {
      "image/png": "[encoded data removed]",
      "text/plain": [
       "<Figure size 1427.2x1070.4 with 1 Axes>"
      ]
     },
     "metadata": {},
     "output_type": "display_data"
    },
    {
     "data": {
      "image/png": "[encoded data removed]",
      "text/plain": [
       "<Figure size 1427.2x1070.4 with 4 Axes>"
      ]
     },
     "metadata": {},
     "output_type": "display_data"
    },
    {
     "data": {
      "image/png": "[encoded data removed]",
      "text/plain": [
       "<Figure size 1427.2x1070.4 with 1 Axes>"
      ]
     },
     "metadata": {},
     "output_type": "display_data"
    },
    {
     "data": {
      "image/png": "[encoded data removed]",
      "text/plain": [
       "<Figure size 1427.2x1070.4 with 4 Axes>"
      ]
     },
     "metadata": {},
     "output_type": "display_data"
    },
    {
     "data": {
      "image/png": "[encoded data removed]",
      "text/plain": [
       "<Figure size 1427.2x1070.4 with 1 Axes>"
      ]
     },
     "metadata": {},
     "output_type": "display_data"
    },
    {
     "data": {
      "image/png": "[encoded data removed]",
      "text/plain": [
       "<Figure size 1427.2x1070.4 with 4 Axes>"
      ]
     },
     "metadata": {},
     "output_type": "display_data"
    },
    {
     "data": {
      "image/png": "[encoded data removed]",
      "text/plain": [
       "<Figure size 1427.2x1070.4 with 1 Axes>"
      ]
     },
     "metadata": {},
     "output_type": "display_data"
    },
    {
     "data": {
      "image/png": "[encoded data removed]",
      "text/plain": [
       "<Figure size 1427.2x1070.4 with 4 Axes>"
      ]
     },
     "metadata": {},
     "output_type": "display_data"
    }
   ],
   "source": [
    "sg.displayImages()\n",
    "#_ = sg.summarizeMe(sg.testLoader, False)"
   ]
  },
  {
   "cell_type": "markdown",
   "metadata": {},
   "source": [
    "## <font style=\"color:lightblue\">Execute</font>"
   ]
  },
  {
   "cell_type": "code",
   "execution_count": null,
   "metadata": {},
   "outputs": [
    {
     "name": "stdout",
     "output_type": "stream",
     "text": [
      "GLR : 9.910e-06 (0.099). \n",
      "Epoch: 72 (71).  Images: 442368. DIS: 0.000e+00, GEN: 2.770e+00. Probs: True 0.000e+00, Fake 0.000e+00.\n",
      "Individual losses: Adv: 0.000e+00  MSE: 2.770e+00  L1L: 8.968e-01  SSIM: 7.820e-01  MSSSIM: 1.833e-01 \n",
      "\n"
     ]
    },
    {
     "data": {
      "image/png": "[encoded data removed]",
      "text/plain": [
       "<Figure size 1427.2x1070.4 with 1 Axes>"
      ]
     },
     "metadata": {},
     "output_type": "display_data"
    },
    {
     "data": {
      "image/png": "[encoded data removed]",
      "text/plain": [
       "<Figure size 1115x446 with 10 Axes>"
      ]
     },
     "metadata": {},
     "output_type": "display_data"
    },
    {
     "name": "stderr",
     "output_type": "stream",
     "text": [
      " 57%|█████▋    | 47803/83225 [28:22<24:02, 24.56it/s]"
     ]
    }
   ],
   "source": [
    "\n",
    "\n",
    "\n",
    "def my_beforeReport(sglocals) :\n",
    "    message = \"\"\n",
    "    message += \"G\" + sg.adjustScheduler(sg.scheduler_G, sg.TCfg.learningRateG, 0.1)\n",
    "    with open(f\"message_{sg.TCfg.exec}.txt\", 'a') as file:\n",
    "        file.write(message + \"\\n\")\n",
    "    print(message)\n",
    "    return\n",
    "sg.beforeReport = my_beforeReport\n",
    "\n",
    "\n",
    "try :\n",
    "    sg.train(savedCheckPoint)\n",
    "except :\n",
    "    #del sg.dataLoader\n",
    "    #del sg.testLoader\n",
    "    sg.freeGPUmem()\n",
    "\n",
    "    1/10 # to release Jupyuter memory in the next step\n",
    "    sg.epoch -= 1\n",
    "    raise\n",
    "\n",
    "#BS=2**8, LR=1e-4, harmonica"
   ]
  },
  {
   "cell_type": "markdown",
   "metadata": {},
   "source": [
    "## <font style=\"color:lightblue\">Post</font>"
   ]
  },
  {
   "cell_type": "code",
   "execution_count": null,
   "metadata": {},
   "outputs": [],
   "source": [
    "print (sg.generator.amplitude.item(), 2 * torch.sigmoid(sg.generator.amplitude).item() )\n",
    "sg.initialTest()\n"
   ]
  },
  {
   "cell_type": "code",
   "execution_count": null,
   "metadata": {},
   "outputs": [],
   "source": [
    "sg.testMe(trainSet, 5)"
   ]
  },
  {
   "cell_type": "markdown",
   "metadata": {},
   "source": [
    "### <font style=\"color:lightblue\">Save results</font>"
   ]
  },
  {
   "cell_type": "code",
   "execution_count": null,
   "metadata": {},
   "outputs": [],
   "source": [
    "sg.saveModels()"
   ]
  },
  {
   "cell_type": "code",
   "execution_count": null,
   "metadata": {},
   "outputs": [],
   "source": []
  }
 ],
 "metadata": {
  "kernelspec": {
   "display_name": "torchEnv",
   "language": "python",
   "name": "python3"
  },
  "language_info": {
   "codemirror_mode": {
    "name": "ipython",
    "version": 3
   },
   "file_extension": ".py",
   "mimetype": "text/x-python",
   "name": "python",
   "nbconvert_exporter": "python",
   "pygments_lexer": "ipython3",
   "version": "3.13.3"
  }
 },
 "nbformat": 4,
 "nbformat_minor": 2
}
