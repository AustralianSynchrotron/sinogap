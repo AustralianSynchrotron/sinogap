{
 "cells": [
  {
   "cell_type": "markdown",
   "metadata": {},
   "source": [
    "## <font style=\"color:lightblue\">Header</font>"
   ]
  },
  {
   "cell_type": "markdown",
   "metadata": {},
   "source": [
    "### <font style=\"color:lightblue\">Imports</font>"
   ]
  },
  {
   "cell_type": "code",
   "execution_count": 1,
   "metadata": {},
   "outputs": [],
   "source": [
    "#%load_ext autoreload\n",
    "#%autoreload 2\n",
    "\n",
    "import math\n",
    "import numpy as np\n",
    "import torch\n",
    "import torch.nn as nn\n",
    "from torchinfo import summary\n",
    "import itertools\n",
    "import random\n",
    "import os\n",
    "\n",
    "import sinogap_module_exp as sg\n",
    "\n",
    "\n"
   ]
  },
  {
   "cell_type": "markdown",
   "metadata": {},
   "source": [
    "### <font style=\"color:lightblue\">Redefine</font>"
   ]
  },
  {
   "cell_type": "code",
   "execution_count": 2,
   "metadata": {},
   "outputs": [],
   "source": [
    "sg.plt.rcParams['figure.dpi']=223\n",
    "sg.plt.rcParams['axes.spines.left'] = False\n",
    "sg.plt.rcParams['axes.spines.right'] = False\n",
    "sg.plt.rcParams['axes.spines.top'] = False\n",
    "sg.plt.rcParams['axes.spines.bottom'] = False\n",
    "\n",
    "\n"
   ]
  },
  {
   "cell_type": "markdown",
   "metadata": {},
   "source": [
    "### <font style=\"color:lightblue\">Configs</font>"
   ]
  },
  {
   "cell_type": "code",
   "execution_count": 3,
   "metadata": {},
   "outputs": [],
   "source": [
    "sg.set_seed(7)\n",
    "\n",
    "sg.TCfg = sg.TCfgClass(\n",
    "     exec = 0\n",
    "    ,nofEpochs = None\n",
    "    ,latentDim = 64\n",
    "    ,batchSize = 2**10\n",
    "    ,batchSplit = 2**0\n",
    "    ,labelSmoothFac = 0.1 # For Fake labels (or set to 0.0 for no smoothing).\n",
    "    ,learningRateG = 1e-3\n",
    "    ,learningRateD = 1e-3\n",
    "    ,dataDir = 'data'\n",
    ")\n",
    "\n",
    "sg.DCfg = sg.DCfgClass(4,True)\n",
    "\n",
    "\n",
    "os.environ[\"CTAS_MMAP_PATH\"] = \"/mnt/ssdData/\"\n"
   ]
  },
  {
   "cell_type": "markdown",
   "metadata": {},
   "source": [
    "### <font style=\"color:lightblue\">Raw Read</font>"
   ]
  },
  {
   "cell_type": "code",
   "execution_count": null,
   "metadata": {},
   "outputs": [
    {
     "name": "stdout",
     "output_type": "stream",
     "text": [
      "['data/18692a.ExpChicken6mGyShift', 'data/23574.8965435L.Eiger.32kev_sft', 'data/19022g.11-EggLard', 'data/18692b.MinceO', 'data/23574.8965435L.Eiger.32kev_org', 'data/19736b.09_Feb.4176862R_Eig_Threshold-4keV', 'data/20982b.04_774784R', 'data/18515.Lamb1_Eiger_7m_45keV_360Scan', 'data/19736c.8733147R_Eig_Threshold-8keV.SAMPLE_Y1', 'data/18692b_input_PhantomM', 'data/21836b.2024-08-15-mastectomies.4201381L.35kev.20Hz', 'data/23574h.9230799R.35kev', 'data/18515.Lamb4_Excised_Eiger_7m_30keV_360Scan.Y1', 'data/18648.B_Edist.80keV_0m_Eig_Neoprene.Y2', 'data/19932.10_8093920_35keV', 'data/19932.14_2442231_23keV', 'data/19932.16_4193759_60keV']\n",
      "Loading train set 1 of 17: data/18692a.ExpChicken6mGyShift ... Done\n",
      "Loading train set 2 of 17: data/23574.8965435L.Eiger.32kev_sft ... Done\n",
      "Loading train set 3 of 17: data/19022g.11-EggLard ... Done\n",
      "Loading train set 4 of 17: data/18692b.MinceO ... Done\n",
      "Loading train set 5 of 17: data/23574.8965435L.Eiger.32kev_org ... Done\n",
      "Loading train set 6 of 17: data/19736b.09_Feb.4176862R_Eig_Threshold-4keV ... Done\n",
      "Loading train set 7 of 17: data/20982b.04_774784R ... Done\n",
      "Loading train set 8 of 17: data/18515.Lamb1_Eiger_7m_45keV_360Scan ... Done\n",
      "Loading train set 9 of 17: data/19736c.8733147R_Eig_Threshold-8keV.SAMPLE_Y1 ... Done\n",
      "Loading train set 10 of 17: data/18692b_input_PhantomM ... Done\n",
      "Loading train set 11 of 17: data/21836b.2024-08-15-mastectomies.4201381L.35kev.20Hz ... Done\n",
      "Loading train set 12 of 17: data/23574h.9230799R.35kev ... Done\n",
      "Loading train set 13 of 17: data/18515.Lamb4_Excised_Eiger_7m_30keV_360Scan.Y1 ... Done\n",
      "Loading train set 14 of 17: data/18648.B_Edist.80keV_0m_Eig_Neoprene.Y2 ... Done\n",
      "Loading train set 15 of 17: data/19932.10_8093920_35keV ... Done\n",
      "Loading train set 16 of 17: data/19932.14_2442231_23keV ... Done\n",
      "Loading train set 17 of 17: data/19932.16_4193759_60keV ... Done\n",
      "['data/test/19603a.Exposures.70keV_7m_Calf2_Threshold35keV_25ms_Take2', 'data/test/22280a_input_Day_4_40keV_7m_Threshold20keV_50ms_Y04_no_shell__0.05deg', 'data/test/18515.Lamb4_Eiger_5m_50keV_360Scan.SAMPLE_Y1', 'data/test/18692b_input_Phantom0']\n",
      "Loading train set 1 of 4: data/test/19603a.Exposures.70keV_7m_Calf2_Threshold35keV_25ms_Take2 ... Done\n",
      "Loading train set 2 of 4: data/test/22280a_input_Day_4_40keV_7m_Threshold20keV_50ms_Y04_no_shell__0.05deg ... Done\n",
      "Loading train set 3 of 4: data/test/18515.Lamb4_Eiger_5m_50keV_360Scan.SAMPLE_Y1 ... Done\n",
      "Loading train set 4 of 4: data/test/18692b_input_Phantom0 ... Done\n"
     ]
    }
   ],
   "source": [
    "sg.trainSet = sg.createDataSet(sg.TCfg.dataDir, sg.listOfTrainData, expose = 2e-4)\n",
    "sg.trainLoader = sg.createDataLoader(sg.trainSet, num_workers=sg.TCfg.num_workers)\n",
    "sg.testSet = sg.createDataSet(sg.TCfg.dataDir+\"/test\", sg.listOfTestData, exclusive = True)\n",
    "sg.testLoader = sg.createDataLoader(sg.testSet, num_workers=sg.TCfg.num_workers)"
   ]
  },
  {
   "cell_type": "markdown",
   "metadata": {},
   "source": [
    "### <font style=\"color:lightblue\">Show</font>"
   ]
  },
  {
   "cell_type": "code",
   "execution_count": 5,
   "metadata": {},
   "outputs": [],
   "source": [
    "sg.examples = [\n",
    "    ((3, 476, 2880), 0.78),\n",
    "    ((2, 118,  988), 0.89),\n",
    "    ((0, 298, 1557), 0.846),\n",
    "    ((3, 925,  592), 0.35)\n",
    "]\n",
    "\n",
    "sg.refImages, sg.refNoises, sg.refBoxes = sg.createReferences(sg.testSet, 0)\n",
    "#sg.showMe(sg.testSet)\n",
    "#sg.displayImages()\n"
   ]
  },
  {
   "cell_type": "markdown",
   "metadata": {
    "notebookRunGroups": {
     "groupValue": "2"
    }
   },
   "source": [
    "## <font style=\"color:lightblue\">Models</font>"
   ]
  },
  {
   "cell_type": "markdown",
   "metadata": {},
   "source": [
    "### Generator 2pix"
   ]
  },
  {
   "cell_type": "code",
   "execution_count": 6,
   "metadata": {},
   "outputs": [],
   "source": [
    "class BricksGenerator2(sg.SubGeneratorTemplate) :\n",
    "    # 'Adv'    : 0.000e+00\n",
    "    # 'MSE'    : 8.799e-03\n",
    "    # 'MSEN'   : 5.276e+00\n",
    "    # 'L1L'    : 1.290e-01\n",
    "    # 'L1LN'   : 7.558e+00\n",
    "    # 'SSIM'   : 4.114e-04\n",
    "    # 'MSSSIM' : 3.784e-06\n",
    "    def __init__(self):\n",
    "        super(BricksGenerator2, self).__init__(2, True, batchNorm=True)\n",
    "        self.baseChannels = 64\n",
    "        self.encoders =  nn.ModuleList([\n",
    "            self.encblock( self.inChannels/self.baseChannels,\n",
    "                               1, 3, norm=False),\n",
    "            self.encblock(  1, 2, 3, stride=2),\n",
    "            self.encblock(  2, 2, 3),\n",
    "            self.encblock(  2, 4, 3, stride=2),\n",
    "            self.encblock(  4, 4, 3),\n",
    "            self.encblock(  4, 8, 3, stride=2),\n",
    "            ])\n",
    "        self.fcLink = self.createFClink()\n",
    "        self.decoders = nn.ModuleList([\n",
    "            self.decblock(16, 4, 3, stride=2),\n",
    "            self.decblock( 8, 4, 3),\n",
    "            self.decblock( 8, 2, 3, stride=2),\n",
    "            self.decblock( 4, 2, 3),\n",
    "            self.decblock( 4, 1, 3, stride=2),\n",
    "            self.decblock( 2, 1, 3, norm=False),\n",
    "            ])\n",
    "        self.lastTouch = self.createLastTouch()\n",
    "        sg.load_model(self, model_path=\"saves/complex/models/bricks2.pt\" )\n",
    "\n",
    "\n",
    "#generator = BricksGenerator2()\n",
    "#generator = generator.to(sg.TCfg.device)\n",
    "#\n",
    "#model_summary = summary(generator, input_data=[ sg.refImages[[0],...] ] ).__str__()\n",
    "#print(model_summary)\n",
    "#\n",
    "#sg.generator = generator\n",
    "\n",
    "\n"
   ]
  },
  {
   "cell_type": "markdown",
   "metadata": {},
   "source": [
    "### Generator 4pix"
   ]
  },
  {
   "cell_type": "code",
   "execution_count": 7,
   "metadata": {},
   "outputs": [
    {
     "name": "stdout",
     "output_type": "stream",
     "text": [
      "===============================================================================================\n",
      "Layer (type:depth-idx)                        Output Shape              Param #\n",
      "===============================================================================================\n",
      "BricksGenerator4                              [1, 1, 32, 32]            --\n",
      "├─BricksGenerator2: 1-1                       --                        --\n",
      "│    └─ModuleList: 2-1                        --                        --\n",
      "│    │    └─Sequential: 3-1                   [1, 64, 16, 16]           (640)\n",
      "│    │    └─Sequential: 3-2                   [1, 128, 8, 8]            (73,984)\n",
      "│    │    └─Sequential: 3-3                   [1, 128, 8, 8]            (147,712)\n",
      "│    │    └─Sequential: 3-4                   [1, 256, 4, 4]            (295,424)\n",
      "│    │    └─Sequential: 3-5                   [1, 256, 4, 4]            (590,336)\n",
      "│    │    └─Sequential: 3-6                   [1, 512, 2, 2]            (1,180,672)\n",
      "│    └─Sequential: 2-2                        [1, 512, 2, 2]            --\n",
      "│    │    └─Flatten: 3-7                      [1, 2048]                 --\n",
      "│    │    └─Linear: 3-8                       [1, 2048]                 (4,196,352)\n",
      "│    │    └─LeakyReLU: 3-9                    [1, 2048]                 --\n",
      "│    │    └─Linear: 3-10                      [1, 2048]                 (4,196,352)\n",
      "│    │    └─LeakyReLU: 3-11                   [1, 2048]                 --\n",
      "│    │    └─Unflatten: 3-12                   [1, 512, 2, 2]            --\n",
      "│    └─ModuleList: 2-3                        --                        --\n",
      "│    │    └─Sequential: 3-13                  [1, 256, 4, 4]            (2,359,808)\n",
      "│    │    └─Sequential: 3-14                  [1, 256, 4, 4]            (1,180,160)\n",
      "│    │    └─Sequential: 3-15                  [1, 128, 8, 8]            (590,080)\n",
      "│    │    └─Sequential: 3-16                  [1, 128, 8, 8]            (295,168)\n",
      "│    │    └─Sequential: 3-17                  [1, 64, 16, 16]           (147,584)\n",
      "│    │    └─Sequential: 3-18                  [1, 64, 16, 16]           (73,792)\n",
      "│    └─Sequential: 2-4                        [1, 1, 16, 16]            --\n",
      "│    │    └─Conv2d: 3-19                      [1, 1, 16, 16]            (66)\n",
      "│    │    └─Tanh: 3-20                        [1, 1, 16, 16]            --\n",
      "├─ModuleList: 1-2                             --                        --\n",
      "│    └─Sequential: 2-5                        [1, 64, 32, 32]           --\n",
      "│    │    └─Conv2d: 3-21                      [1, 64, 32, 32]           640\n",
      "│    │    └─LeakyReLU: 3-22                   [1, 64, 32, 32]           --\n",
      "│    └─Sequential: 2-6                        [1, 128, 16, 16]          --\n",
      "│    │    └─Conv2d: 3-23                      [1, 128, 16, 16]          73,728\n",
      "│    │    └─BatchNorm2d: 3-24                 [1, 128, 16, 16]          256\n",
      "│    │    └─LeakyReLU: 3-25                   [1, 128, 16, 16]          --\n",
      "│    └─Sequential: 2-7                        [1, 128, 16, 16]          --\n",
      "│    │    └─Conv2d: 3-26                      [1, 128, 16, 16]          147,456\n",
      "│    │    └─BatchNorm2d: 3-27                 [1, 128, 16, 16]          256\n",
      "│    │    └─LeakyReLU: 3-28                   [1, 128, 16, 16]          --\n",
      "│    └─Sequential: 2-8                        [1, 256, 8, 8]            --\n",
      "│    │    └─Conv2d: 3-29                      [1, 256, 8, 8]            294,912\n",
      "│    │    └─BatchNorm2d: 3-30                 [1, 256, 8, 8]            512\n",
      "│    │    └─LeakyReLU: 3-31                   [1, 256, 8, 8]            --\n",
      "│    └─Sequential: 2-9                        [1, 256, 8, 8]            --\n",
      "│    │    └─Conv2d: 3-32                      [1, 256, 8, 8]            589,824\n",
      "│    │    └─BatchNorm2d: 3-33                 [1, 256, 8, 8]            512\n",
      "│    │    └─LeakyReLU: 3-34                   [1, 256, 8, 8]            --\n",
      "│    └─Sequential: 2-10                       [1, 512, 4, 4]            --\n",
      "│    │    └─Conv2d: 3-35                      [1, 512, 4, 4]            1,179,648\n",
      "│    │    └─BatchNorm2d: 3-36                 [1, 512, 4, 4]            1,024\n",
      "│    │    └─LeakyReLU: 3-37                   [1, 512, 4, 4]            --\n",
      "│    └─Sequential: 2-11                       [1, 512, 4, 4]            --\n",
      "│    │    └─Conv2d: 3-38                      [1, 512, 4, 4]            2,359,296\n",
      "│    │    └─BatchNorm2d: 3-39                 [1, 512, 4, 4]            1,024\n",
      "│    │    └─LeakyReLU: 3-40                   [1, 512, 4, 4]            --\n",
      "│    └─Sequential: 2-12                       [1, 1024, 2, 2]           --\n",
      "│    │    └─Conv2d: 3-41                      [1, 1024, 2, 2]           4,718,592\n",
      "│    │    └─BatchNorm2d: 3-42                 [1, 1024, 2, 2]           2,048\n",
      "│    │    └─LeakyReLU: 3-43                   [1, 1024, 2, 2]           --\n",
      "├─Sequential: 1-3                             [1, 1024, 2, 2]           --\n",
      "│    └─Flatten: 2-13                          [1, 4096]                 --\n",
      "│    └─Linear: 2-14                           [1, 4096]                 16,781,312\n",
      "│    └─LeakyReLU: 2-15                        [1, 4096]                 --\n",
      "│    └─Linear: 2-16                           [1, 4096]                 16,781,312\n",
      "│    └─LeakyReLU: 2-17                        [1, 4096]                 --\n",
      "│    └─Unflatten: 2-18                        [1, 1024, 2, 2]           --\n",
      "├─ModuleList: 1-4                             --                        --\n",
      "│    └─Sequential: 2-19                       [1, 512, 4, 4]            --\n",
      "│    │    └─ConvTranspose2d: 3-44             [1, 512, 4, 4]            9,437,184\n",
      "│    │    └─BatchNorm2d: 3-45                 [1, 512, 4, 4]            1,024\n",
      "│    │    └─LeakyReLU: 3-46                   [1, 512, 4, 4]            --\n",
      "│    └─Sequential: 2-20                       [1, 512, 4, 4]            --\n",
      "│    │    └─ConvTranspose2d: 3-47             [1, 512, 4, 4]            4,718,592\n",
      "│    │    └─BatchNorm2d: 3-48                 [1, 512, 4, 4]            1,024\n",
      "│    │    └─LeakyReLU: 3-49                   [1, 512, 4, 4]            --\n",
      "│    └─Sequential: 2-21                       [1, 256, 8, 8]            --\n",
      "│    │    └─ConvTranspose2d: 3-50             [1, 256, 8, 8]            2,359,296\n",
      "│    │    └─BatchNorm2d: 3-51                 [1, 256, 8, 8]            512\n",
      "│    │    └─LeakyReLU: 3-52                   [1, 256, 8, 8]            --\n",
      "│    └─Sequential: 2-22                       [1, 256, 8, 8]            --\n",
      "│    │    └─ConvTranspose2d: 3-53             [1, 256, 8, 8]            1,179,648\n",
      "│    │    └─BatchNorm2d: 3-54                 [1, 256, 8, 8]            512\n",
      "│    │    └─LeakyReLU: 3-55                   [1, 256, 8, 8]            --\n",
      "│    └─Sequential: 2-23                       [1, 128, 16, 16]          --\n",
      "│    │    └─ConvTranspose2d: 3-56             [1, 128, 16, 16]          589,824\n",
      "│    │    └─BatchNorm2d: 3-57                 [1, 128, 16, 16]          256\n",
      "│    │    └─LeakyReLU: 3-58                   [1, 128, 16, 16]          --\n",
      "│    └─Sequential: 2-24                       [1, 128, 16, 16]          --\n",
      "│    │    └─ConvTranspose2d: 3-59             [1, 128, 16, 16]          294,912\n",
      "│    │    └─BatchNorm2d: 3-60                 [1, 128, 16, 16]          256\n",
      "│    │    └─LeakyReLU: 3-61                   [1, 128, 16, 16]          --\n",
      "│    └─Sequential: 2-25                       [1, 64, 32, 32]           --\n",
      "│    │    └─ConvTranspose2d: 3-62             [1, 64, 32, 32]           147,456\n",
      "│    │    └─BatchNorm2d: 3-63                 [1, 64, 32, 32]           128\n",
      "│    │    └─LeakyReLU: 3-64                   [1, 64, 32, 32]           --\n",
      "│    └─Sequential: 2-26                       [1, 64, 32, 32]           --\n",
      "│    │    └─ConvTranspose2d: 3-65             [1, 64, 32, 32]           73,792\n",
      "│    │    └─LeakyReLU: 3-66                   [1, 64, 32, 32]           --\n",
      "├─Sequential: 1-5                             [1, 1, 32, 32]            --\n",
      "│    └─Conv2d: 2-27                           [1, 1, 32, 32]            66\n",
      "│    └─Tanh: 2-28                             [1, 1, 32, 32]            --\n",
      "===============================================================================================\n",
      "Total params: 77,064,964\n",
      "Trainable params: 61,736,834\n",
      "Non-trainable params: 15,328,130\n",
      "Total mult-adds (Units.GIGABYTES): 1.34\n",
      "===============================================================================================\n",
      "Input size (MB): 0.00\n",
      "Forward/backward pass size (MB): 7.28\n",
      "Params size (MB): 308.26\n",
      "Estimated Total Size (MB): 315.55\n",
      "===============================================================================================\n"
     ]
    }
   ],
   "source": [
    "class BricksGenerator4(sg.SubGeneratorTemplate) :\n",
    "    # 'Adv'    :\n",
    "    # 'MSE'    :  1.510e-02\n",
    "    # 'MSEN'   :  2.258e+01\n",
    "    # 'L1L'    :  4.969e-01\n",
    "    # 'L1LN'   :  3.358e+01\n",
    "    # 'SSIM'   :  5.112e-04\n",
    "    # 'MSSSIM' :  3.992e-06\n",
    "    def __init__(self):\n",
    "        super(BricksGenerator4, self).__init__(4, True, batchNorm=True)\n",
    "        self.lowResGenerator = BricksGenerator2()\n",
    "        self.lowResGenerator.requires_grad_(False)\n",
    "        self.baseChannels = 64\n",
    "        self.encoders =  nn.ModuleList([\n",
    "            self.encblock( self.inChannels/self.baseChannels,\n",
    "                               1, 3, norm=False),\n",
    "            self.encblock(  1, 2, 3, stride=2),\n",
    "            self.encblock(  2, 2, 3),\n",
    "            self.encblock(  2, 4, 3, stride=2),\n",
    "            self.encblock(  4, 4, 3),\n",
    "            self.encblock(  4, 8, 3, stride=2),\n",
    "            self.encblock(  8, 8, 3),\n",
    "            self.encblock(  8,16, 3, stride=2),\n",
    "            ])\n",
    "        self.fcLink = self.createFClink()\n",
    "        self.decoders = nn.ModuleList([\n",
    "            self.decblock(32, 8, 3, stride=2),\n",
    "            self.decblock(16, 8, 3),\n",
    "            self.decblock(16, 4, 3, stride=2),\n",
    "            self.decblock( 8, 4, 3),\n",
    "            self.decblock( 8, 2, 3, stride=2),\n",
    "            self.decblock( 4, 2, 3),\n",
    "            self.decblock( 4, 1, 3, stride=2),\n",
    "            self.decblock( 2, 1, 3, norm=False),\n",
    "            ])\n",
    "        self.lastTouch = self.createLastTouch()\n",
    "        #sg.load_model(self, model_path=\"saves/complex/models/bricks2.pt\" )\n",
    "\n",
    "\n",
    "generator = BricksGenerator4()\n",
    "generator = generator.to(sg.TCfg.device)\n",
    "#\n",
    "model_summary = summary(generator, input_data=[ sg.refImages[[0],...] ] ).__str__()\n",
    "print(model_summary)\n",
    "#\n",
    "sg.generator = generator\n",
    "sg.optimizer_G = sg.createOptimizer(sg.generator, sg.TCfg.learningRateG)\n",
    "\n"
   ]
  },
  {
   "cell_type": "markdown",
   "metadata": {},
   "source": [
    "### <font style=\"color:lightblue\">Generator</font>"
   ]
  },
  {
   "cell_type": "code",
   "execution_count": 8,
   "metadata": {},
   "outputs": [],
   "source": [
    "#sg.generator = sg.lowResGenerators[sg.DCfg.gapW]\n",
    "#sg.optimizer_G = sg.createOptimizer(sg.generator, sg.TCfg.learningRateG)\n",
    "#model_summary = summary(sg.generator, input_data=[ [sg.refImages[[0],...], sg.refNoises[[0],...]] ] ).__str__()\n",
    "#print(sg.refImages.shape, sg.refImages[[0],...].shape)\n",
    "#print(model_summary)\n"
   ]
  },
  {
   "cell_type": "markdown",
   "metadata": {},
   "source": [
    "### <font style=\"color:lightblue\">Discriminator</font>"
   ]
  },
  {
   "cell_type": "code",
   "execution_count": 9,
   "metadata": {},
   "outputs": [
    {
     "name": "stdout",
     "output_type": "stream",
     "text": [
      "==========================================================================================\n",
      "Layer (type:depth-idx)                   Output Shape              Param #\n",
      "==========================================================================================\n",
      "Discriminator                            [1, 1]                    1\n",
      "==========================================================================================\n",
      "Total params: 1\n",
      "Trainable params: 1\n",
      "Non-trainable params: 0\n",
      "Total mult-adds (Units.MEGABYTES): 0\n",
      "==========================================================================================\n",
      "Input size (MB): 0.02\n",
      "Forward/backward pass size (MB): 0.00\n",
      "Params size (MB): 0.00\n",
      "Estimated Total Size (MB): 0.02\n",
      "==========================================================================================\n"
     ]
    }
   ],
   "source": [
    "\n",
    "class Discriminator(sg.DiscriminatorTemplate):\n",
    "    def __init__(self):\n",
    "        super(Discriminator, self).__init__()\n",
    "        self.param = nn.Parameter(torch.zeros(1))\n",
    "    def forward(self, images):\n",
    "        return torch.zeros((images.shape[0],1), device=sg.TCfg.device)\n",
    "\n",
    "sg.discriminator = Discriminator()\n",
    "sg.discriminator = sg.discriminator.to(sg.TCfg.device)\n",
    "model_summary = summary(sg.discriminator, input_data=sg.refImages[0,...] ).__str__()\n",
    "print(model_summary)\n",
    "#sg.writer.add_graph(sg.discriminator, refImages)\n",
    "\n",
    "sg.optimizer_D = sg.createOptimizer(sg.discriminator, sg.TCfg.learningRateD)\n",
    "\n"
   ]
  },
  {
   "cell_type": "markdown",
   "metadata": {},
   "source": [
    "## <font style=\"color:lightblue\">Norms</font>"
   ]
  },
  {
   "cell_type": "code",
   "execution_count": null,
   "metadata": {},
   "outputs": [
    {
     "name": "stderr",
     "output_type": "stream",
     "text": [
      "100%|██████████| 695/695 [00:41<00:00, 16.80it/s]"
     ]
    },
    {
     "name": "stdout",
     "output_type": "stream",
     "text": [
      "Images: 711680. DIS: 0.000e+00, GEN: 9.445e+00. Probs: True 0.000e+00, Fake 0.000e+00.\n",
      "Individual losses: Adv: 1.000e+00  MSE: 1.510e-02  MSEN: 2.258e+01  L1L: 4.969e-01  L1LN: 3.358e+01  SSIM: 5.112e-04  MSSSIM: 3.992e-06 \n",
      "\n"
     ]
    },
    {
     "name": "stderr",
     "output_type": "stream",
     "text": [
      "\n"
     ]
    }
   ],
   "source": [
    "\n",
    "\n",
    "#_ = sg.summarizeMe(sg.testLoader, True)\n",
    "#_ = sg.summarizeMe(sg.testLoader, False)\n",
    "#_ = sg.summarizeMe(sg.trainLoader, True)\n",
    "#_ = sg.summarizeMe(sg.trainLoader, False)\n",
    "#sg.displayImages()\n",
    "\n",
    "### no prenorm\n",
    "\n",
    "sg.metrices = {\n",
    "    'Adv'    : sg.Metrics(sg.loss_Adv_Gen, 0.000e+00, 0),\n",
    "    'MSE'    : sg.Metrics(sg.loss_MSE,     1.510e-02, 1),\n",
    "    'MSEN'   : sg.Metrics(sg.loss_MSEN,    2.258e+01, 0),\n",
    "    'L1L'    : sg.Metrics(sg.loss_L1L,     4.969e-01, 0),\n",
    "    'L1LN'   : sg.Metrics(sg.loss_L1LN,    3.358e+01, 0),\n",
    "    'SSIM'   : sg.Metrics(sg.loss_SSIM,    5.112e-04, 0),\n",
    "    'MSSSIM' : sg.Metrics(sg.loss_MSSSIM,  3.992e-06, 0),\n",
    "}\n",
    "\n",
    "\n",
    "#sg.displayImages()"
   ]
  },
  {
   "cell_type": "markdown",
   "metadata": {},
   "source": [
    "## <font style=\"color:lightblue\">Restore checkpoint</font>"
   ]
  },
  {
   "cell_type": "code",
   "execution_count": null,
   "metadata": {},
   "outputs": [
    {
     "name": "stdout",
     "output_type": "stream",
     "text": [
      "Initial LR : G 1.000e-03 (1.0000)\n"
     ]
    }
   ],
   "source": [
    "\n",
    "sg.scheduler_G = torch.optim.lr_scheduler.StepLR(sg.optimizer_G, 1, gamma=1)\n",
    "#sg.scheduler_D = torch.optim.lr_scheduler.StepLR(sg.optimizer_D, 1, gamma=1)\n",
    "savedCheckPoint = f\"checkPoint_{sg.TCfg.exec}\"\n",
    "sg.epoch, sg.imer, sg.minGEpoch, sg.minGdLoss, sg.startFrom, sg.resAcc = \\\n",
    "    sg.restoreCheckpoint()#savedCheckPoint+\".pth\")\n",
    "#sg.epoch, sg.imer, sg.minGEpoch, sg.minGdLoss, sg.startFrom = 0, 0, 0, 1, 0\n",
    "sg.writer = sg.createWriter(sg.TCfg.logDir, True)\n",
    "#sg.writer.add_graph(sg.generator, ((sg.refImages, sg.refNoises),) )\n",
    "#sg.writer.add_graph(sg.discriminator, refImages)\n",
    "\n",
    "\n",
    "\n",
    "sg.scheduler_G.gamma = 1-0.01\n",
    "#sg.scheduler_D.gamma = 1-0.005\n",
    "#sg.optimizer_G.step()\n",
    "#torch.optim.lr_scheduler.LambdaLR(sg.optimizer_G, lambda epoch: 1).step()\n",
    "#sg.optimizer_D.step()\n",
    "#torch.optim.lr_scheduler.LambdaLR(sg.optimizer_D, lambda epoch: 0.05).step()\n",
    "\n",
    "print(f\"Initial LR : G {sg.scheduler_G.get_last_lr()[0]:.3e} ({sg.scheduler_G.get_last_lr()[0]/sg.TCfg.learningRateG:.4f})\")\n",
    "                  #f\" D {sg.scheduler_D.get_last_lr()[0]:.3e} ({sg.scheduler_D.get_last_lr()[0]/sg.TCfg.learningRateD:.4f}), Epoch {sg.epoch} {sg.imer}\")\n"
   ]
  },
  {
   "cell_type": "code",
   "execution_count": 13,
   "metadata": {},
   "outputs": [
    {
     "data": {
      "image/png": "[encoded data removed]",
      "text/plain": [
       "<Figure size 1427.2x1070.4 with 4 Axes>"
      ]
     },
     "metadata": {},
     "output_type": "display_data"
    },
    {
     "data": {
      "image/png": "[encoded data removed]",
      "text/plain": [
       "<Figure size 1427.2x1070.4 with 4 Axes>"
      ]
     },
     "metadata": {},
     "output_type": "display_data"
    },
    {
     "data": {
      "image/png": "[encoded data removed]",
      "text/plain": [
       "<Figure size 1427.2x1070.4 with 4 Axes>"
      ]
     },
     "metadata": {},
     "output_type": "display_data"
    },
    {
     "data": {
      "image/png": "[encoded data removed]",
      "text/plain": [
       "<Figure size 1427.2x1070.4 with 4 Axes>"
      ]
     },
     "metadata": {},
     "output_type": "display_data"
    }
   ],
   "source": [
    "sg.displayImages()\n",
    "#_ = sg.summarizeMe(sg.testLoader, False)"
   ]
  },
  {
   "cell_type": "markdown",
   "metadata": {},
   "source": [
    "## <font style=\"color:lightblue\">Execute</font>"
   ]
  },
  {
   "cell_type": "code",
   "execution_count": null,
   "metadata": {},
   "outputs": [
    {
     "name": "stdout",
     "output_type": "stream",
     "text": [
      "Epoch: 15 (14).  Images: 106496. DIS: 0.000e+00, GEN: 1.394e+00. Probs: True 0.000e+00, Fake 0.000e+00.\n",
      "Individual losses: Adv: 1.000e+00  MSE: 1.394e+00  MSEN: 1.165e+00  L1L: 1.871e+00  L1LN: 1.092e+00  SSIM: 1.210e+00  MSSSIM: 2.636e+00 \n",
      "\n"
     ]
    },
    {
     "data": {
      "image/png": "[encoded data removed]",
      "text/plain": [
       "<Figure size 1427.2x1070.4 with 10 Axes>"
      ]
     },
     "metadata": {},
     "output_type": "display_data"
    },
    {
     "name": "stderr",
     "output_type": "stream",
     "text": [
      "  3%|▎         | 139/4008 [01:22<37:54,  1.70it/s]"
     ]
    }
   ],
   "source": [
    "\n",
    "\n",
    "sg.scheduler_G.gamma = 1-0.01\n",
    "def my_beforeReport(sglocals) :\n",
    "    message = \"\"\n",
    "\n",
    "    message += \"G\" + sg.adjustScheduler(sg.scheduler_G, sg.TCfg.learningRateG, 0.01)\n",
    "    sg.writer.add_scalars(\"Aux\", {'LrnRate': sg.scheduler_G.get_last_lr()[0]/sg.TCfg.learningRateG}, sg.imer)\n",
    "\n",
    "    #for metrics in ('L1L','SSIM','MSSSIM') :\n",
    "    #    sg.metrices[metrics].weight = max(0, sg.metrices[metrics].weight - 0.005)\n",
    "    #    message += f\"{metrics} weight: {sg.metrices[metrics].weight}. \"\n",
    "    #    sg.writer.add_scalars(\"Aux\", {metrics: sg.metrices[metrics].weight}, sg.imer)\n",
    "\n",
    "    print(message)\n",
    "    return\n",
    "#sg.beforeReport = my_beforeReport\n",
    "\n",
    "def my_beforeEachEpoch(sglocals) :\n",
    "\n",
    "    sg.TCfg.batchSize = min(2**16, sg.TCfg.batchSize * 2)\n",
    "    sg.TCfg.batchSplit = max(2**0, int(sg.TCfg.batchSize / 2**13))\n",
    "    sg.writer.add_scalars(\"Aux\", {'Batch size': math.log(sg.TCfg.batchSize,2)}, sg.imer)\n",
    "    print(f\"Batch size: {sg.TCfg.batchSize}, split: {sg.TCfg.batchSplit}\", )\n",
    "    return\n",
    "#sg.beforeEachEpoch = my_beforeEachEpoch\n",
    "\n",
    "try :\n",
    "    sg.train(savedCheckPoint)\n",
    "except :\n",
    "\n",
    "    #del sg.dataLoader\n",
    "    #del sg.testLoaderhuiVam\n",
    "    sg.freeGPUmem()\n",
    "    1/10 # to release Jupyuter memory in the next step\n",
    "    sg.epoch -= 1\n",
    "    raise\n",
    "\n",
    "\n",
    "\n",
    "# loss MSE raw, BS=2**8, LR=1e-3\n"
   ]
  },
  {
   "cell_type": "markdown",
   "metadata": {},
   "source": [
    "## <font style=\"color:lightblue\">Post</font>"
   ]
  },
  {
   "cell_type": "code",
   "execution_count": null,
   "metadata": {},
   "outputs": [],
   "source": [
    "sg.saveCheckPoint(savedCheckPoint+\".pth\",\n",
    "                           sg.epoch+1, sg.imer, sg.minGEpoch, sg.minGLoss,\n",
    "                           sg.generator, sg.discriminator,\n",
    "                           sg.optimizer_G, sg.optimizer_D)\n"
   ]
  },
  {
   "cell_type": "code",
   "execution_count": null,
   "metadata": {},
   "outputs": [],
   "source": [
    "for key in sg.resAcc.metrices.keys() :\n",
    "    if sg.metrices[key].norm > 0 :\n",
    "        sg.writer.add_scalars(\"Metrices_per_epoch\", {key : sg.resAcc.metrices[key],}, sg.epoch )\n",
    "\n",
    "resTest = sg.summarizeMe(sg.testLoader, False)\n",
    "resTest *= 1/resTest.nofIm\n",
    "sg.writer.add_scalars(\"Losses epoch test\",\n",
    "                   {'Dis': resTest.lossD\n",
    "                   ,'Gen': resTest.lossG\n",
    "                   #,'Adv' : resTest.metrices['Adv']\n",
    "                   }, sg.epoch )\n",
    "for key in resTest.metrices.keys() :\n",
    "    if sg.metrices[key].norm > 0 :\n",
    "        sg.writer.add_scalars(\"Metrices epoch test\", {key : resTest.metrices[key],}, sg.epoch )\n",
    "sg.writer.add_scalars(\"Probs epoch test\",\n",
    "                   {'Ref':resTest.predReal\n",
    "                   ,'Gen':resTest.predFake\n",
    "                   #,'Pre':trainRes.predGen\n",
    "                   }, sg.epoch )\n",
    "\n",
    "\n",
    "\n"
   ]
  },
  {
   "cell_type": "code",
   "execution_count": null,
   "metadata": {},
   "outputs": [],
   "source": [
    "sg.testMe(trainSet, 5)"
   ]
  },
  {
   "cell_type": "markdown",
   "metadata": {},
   "source": [
    "### <font style=\"color:lightblue\">Save results</font>"
   ]
  },
  {
   "cell_type": "code",
   "execution_count": null,
   "metadata": {},
   "outputs": [],
   "source": [
    "sg.saveModels()"
   ]
  },
  {
   "cell_type": "code",
   "execution_count": null,
   "metadata": {},
   "outputs": [],
   "source": []
  }
 ],
 "metadata": {
  "kernelspec": {
   "display_name": "torchEnv",
   "language": "python",
   "name": "python3"
  },
  "language_info": {
   "codemirror_mode": {
    "name": "ipython",
    "version": 3
   },
   "file_extension": ".py",
   "mimetype": "text/x-python",
   "name": "python",
   "nbconvert_exporter": "python",
   "pygments_lexer": "ipython3",
   "version": "3.13.3"
  }
 },
 "nbformat": 4,
 "nbformat_minor": 2
}
