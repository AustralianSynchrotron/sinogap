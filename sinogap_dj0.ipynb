{
 "cells": [
  {
   "cell_type": "markdown",
   "metadata": {},
   "source": [
    "## <font style=\"color:lightblue\">Header</font>"
   ]
  },
  {
   "cell_type": "markdown",
   "metadata": {},
   "source": [
    "### <font style=\"color:lightblue\">Imports</font>"
   ]
  },
  {
   "cell_type": "code",
   "execution_count": 1,
   "metadata": {},
   "outputs": [],
   "source": [
    "#%load_ext autoreload\n",
    "#%autoreload 2\n",
    "\n",
    "import math\n",
    "import numpy as np\n",
    "import torch\n",
    "import torch.nn as nn\n",
    "from torchinfo import summary\n",
    "import itertools\n",
    "import random\n",
    "\n",
    "\n",
    "import sinogap_module as sg\n",
    "\n",
    "\n"
   ]
  },
  {
   "cell_type": "markdown",
   "metadata": {},
   "source": [
    "### <font style=\"color:lightblue\">Redefine</font>"
   ]
  },
  {
   "cell_type": "code",
   "execution_count": 2,
   "metadata": {},
   "outputs": [],
   "source": [
    "sg.plt.rcParams['figure.dpi']=223\n",
    "\n",
    "\n",
    "def my_train_step(images):\n",
    "    global trainDis, trainGen, eDinfo\n",
    "    sg.trainInfo.iterations += 1\n",
    "\n",
    "    nofIm = images.shape[0]\n",
    "    images = images.squeeze(1).to(sg.TCfg.device)\n",
    "    imWeights = sg.calculateWeights(images)\n",
    "\n",
    "    labelsTrue = torch.full((nofIm, 1),  1 - sg.TCfg.labelSmoothFac,\n",
    "                        dtype=torch.float, device=sg.TCfg.device)\n",
    "    labelsFalse = torch.full((nofIm, 1),  sg.TCfg.labelSmoothFac,\n",
    "                        dtype=torch.float, device=sg.TCfg.device)\n",
    "\n",
    "    D_loss = None\n",
    "    G_loss = None\n",
    "    #GA_loss = None\n",
    "    #GD_loss = None\n",
    "    ratReal = 0\n",
    "    ratFake = 0\n",
    "    procImages, procReverseData = sg.imagesPreProc(images)\n",
    "\n",
    "    # calculate predictions of prefilled images - purely for metrics purposes\n",
    "    #sg.discriminator.eval()\n",
    "    #sg.generator.eval()\n",
    "    #fakeImagesD = procImages.clone().detach()\n",
    "    #fakeImagesD.requires_grad=False\n",
    "    #with torch.no_grad() :\n",
    "    #    fakeImagesD[sg.DCfg.gapRng] = sg.generator.preProc(procImages)\n",
    "    #pred_preD = sg.discriminator(fakeImagesD)\n",
    "\n",
    "    #try :\n",
    "    #    generator.eval()\n",
    "    #    discriminator.train()\n",
    "    #    optimizer_D.zero_grad()\n",
    "    #    with torch.no_grad() :\n",
    "    #        fakeImagesD[()] = generator.generateImages(procImages)\n",
    "    #    pred_realD = discriminator(procImages)\n",
    "    #    pred_fakeD = discriminator(fakeImagesD)\n",
    "    #    generator.preProc(images)\n",
    "    #\n",
    "    #    pred_both = torch.cat((pred_realD, pred_fakeD), dim=0)\n",
    "    #    labels = torch.cat( (labelsTrue, labelsFalse), dim=0).to(TCfg.device)\n",
    "    #    D_loss = loss_Adv(labels, pred_both,\n",
    "    #                      None if imWeights is None else torch.cat( (imWeights, imWeights) )  )\n",
    "    #    D_loss.backward()\n",
    "    #    optimizer_D.step()\n",
    "    #except :\n",
    "    #    optimizer_D.zero_grad()\n",
    "    #    del fakeImagesD\n",
    "    #    del pred_realD\n",
    "    #    del pred_fakeD\n",
    "    #    del pred_both\n",
    "    #    del D_loss\n",
    "    #    raise\n",
    "    #ratReal = torch.count_nonzero(pred_realD > 0.5)/nofIm\n",
    "    #ratFake = torch.count_nonzero(pred_fakeD > 0.5)/nofIm\n",
    "\n",
    "    try :\n",
    "        #discriminator.eval()\n",
    "        sg.generator.train()\n",
    "        sg.optimizer_G.zero_grad()\n",
    "        fakeImagesG = sg.generator.generateImages(procImages)\n",
    "        #pred_fakeG=None\n",
    "        #if sg.withNoGrad :\n",
    "        #    with torch.no_grad() :\n",
    "        #        pred_fakeG = discriminator(fakeImagesG)\n",
    "        #else :\n",
    "        #    pred_fakeG = discriminator(fakeImagesG)\n",
    "        #GA_loss, GD_loss = loss_Gen(labelsTrue, pred_fakeG,\n",
    "        #                            procImages[DCfg.gapRng], fakeImagesG[DCfg.gapRng],\n",
    "        #                            imWeights)\n",
    "        #G_loss = GA_loss + lossDifCoef * GD_loss\n",
    "        G_loss = sg.loss_Rec(procImages[sg.DCfg.gapRng], fakeImagesG[sg.DCfg.gapRng],\n",
    "                             imWeights)\n",
    "        G_loss.backward()\n",
    "        sg.optimizer_G.step()\n",
    "    except :\n",
    "        sg.optimizer_G.zero_grad()\n",
    "        del fakeImagesG\n",
    "        #del pred_fakeG\n",
    "        del G_loss\n",
    "        #del GA_loss\n",
    "        #del GD_loss\n",
    "        raise\n",
    "    #ratFake = torch.count_nonzero(pred_fakeG > 0.5)/nofIm\n",
    "\n",
    "    MSE_loss = L1L_loss = None\n",
    "    with torch.no_grad() :\n",
    "\n",
    "        deprocFakeImages = sg.imagesPostProc(fakeImagesG, procReverseData)\n",
    "        MSE_loss = sg.loss_MSE(images[sg.DCfg.gapRng], deprocFakeImages[sg.DCfg.gapRng])\n",
    "        L1L_loss = sg.loss_L1L(images[sg.DCfg.gapRng], deprocFakeImages[sg.DCfg.gapRng])\n",
    "\n",
    "        idx = random.randint(0, nofIm-1) # pred_realD.argmax()\n",
    "        sg.trainInfo.bestRealImage = deprocFakeImages[idx,...].clone().detach()\n",
    "        sg.trainInfo.bestRealProb = sg.MSE(images[idx,*sg.DCfg.gapRng],\n",
    "                                           deprocFakeImages[idx,*sg.DCfg.gapRng]).mean().item()\n",
    "        sg.trainInfo.bestRealIndex = idx\n",
    "\n",
    "        idx = random.randint(0, nofIm-1) #pred_realD.argmin()\n",
    "        sg.trainInfo.worstRealImage = deprocFakeImages[idx,...].clone().detach()\n",
    "        sg.trainInfo.worstRealProb = sg.MSE(images[idx,*sg.DCfg.gapRng],\n",
    "                                            deprocFakeImages[idx,*sg.DCfg.gapRng]).mean().item()\n",
    "        sg.trainInfo.worstRealIndex = idx\n",
    "\n",
    "        idx = random.randint(0, nofIm-1) #pred_fakeG.argmax()\n",
    "        sg.trainInfo.bestFakeImage = deprocFakeImages[idx,...].clone().detach()\n",
    "        sg.trainInfo.bestFakeProb = sg.MSE(images[idx,*sg.DCfg.gapRng],\n",
    "                                           deprocFakeImages[idx,*sg.DCfg.gapRng]).mean().item()\n",
    "        sg.trainInfo.bestFakeIndex = idx\n",
    "\n",
    "        idx = random.randint(0, nofIm-1) #pred_fakeG.argmin()\n",
    "        sg.trainInfo.worstFakeImage = deprocFakeImages[idx,...].clone().detach()\n",
    "        sg.trainInfo.worstFakeProb = sg.MSE(images[idx,*sg.DCfg.gapRng],\n",
    "                                           deprocFakeImages[idx,*sg.DCfg.gapRng]).mean().item()\n",
    "        sg.trainInfo.worstFakeIndex = idx\n",
    "\n",
    "        sg.trainInfo.highestDifIndex = sg.eDinfo[0]\n",
    "        sg.trainInfo.highestDif = sg.eDinfo[1]\n",
    "        sg.trainInfo.highestDifImageOrg = images[sg.trainInfo.highestDifIndex,...].clone().detach()\n",
    "        sg.trainInfo.highestDifImageGen = deprocFakeImages[sg.trainInfo.highestDifIndex,...].clone().detach()\n",
    "        sg.trainInfo.lowestDifIndex = sg.eDinfo[2]\n",
    "        sg.trainInfo.lowestDif = sg.eDinfo[3]\n",
    "\n",
    "        sg.trainInfo.ratReal += ratReal * nofIm\n",
    "        sg.trainInfo.ratFake += ratFake * nofIm\n",
    "        sg.trainInfo.totalImages += nofIm\n",
    "\n",
    "    return G_loss, G_loss, G_loss, MSE_loss, L1L_loss, \\\n",
    "           torch.zeros(1),  torch.zeros(1),  torch.zeros(1)\n",
    "\n",
    "sg.train_step = my_train_step\n"
   ]
  },
  {
   "cell_type": "markdown",
   "metadata": {},
   "source": [
    "### <font style=\"color:lightblue\">Configs</font>"
   ]
  },
  {
   "cell_type": "code",
   "execution_count": 3,
   "metadata": {},
   "outputs": [],
   "source": [
    "sg.set_seed(7)\n",
    "\n",
    "sg.TCfg = sg.TCfgClass(\n",
    "     exec = 0\n",
    "    ,nofEpochs = 2048\n",
    "    ,latentDim = 64\n",
    "    ,batchSize =  131072 #81920 # 65536 #58000\n",
    "    ,labelSmoothFac = 0.1 # For Fake labels (or set to 0.0 for no smoothing).\n",
    "    ,learningRateD = 0.0002\n",
    "    ,learningRateG = 0.0002\n",
    ")\n",
    "\n",
    "sg.DCfg = sg.DCfgClass(2)\n"
   ]
  },
  {
   "cell_type": "code",
   "execution_count": 4,
   "metadata": {},
   "outputs": [
    {
     "name": "stdout",
     "output_type": "stream",
     "text": [
      "DCfgClass(gapW=2, sinoSh=(10, 10), readSh=(80, 80), sinoSize=100, gapSh=(10, 2), gapSize=20, gapRngX=slice(4, 6, None), gapRng=(Ellipsis, slice(4, 6, None)), disRng=(slice(2, -2, None), slice(4, 6, None)))\n"
     ]
    }
   ],
   "source": [
    "print(sg.DCfg)"
   ]
  },
  {
   "cell_type": "markdown",
   "metadata": {},
   "source": [
    "### <font style=\"color:lightblue\">Raw Read</font>"
   ]
  },
  {
   "cell_type": "code",
   "execution_count": 5,
   "metadata": {},
   "outputs": [
    {
     "name": "stdout",
     "output_type": "stream",
     "text": [
      "Loaded set 4176862R_Eig_Threshold-4keV\n",
      "Loaded set 18515.Lamb1_Eiger_7m_45keV_360Scan\n",
      "Loaded set 23574.8965435L.Eiger.32kev_org\n",
      "Loaded set 23574.8965435L.Eiger.32kev_sft\n"
     ]
    }
   ],
   "source": [
    "trainSet = sg.createTrainSet()\n",
    "prepGdLoss=0"
   ]
  },
  {
   "cell_type": "markdown",
   "metadata": {},
   "source": [
    "### <font style=\"color:lightblue\">Show</font>"
   ]
  },
  {
   "cell_type": "code",
   "execution_count": 6,
   "metadata": {},
   "outputs": [
    {
     "name": "stdout",
     "output_type": "stream",
     "text": [
      "2.495e-01, 9.086e-02, 3.709e-02, 4.053e-01\n"
     ]
    },
    {
     "data": {
      "image/png": "[encoded data removed]",
      "text/plain": [
       "<Figure size 1427.2x1070.4 with 1 Axes>"
      ]
     },
     "metadata": {},
     "output_type": "display_data"
    }
   ],
   "source": [
    "\n",
    "sg.refImages, sg.refNoises = sg.createReferences(trainSet, 7)\n",
    "sg.showMe(trainSet, 0)\n"
   ]
  },
  {
   "cell_type": "code",
   "execution_count": null,
   "metadata": {},
   "outputs": [],
   "source": []
  },
  {
   "cell_type": "markdown",
   "metadata": {
    "notebookRunGroups": {
     "groupValue": "2"
    }
   },
   "source": [
    "## <font style=\"color:lightblue\">Models</font>"
   ]
  },
  {
   "cell_type": "markdown",
   "metadata": {},
   "source": [
    "### <font style=\"color:lightblue\">Generator</font>"
   ]
  },
  {
   "cell_type": "code",
   "execution_count": 7,
   "metadata": {},
   "outputs": [
    {
     "name": "stdout",
     "output_type": "stream",
     "text": [
      "==========================================================================================\n",
      "Layer (type:depth-idx)                   Output Shape              Param #\n",
      "==========================================================================================\n",
      "Generator                                [1, 1, 10, 2]             --\n",
      "├─ModuleList: 1-1                        --                        --\n",
      "│    └─Sequential: 2-1                   [1, 64, 8, 8]             --\n",
      "│    │    └─Conv2d: 3-1                  [1, 64, 8, 8]             640\n",
      "│    │    └─LeakyReLU: 3-2               [1, 64, 8, 8]             --\n",
      "│    └─Sequential: 2-2                   [1, 64, 6, 6]             --\n",
      "│    │    └─Conv2d: 3-3                  [1, 64, 6, 6]             36,928\n",
      "│    │    └─BatchNorm2d: 3-4             [1, 64, 6, 6]             128\n",
      "│    │    └─LeakyReLU: 3-5               [1, 64, 6, 6]             --\n",
      "│    └─Sequential: 2-3                   [1, 64, 4, 4]             --\n",
      "│    │    └─Conv2d: 3-6                  [1, 64, 4, 4]             36,928\n",
      "│    │    └─BatchNorm2d: 3-7             [1, 64, 4, 4]             128\n",
      "│    │    └─LeakyReLU: 3-8               [1, 64, 4, 4]             --\n",
      "├─Sequential: 1-2                        [1, 64, 4, 4]             --\n",
      "│    └─Flatten: 2-4                      [1, 1024]                 --\n",
      "│    └─Linear: 2-5                       [1, 1024]                 1,049,600\n",
      "│    └─LeakyReLU: 2-6                    [1, 1024]                 --\n",
      "│    └─Linear: 2-7                       [1, 1024]                 1,049,600\n",
      "│    └─LeakyReLU: 2-8                    [1, 1024]                 --\n",
      "│    └─Unflatten: 2-9                    [1, 64, 4, 4]             --\n",
      "├─ModuleList: 1-3                        --                        --\n",
      "│    └─Sequential: 2-10                  [1, 64, 6, 6]             --\n",
      "│    │    └─ConvTranspose2d: 3-9         [1, 64, 6, 6]             73,792\n",
      "│    │    └─BatchNorm2d: 3-10            [1, 64, 6, 6]             128\n",
      "│    │    └─LeakyReLU: 3-11              [1, 64, 6, 6]             --\n",
      "│    └─Sequential: 2-11                  [1, 64, 8, 8]             --\n",
      "│    │    └─ConvTranspose2d: 3-12        [1, 64, 8, 8]             73,792\n",
      "│    │    └─BatchNorm2d: 3-13            [1, 64, 8, 8]             128\n",
      "│    │    └─LeakyReLU: 3-14              [1, 64, 8, 8]             --\n",
      "│    └─Sequential: 2-12                  [1, 64, 10, 10]           --\n",
      "│    │    └─ConvTranspose2d: 3-15        [1, 64, 10, 10]           73,792\n",
      "│    │    └─LeakyReLU: 3-16              [1, 64, 10, 10]           --\n",
      "├─Sequential: 1-4                        [1, 1, 10, 10]            --\n",
      "│    └─Conv2d: 2-13                      [1, 1, 10, 10]            66\n",
      "│    └─Tanh: 2-14                        [1, 1, 10, 10]            --\n",
      "==========================================================================================\n",
      "Total params: 2,395,650\n",
      "Trainable params: 2,395,650\n",
      "Non-trainable params: 0\n",
      "Total mult-adds (Units.MEGABYTES): 18.83\n",
      "==========================================================================================\n",
      "Input size (MB): 0.00\n",
      "Forward/backward pass size (MB): 0.26\n",
      "Params size (MB): 9.58\n",
      "Estimated Total Size (MB): 9.84\n",
      "==========================================================================================\n"
     ]
    }
   ],
   "source": [
    "\n",
    "\n",
    "class Generator(sg.GeneratorTemplate):\n",
    "\n",
    "    def __init__(self):\n",
    "        super(Generator, self).__init__(2)\n",
    "\n",
    "        #latentChannels = 7\n",
    "        #self.noise2latent = nn.Sequential(\n",
    "        #    nn.Linear(sg.TCfg.latentDim, self.sinoSize*latentChannels),\n",
    "        #    nn.ReLU(),\n",
    "        #    nn.Unflatten( 1, (latentChannels,) + self.sinoSh )\n",
    "        #)\n",
    "\n",
    "        baseChannels = 64\n",
    "\n",
    "        def encblock(chIn, chOut, kernel, stride=1, norm=True) :\n",
    "            layers = []\n",
    "            layers.append(nn.Conv2d(chIn, chOut, kernel, stride=stride, bias=True))\n",
    "            if norm :\n",
    "                layers.append(nn.BatchNorm2d(chOut))\n",
    "            layers.append(nn.LeakyReLU(0.2))\n",
    "            sg.fillWheights(layers)\n",
    "            return torch.nn.Sequential(*layers)\n",
    "        self.encoders =  nn.ModuleList([\n",
    "            encblock(  1,                baseChannels, 3, norm=False),\n",
    "            encblock(  baseChannels,     baseChannels, 3),\n",
    "            encblock(  baseChannels,     baseChannels, 3),\n",
    "            ])\n",
    "\n",
    "        smpl = torch.zeros((1,1,*self.sinoSh))\n",
    "        for encoder in self.encoders :\n",
    "            smpl = encoder(smpl)\n",
    "        encSh = smpl.shape\n",
    "        linChannels = math.prod(encSh)\n",
    "        self.fcLink = nn.Sequential(\n",
    "            nn.Flatten(),\n",
    "            nn.Linear(linChannels, linChannels),\n",
    "            nn.LeakyReLU(0.2),\n",
    "            nn.Linear(linChannels, linChannels),\n",
    "            nn.LeakyReLU(0.2),\n",
    "            nn.Unflatten(1, encSh[1:]),\n",
    "        )\n",
    "        sg.fillWheights(self.fcLink)\n",
    "\n",
    "        def decblock(chIn, chOut, kernel, stride=1, norm=True) :\n",
    "            layers = []\n",
    "            layers.append(nn.ConvTranspose2d(chIn, chOut, kernel, stride, bias=True))\n",
    "            if norm :\n",
    "                layers.append(nn.BatchNorm2d(chOut))\n",
    "            layers.append(nn.LeakyReLU(0.2))\n",
    "            sg.fillWheights(layers)\n",
    "            return torch.nn.Sequential(*layers)\n",
    "        self.decoders = nn.ModuleList([\n",
    "            decblock(2*baseChannels, baseChannels, 3),\n",
    "            decblock(2*baseChannels, baseChannels, 3),\n",
    "            decblock(2*baseChannels, baseChannels, 3, norm=False),\n",
    "            ])\n",
    "\n",
    "        self.lastTouch = nn.Sequential(\n",
    "            nn.Conv2d(baseChannels+1, 1, 1),\n",
    "            nn.Tanh(),\n",
    "        )\n",
    "        sg.fillWheights(self.lastTouch)\n",
    "\n",
    "\n",
    "    def forward(self, input):\n",
    "\n",
    "        images, _ = input\n",
    "        images, orgDims = sg.unsqeeze4dim(images)\n",
    "        modelIn = images.clone()\n",
    "        modelIn[self.gapRng] = self.preProc(images)\n",
    "\n",
    "        minv = modelIn.min(dim=-1).values.min(dim=-1).values\n",
    "        ampl = modelIn.max(dim=-1).values.max(dim=-1).values - minv\n",
    "        minv = minv[:,:,None,None]\n",
    "        ampl = ampl[:,:,None,None]\n",
    "        iampl = torch.where(ampl==0, 0, 2/ampl)\n",
    "        modelIn = ( modelIn - minv ) * iampl - 1 # stretch\n",
    "\n",
    "        #latent = self.noise2latent(noises)\n",
    "        #modelIn = torch.cat((modelIn,latent),dim=1).to(sg.TCfg.device)\n",
    "        dwTrain = [modelIn,]\n",
    "        for encoder in self.encoders :\n",
    "            dwTrain.append(encoder(dwTrain[-1]))\n",
    "        mid = self.fcLink(dwTrain[-1])\n",
    "        upTrain = [mid]\n",
    "        for level, decoder in enumerate(self.decoders) :\n",
    "            upTrain.append( decoder( torch.cat( (upTrain[-1], dwTrain[-1-level]), dim=1 ) ) )\n",
    "        res = self.lastTouch(torch.cat( (upTrain[-1], modelIn), dim=1 ))\n",
    "\n",
    "        patches = ( 2*res[self.gapRng] + modelIn[:,[0],:, self.gapRngX] + 1 ) * ampl / 2 + minv #destretch\n",
    "        return sg.squeezeOrg(patches, orgDims)\n",
    "\n",
    "\n",
    "sg.generator = Generator()\n",
    "sg.generator.to(sg.TCfg.device)\n",
    "model_summary = summary(sg.generator, input_data=[ [sg.refImages[[0],...], sg.refNoises[[0],...]] ] ).__str__()\n",
    "print(model_summary)\n",
    "#sg.writer.add_graph(sg.generator, ((sg.refImages, sg.refNoises),) )\n",
    "\n",
    "\n"
   ]
  },
  {
   "cell_type": "markdown",
   "metadata": {},
   "source": [
    "### <font style=\"color:lightblue\">Discriminator</font>"
   ]
  },
  {
   "cell_type": "code",
   "execution_count": 8,
   "metadata": {},
   "outputs": [],
   "source": [
    "\n",
    "class Discriminator(sg.DiscriminatorTemplate):\n",
    "\n",
    "    def __init__(self):\n",
    "        super(Discriminator, self).__init__()\n",
    "        baseChannels = 64\n",
    "\n",
    "        def encblock(chIn, chOut, kernel, stride=1, norm=True) :\n",
    "            layers = []\n",
    "            layers.append(nn.Conv2d(chIn, chOut, kernel, stride=stride, bias=True))\n",
    "            if norm :\n",
    "                layers.append(nn.BatchNorm2d(chOut))\n",
    "            layers.append(nn.LeakyReLU(0.2))\n",
    "            return torch.nn.Sequential(*layers)\n",
    "        self.body = nn.Sequential(\n",
    "            encblock(1,            baseChannels, 3, norm=False),\n",
    "            encblock(baseChannels, baseChannels, 3),\n",
    "            encblock(baseChannels, baseChannels, 3),\n",
    "        )\n",
    "        sg.fillWheights(self.body)\n",
    "\n",
    "        encSh = self.body(torch.zeros((1,1,*sg.DCfg.sinoSh))).shape\n",
    "        linChannels = math.prod(encSh)\n",
    "        self.head = nn.Sequential(\n",
    "            nn.Flatten(),\n",
    "            nn.Linear(linChannels, baseChannels*2),\n",
    "            nn.LeakyReLU(0.2),\n",
    "            nn.Linear(baseChannels*2, 1),\n",
    "            nn.Sigmoid()\n",
    "        )\n",
    "        sg.fillWheights(self.head)\n",
    "\n",
    "    def forward(self, images):\n",
    "        return torch.zeros((images.shape[0],1), device=sg.TCfg.device)\n",
    "\n",
    "\n",
    "sg.discriminator = Discriminator()\n",
    "sg.discriminator = sg.discriminator.to(sg.TCfg.device)\n",
    "model_summary = summary(sg.discriminator, input_data=sg.refImages[0,...] ).__str__()\n",
    "#print(model_summary)\n",
    "#sg.writer.add_graph(sg.discriminator, refImages)\n",
    "\n"
   ]
  },
  {
   "cell_type": "markdown",
   "metadata": {},
   "source": [
    "### <font style=\"color:lightblue\">Optimizers</font>"
   ]
  },
  {
   "cell_type": "code",
   "execution_count": 9,
   "metadata": {},
   "outputs": [],
   "source": [
    "sg.optimizer_G , sg.optimizer_D = sg.createOptimizers()"
   ]
  },
  {
   "cell_type": "markdown",
   "metadata": {},
   "source": [
    "## <font style=\"color:lightblue\">Restore checkpoint</font>"
   ]
  },
  {
   "cell_type": "code",
   "execution_count": null,
   "metadata": {},
   "outputs": [
    {
     "name": "stdout",
     "output_type": "stream",
     "text": [
      "Probabilities of reference images: Ref: 0.000e+00, Gen: 0.000e+00, Pre: 0.000e+00.\n",
      "Distances of reference images: REC: 1.578e-02, MSE: 1.578e-02, L1L: 8.067e-02.\n"
     ]
    },
    {
     "data": {
      "image/png": "[encoded data removed]",
      "text/plain": [
       "<Figure size 1427.2x1070.4 with 1 Axes>"
      ]
     },
     "metadata": {},
     "output_type": "display_data"
    }
   ],
   "source": [
    "savedCheckPoint = f\"checkPoint_{sg.TCfg.exec}\"\n",
    "sg.epoch, sg.iter, sg.minGEpoch, sg.minGdLoss = sg.restoreCheckpoint(savedCheckPoint+\".pth\")\n",
    "#sg.epoch, sg.iter = 0 , 0\n",
    "sg.writer = sg.createWriter(sg.TCfg.logDir, True)\n",
    "#sg.writer.add_graph(sg.generator, ((sg.refImages, sg.refNoises),) )\n",
    "#sg.writer.add_graph(sg.discriminator, refImages)\n",
    "sg.initialTest()"
   ]
  },
  {
   "cell_type": "markdown",
   "metadata": {},
   "source": [
    "## <font style=\"color:lightblue\">Execute</font>"
   ]
  },
  {
   "cell_type": "code",
   "execution_count": 1,
   "metadata": {},
   "outputs": [
    {
     "ename": "NameError",
     "evalue": "name 'sg' is not defined",
     "output_type": "error",
     "traceback": [
      "\u001b[0;31m---------------------------------------------------------------------------\u001b[0m",
      "\u001b[0;31mNameError\u001b[0m                                 Traceback (most recent call last)",
      "Cell \u001b[0;32mIn[1], line 3\u001b[0m\n\u001b[1;32m      1\u001b[0m \u001b[38;5;66;03m#for item in itertools.chain( sg.optimizer_D.param_groups, sg.optimizer_G.param_groups ):\u001b[39;00m\n\u001b[1;32m      2\u001b[0m \u001b[38;5;66;03m#    item['lr'] *= 0.1\u001b[39;00m\n\u001b[0;32m----> 3\u001b[0m trainLoader \u001b[38;5;241m=\u001b[39m \u001b[43msg\u001b[49m\u001b[38;5;241m.\u001b[39mcreateTrainLoader(trainSet)\u001b[38;5;66;03m#, num_workers=0)\u001b[39;00m\n\u001b[1;32m      6\u001b[0m \u001b[38;5;66;03m#torch.autograd.set_detect_anomaly(True)\u001b[39;00m\n\u001b[1;32m      7\u001b[0m \u001b[38;5;66;03m#Summary. Rec: 6.114e-04, MSE: 6.114e-04, L1L: 9.813e-03.\u001b[39;00m\n\u001b[1;32m      8\u001b[0m sg\u001b[38;5;241m.\u001b[39mprepGdLoss \u001b[38;5;241m=\u001b[39m \u001b[38;5;241m6.114e-04\u001b[39m\n",
      "\u001b[0;31mNameError\u001b[0m: name 'sg' is not defined"
     ]
    }
   ],
   "source": [
    "\n",
    "#for item in itertools.chain( sg.optimizer_D.param_groups, sg.optimizer_G.param_groups ):\n",
    "#    item['lr'] *= 0.1\n",
    "trainLoader = sg.createTrainLoader(trainSet)#, num_workers=0)\n",
    "\n",
    "\n",
    "#torch.autograd.set_detect_anomaly(True)\n",
    "#Summary. Rec: 6.114e-04, MSE: 6.114e-04, L1L: 9.813e-03.\n",
    "sg.prepGdLoss = 6.114e-04\n",
    "if sg.prepGdLoss == 0:\n",
    "    Rec_diff, MSE_diff, L1L_diff = sg.summarizeSet(trainLoader)\n",
    "    sg.prepGdLoss = Rec_diff\n",
    "    sg.writer.add_scalars(\"Distances per epoch\",\n",
    "                          {'MSE0': MSE_diff\n",
    "                          ,'L1L0': L1L_diff\n",
    "                          ,'REC0': Rec_diff\n",
    "                          }, 0 )\n",
    "\n",
    "try :\n",
    "    sg.train(trainLoader, savedCheckPoint)\n",
    "except :\n",
    "    del trainLoader\n",
    "    sg.freeGPUmem()\n",
    "    1/10 # to release Jupyuter memory in the next step\n",
    "    raise\n",
    "\n",
    "# stretch-add,  wide, links, Diff, 3Layers, eval/train, nograd, double patches, double FC, pure MSE"
   ]
  },
  {
   "cell_type": "markdown",
   "metadata": {},
   "source": [
    "## <font style=\"color:lightblue\">Post</font>"
   ]
  },
  {
   "cell_type": "code",
   "execution_count": null,
   "metadata": {},
   "outputs": [],
   "source": [
    "sg.testMe(trainSet, 2)"
   ]
  },
  {
   "cell_type": "markdown",
   "metadata": {},
   "source": [
    "### <font style=\"color:lightblue\">Save results</font>"
   ]
  },
  {
   "cell_type": "code",
   "execution_count": null,
   "metadata": {},
   "outputs": [],
   "source": [
    "sg.saveModels()"
   ]
  },
  {
   "cell_type": "code",
   "execution_count": null,
   "metadata": {},
   "outputs": [],
   "source": []
  }
 ],
 "metadata": {
  "kernelspec": {
   "display_name": "pyenv",
   "language": "python",
   "name": "python3"
  },
  "language_info": {
   "codemirror_mode": {
    "name": "ipython",
    "version": 3
   },
   "file_extension": ".py",
   "mimetype": "text/x-python",
   "name": "python",
   "nbconvert_exporter": "python",
   "pygments_lexer": "ipython3",
   "version": "3.12.3"
  }
 },
 "nbformat": 4,
 "nbformat_minor": 2
}
