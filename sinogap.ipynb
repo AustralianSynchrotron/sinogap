{
 "cells": [
  {
   "cell_type": "markdown",
   "metadata": {},
   "source": [
    "## <font style=\"color:blue\">Header</font>"
   ]
  },
  {
   "cell_type": "code",
   "execution_count": null,
   "metadata": {},
   "outputs": [],
   "source": [
    "%load_ext autoreload\n",
    "%autoreload 2\n",
    "\n",
    "import sys\n",
    "import os\n",
    "import random\n",
    "import time\n",
    "from dataclasses import dataclass\n",
    "from enum import Enum\n",
    "\n",
    "import numpy as np\n",
    "import torch\n",
    "import torch.nn as nn\n",
    "import torch.nn.functional as fn\n",
    "from torch import optim\n",
    "from torchvision import transforms\n",
    "from torchinfo import summary\n",
    "\n",
    "%matplotlib inline\n",
    "import matplotlib\n",
    "import matplotlib.pyplot as plt\n",
    "from matplotlib.image import imread, imsave\n",
    "import h5py\n",
    "import tifffile\n",
    "import tqdm\n",
    "\n",
    "def eprint(*args, **kwargs):\n",
    "    print(*args, file=sys.stderr, **kwargs)\n",
    "\n",
    "\n",
    "def plotData(dataY, rangeY=None, dataYR=None, rangeYR=None,\n",
    "             dataX=None, rangeX=None, rangeP=None,\n",
    "             figsize=(16,8), saveTo=None, show=True):\n",
    "\n",
    "    if type(dataY) is np.ndarray :\n",
    "        plotData((dataY,), rangeY=rangeY, dataYR=dataYR, rangeYR=rangeYR,\n",
    "             dataX=dataX, rangeX=rangeX, rangeP=rangeP,\n",
    "             figsize=figsize, saveTo=saveTo, show=show)\n",
    "        return\n",
    "    if type(dataYR) is np.ndarray :\n",
    "        plotData(dataY, rangeY=rangeY, dataYR=(dataYR,), rangeYR=rangeYR,\n",
    "             dataX=dataX, rangeX=rangeX, rangeP=rangeP,\n",
    "             figsize=figsize, saveTo=saveTo, show=show)\n",
    "        return\n",
    "    if type(dataY) is not tuple :\n",
    "        eprint(f\"Unknown data type to plot: {type(dataY)}.\")\n",
    "        return\n",
    "    if type(dataYR) is not tuple and dataYR is not None:\n",
    "        eprint(f\"Unknown data type to plot: {type(dataYR)}.\")\n",
    "        return\n",
    "\n",
    "    last = min( len(data) for data in dataY )\n",
    "    if dataYR is not None:\n",
    "        last = min( last,  min( len(data) for data in dataYR ) )\n",
    "    if dataX is not None:\n",
    "        last = min(last, len(dataX))\n",
    "    if rangeP is None :\n",
    "        rangeP = (0,last)\n",
    "    elif type(rangeP) is int :\n",
    "        rangeP = (0,rangeP) if rangeP > 0 else (-rangeP,last)\n",
    "    elif type(rangeP) is tuple :\n",
    "        rangeP = ( 0    if rangeP[0] is None else rangeP[0],\n",
    "                   last if rangeP[1] is None else rangeP[1],)\n",
    "    else :\n",
    "        eprint(f\"Bad data type on plotData input rangeP: {type(rangeP)}\")\n",
    "        raise Exception(f\"Bug in the code.\")\n",
    "    rangeP = np.s_[ max(0, rangeP[0]) : min(last, rangeP[1]) ]\n",
    "    if dataX is None :\n",
    "        dataX = np.arange(rangeP.start, rangeP.stop)\n",
    "\n",
    "    plt.style.use('default')\n",
    "    plt.style.use('dark_background')\n",
    "    fig, ax1 = plt.subplots(figsize=figsize)\n",
    "    ax1.xaxis.grid(True, 'both', linestyle='dotted')\n",
    "    if rangeX is not None :\n",
    "        ax1.set_xlim(rangeX)\n",
    "    else :\n",
    "        ax1.set_xlim(rangeP.start,rangeP.stop-1)\n",
    "\n",
    "    ax1.yaxis.grid(True, 'both', linestyle='dotted')\n",
    "    nofPlots = len(dataY)\n",
    "    if rangeY is not None:\n",
    "        ax1.set_ylim(rangeY)\n",
    "    colors = [ matplotlib.colors.hsv_to_rgb((hv/nofPlots, 1, 1)) for hv in range(nofPlots) ]\n",
    "    for idx , data in enumerate(dataY):\n",
    "        ax1.plot(dataX, data[rangeP], linestyle='-',  color=colors[idx])\n",
    "\n",
    "    if dataYR is not None : # right Y axis\n",
    "        ax2 = ax1.twinx()\n",
    "        ax2.yaxis.grid(True, 'both', linestyle='dotted')\n",
    "        nofPlots = len(dataYR)\n",
    "        if rangeYR is not None:\n",
    "            ax2.set_ylim(rangeYR)\n",
    "        colors = [ matplotlib.colors.hsv_to_rgb((hv/nofPlots, 1, 1)) for hv in range(nofPlots) ]\n",
    "        for idx , data in enumerate(dataYR):\n",
    "            ax2.plot(dataX, data[rangeP], linestyle='dashed',  color=colors[idx])\n",
    "\n",
    "    if saveTo:\n",
    "        fig.savefig(saveTo)\n",
    "    if not show:\n",
    "        plt.close(fig)\n",
    "\n",
    "\n",
    "def plotImage(image) :\n",
    "    plt.imshow(image, cmap='gray')\n",
    "    plt.axis(\"off\")\n",
    "    plt.show()\n",
    "\n"
   ]
  },
  {
   "cell_type": "markdown",
   "metadata": {},
   "source": [
    "## <font style=\"color:blue\">Configs</font>"
   ]
  },
  {
   "cell_type": "code",
   "execution_count": null,
   "metadata": {},
   "outputs": [],
   "source": [
    "def set_seed(SEED_VALUE):\n",
    "    torch.manual_seed(SEED_VALUE)\n",
    "    torch.cuda.manual_seed(SEED_VALUE)\n",
    "    torch.cuda.manual_seed_all(SEED_VALUE)\n",
    "    np.random.seed(SEED_VALUE)\n",
    "\n",
    "seed = 7\n",
    "set_seed(seed)\n",
    "\n",
    "@dataclass(frozen=True)\n",
    "class TrainingConfig:\n",
    "    device: torch.device = 'cuda:0'\n",
    "    nofEpochs: int = 256\n",
    "    latentDim: int = 64\n",
    "    batchSize: int = 64\n",
    "    labelSmoothFac: float = 0.9 # For Real labels (or set to 1.0 for no smoothing).\n",
    "    learningRateD: float = 0.00002\n",
    "    learningRateG: float = 0.00002\n",
    "    #CHECKPOINT_DIR: str = os.path.join('model_checkpoint', 'dcgan_flickr_faces')\n",
    "\n",
    "class DatasetConfig:\n",
    "    gapWidth = 12\n",
    "    sinoWid = 3*gapWidth\n",
    "    sinoLen = 128  # 3*sinoWid # 4096\n",
    "    gapSize = gapWidth * sinoLen\n",
    "    sinoSize = sinoWid * sinoLen\n"
   ]
  },
  {
   "cell_type": "markdown",
   "metadata": {},
   "source": [
    "## <font style=\"color:blue\">Data</font>"
   ]
  },
  {
   "cell_type": "code",
   "execution_count": null,
   "metadata": {},
   "outputs": [],
   "source": [
    "\n",
    "class StripesFromHDF :\n",
    "\n",
    "    def __init__(self, sampleName, maskName, bgName=None, dfName=None, loadToMem=True):\n",
    "\n",
    "        sampleHDF = sampleName.split(':')\n",
    "        if len(sampleHDF) != 2 :\n",
    "            raise Exception(f\"String \\\"{sampleName}\\\" does not represent an HDF5 format.\")\n",
    "        with h5py.File(sampleHDF[0],'r') as trgH5F:\n",
    "            if  sampleHDF[1] not in trgH5F.keys():\n",
    "                raise Exception(f\"No dataset '{sampleHDF[1]}' in input file {sampleHDF[0]}.\")\n",
    "            self.data = trgH5F[sampleHDF[1]]\n",
    "            if not self.data.size :\n",
    "                raise Exception(f\"Container \\\"{sampleName}\\\" is zero size.\")\n",
    "            self.sh = self.data.shape\n",
    "            if len(self.sh) != 3 :\n",
    "                raise Exception(f\"Dimensions of the container \\\"{sampleName}\\\" is not 3 {self.sh}.\")\n",
    "            self.fsh = self.sh[1:3]\n",
    "            self.volume = None\n",
    "            if loadToMem :\n",
    "                self.volume = np.empty(self.sh, dtype=np.float32)\n",
    "                self.data.read_direct(self.volume)\n",
    "                trgH5F.close()\n",
    "\n",
    "            def loadImage(imageName) :\n",
    "                if not imageName:\n",
    "                    return None\n",
    "                imdata = imread(imageName).astype(np.float32)\n",
    "                if len(imdata.shape) == 3 :\n",
    "                    imdata = np.mean(imdata[:,:,0:3], 2)\n",
    "                #imdata = imdata.transpose()\n",
    "                if imdata.shape != self.fsh :\n",
    "                    raise Exception(f\"Dimensions of the input image \\\"{imageName}\\\" {imdata.shape} \"\n",
    "                                    f\"do not match the face of the container \\\"{sampleName}\\\" {self.fsh}.\")\n",
    "                return imdata\n",
    "\n",
    "\n",
    "            self.mask = loadImage(maskName)\n",
    "            if self.mask is None :\n",
    "                self.mask = np.ones(self.fsh, dtype=np.uint8)\n",
    "            self.mask = self.mask.astype(bool)\n",
    "            self.bg = loadImage(bgName)\n",
    "            self.df = loadImage(dfName)\n",
    "            if self.bg is not None :\n",
    "                if self.df is not None:\n",
    "                    self.bg -= self.df\n",
    "                self.mask  &=  self.bg > 0.0\n",
    "\n",
    "            self.allIndices = []\n",
    "            for yCr in range(0,self.fsh[0]) :\n",
    "                for xCr in range(0,self.fsh[1]) :\n",
    "                    idx = np.s_[yCr,xCr]\n",
    "                    if self.mask[idx] :\n",
    "                        if self.volume is not None :\n",
    "                            if self.df is not None :\n",
    "                                self.volume[:,*idx] -= self.df[idx]\n",
    "                            if self.bg is not None :\n",
    "                                self.volume[:,*idx] /= self.bg[idx]\n",
    "                        if  xCr + DatasetConfig.sinoWid < self.fsh[1] \\\n",
    "                        and np.all( self.mask[yCr,xCr+1:xCr+DatasetConfig.sinoWid] ) :\n",
    "                            self.allIndices.append(idx)\n",
    "\n",
    "    def get_dataset(self, transform=None) :\n",
    "        class Sinos(torch.utils.data.Dataset) :\n",
    "            def __init__(self, root, transform=None):\n",
    "                self.container = root\n",
    "                self.transform = transforms.Compose([transforms.ToTensor(), transform]) \\\n",
    "                    if transform else transforms.ToTensor()\n",
    "            def __len__(self):\n",
    "                return len(self.container.allIndices)\n",
    "            def __getitem__(self, index):\n",
    "                idx = self.container.allIndices[index]\n",
    "                xyrng=np.s_[ idx[0], idx[1]:idx[1]+DatasetConfig.sinoWid ]\n",
    "                if self.container.volume is not None :\n",
    "                    data = self.container.volume[:, *xyrng]\n",
    "                else :\n",
    "                    data = self.container.data[:, *xyrng]\n",
    "                    if self.container.df is not None :\n",
    "                        data -= self.container.df[None,*xyrng]\n",
    "                    if self.container.bg is not None :\n",
    "                        data /= self.container.bg[None,*xyrng]\n",
    "                theta = random.randint(0,data.shape[0]-DatasetConfig.sinoLen-1)\n",
    "                data = data[theta:theta+DatasetConfig.sinoLen,:]\n",
    "                if self.transform :\n",
    "                    data = self.transform(data)\n",
    "                return data\n",
    "        return Sinos(self, transform)\n",
    "\n",
    "sinoRoot = StripesFromHDF(\"/mnt/ssdData/4176862R_Eig_Threshold-4keV/output/SAMPLE_Y0_BG.hdf:/data\",\n",
    "                          \"/mnt/ssdData/4176862R_Eig_Threshold-4keV/output/maskc.tif\",\n",
    "                          None, None)\n",
    "\n"
   ]
  },
  {
   "cell_type": "code",
   "execution_count": null,
   "metadata": {},
   "outputs": [],
   "source": [
    "dataTransform =  transforms.Compose([\n",
    "    transforms.Resize((DatasetConfig.sinoLen, DatasetConfig.sinoWid)),\n",
    "    transforms.Normalize(mean=(0.5), std=(0.5))\n",
    "])\n",
    "\n",
    "trainSet = sinoRoot.get_dataset(dataTransform)\n",
    "\n",
    "\n",
    "\n"
   ]
  },
  {
   "cell_type": "code",
   "execution_count": null,
   "metadata": {},
   "outputs": [],
   "source": [
    "testSet = sinoRoot.get_dataset(dataTransform)\n",
    "randIdx = random.randint(0,len(testSet)-1)\n",
    "image = testSet[randIdx].squeeze()\n",
    "#image += 1\n",
    "#image /=2\n",
    "mean = image.mean().item() + 1\n",
    "stdd = image.std().item() / 2\n",
    "print(mean, stdd, stdd/mean)\n",
    "plt.imshow(image.transpose(0,1), cmap='gray')\n",
    "plt.axis(\"off\")\n",
    "tifffile.imwrite(\"tmp.tif\", image.numpy())\n"
   ]
  },
  {
   "cell_type": "markdown",
   "metadata": {},
   "source": [
    "## <font style=\"color:blue\">Save/Load model</font>"
   ]
  },
  {
   "cell_type": "code",
   "execution_count": null,
   "metadata": {},
   "outputs": [],
   "source": [
    "def save_model(model, device, model_path):\n",
    "    if not device == 'cpu':\n",
    "        model.to('cpu')\n",
    "    torch.save(model.state_dict(), model_path)\n",
    "    if not device == 'cpu':\n",
    "        model.to(device)\n",
    "    return\n",
    "\n",
    "def load_model(model, model_path):\n",
    "    model.load_state_dict(torch.load(model_path))\n",
    "    return model"
   ]
  },
  {
   "cell_type": "markdown",
   "metadata": {
    "notebookRunGroups": {
     "groupValue": "2"
    }
   },
   "source": [
    "## <font style=\"color:blue\">Models</font>"
   ]
  },
  {
   "cell_type": "code",
   "execution_count": null,
   "metadata": {},
   "outputs": [],
   "source": [
    "\n",
    "\n",
    "class Generator(nn.Module):\n",
    "\n",
    "    def __init__(self):\n",
    "        super(Generator, self).__init__()\n",
    "\n",
    "        self.latent_out = nn.Sequential(\n",
    "            nn.Linear(TrainingConfig.latentDim, DatasetConfig.gapSize),\n",
    "            nn.LeakyReLU()\n",
    "        )\n",
    "\n",
    "        self.body = nn.Sequential(\n",
    "\n",
    "            nn.Conv2d(3, 64, (5,3), stride=(2,1)),\n",
    "            nn.LeakyReLU(0.2),\n",
    "\n",
    "            nn.Conv2d(64, 512, 3, stride=(2,1)),\n",
    "            nn.LeakyReLU(0.2),\n",
    "\n",
    "            nn.Conv2d(512, 512, 3, stride=(2,1)),\n",
    "            nn.LeakyReLU(0.2),\n",
    "\n",
    "            nn.Conv2d(512, 512, 3, stride=(2,1)),\n",
    "            nn.LeakyReLU(0.2),\n",
    "\n",
    "            nn.Flatten(),\n",
    "            nn.Linear(12288, 12288),\n",
    "            nn.LeakyReLU(0.2),\n",
    "            nn.Unflatten(1, (512, 6, 4)),\n",
    "\n",
    "            nn.ConvTranspose2d(512, 512, (4,3), stride=(2,1)),\n",
    "            nn.LeakyReLU(0.2),\n",
    "\n",
    "            nn.ConvTranspose2d(512, 512, (4,3), stride=(2,1)),\n",
    "            nn.LeakyReLU(0.2),\n",
    "\n",
    "            nn.ConvTranspose2d(512, 512, (4,3), stride=(2,1)),\n",
    "            nn.LeakyReLU(0.2),\n",
    "\n",
    "            nn.ConvTranspose2d(512, 512, (4,3), stride=(2,1)),\n",
    "            nn.LeakyReLU(0.2),\n",
    "\n",
    "            nn.ConvTranspose2d(512, 512, (3,1)),\n",
    "            nn.LeakyReLU(0.2),\n",
    "\n",
    "            nn.Conv2d(512, 64, 1),\n",
    "            nn.LeakyReLU(0.2),\n",
    "\n",
    "            nn.Conv2d(64, 1, 1),\n",
    "            nn.Tanh()\n",
    "\n",
    "\n",
    "        )\n",
    "        torch.nn.init.xavier_uniform_(self.body[0].weight)\n",
    "\n",
    "\n",
    "    def forward(self, input):\n",
    "        image, noise = input\n",
    "        latent = self.latent_out(noise).view(-1, DatasetConfig.sinoLen, DatasetConfig.gapWidth)\n",
    "        imLeft = image[:,:,:,0:DatasetConfig.gapWidth]\n",
    "        imRight = image[:,:,:,2*DatasetConfig.gapWidth:3*DatasetConfig.gapWidth]\n",
    "        modelIn = torch.cat((imLeft, latent.unsqueeze(1),imRight), dim=1)\n",
    "        patch = self.body(modelIn) * 2 + 0.5\n",
    "        #plotImage(modelIn[0,0,...].detach().cpu().squeeze().transpose(0,1))\n",
    "        #plotImage(modelIn[0,1,...].detach().cpu().squeeze().transpose(0,1))\n",
    "        #plotImage(modelIn[0,2,...].detach().cpu().squeeze().transpose(0,1))\n",
    "        #plotImage(patch[0,...].detach().cpu().squeeze().transpose(0,1))\n",
    "        return patch\n",
    "\n",
    "\n",
    "\n",
    "\n",
    "#if model is not None:\n",
    "#    del model\n",
    "#    gc.collect()\n",
    "#    torch.cuda.empty_cache()\n",
    "generator = Generator()\n",
    "##model = load_model(model, \"/home/imbl/usr/src/ReMuse/experiments/e0134_model.pt\")\n",
    "#print(generator)\n",
    "#inputData = ( torch.zeros((1,1,DatasetConfig.sinoLen,DatasetConfig.sinoWid)), torch.zeros((1,TrainingConfig.latentDim)) )\n",
    "model_summary = summary(generator, input_data=[[ image.unsqueeze(0).unsqueeze(0),\n",
    "                                                 torch.randn((1,TrainingConfig.latentDim)) ]] ).__str__()\n",
    "print(model_summary)\n",
    "\n",
    "\n"
   ]
  },
  {
   "cell_type": "code",
   "execution_count": null,
   "metadata": {},
   "outputs": [],
   "source": [
    "\n",
    "class Discriminator(nn.Module):\n",
    "\n",
    "    def __init__(self):\n",
    "        super(Discriminator, self).__init__()\n",
    "\n",
    "        self.body = nn.Sequential(\n",
    "\n",
    "            nn.Conv2d(1, 64, 3, stride=(2,1)),\n",
    "            nn.LeakyReLU(0.2),\n",
    "\n",
    "            nn.Conv2d(64, 512, 3,stride=2),\n",
    "            nn.LeakyReLU(0.2),\n",
    "\n",
    "            nn.Conv2d(512, 512, 3, stride=(2,1)),\n",
    "            nn.LeakyReLU(0.2),\n",
    "\n",
    "            nn.Conv2d(512, 512, 3, stride=2),\n",
    "            nn.LeakyReLU(0.2),\n",
    "\n",
    "        )\n",
    "        torch.nn.init.xavier_uniform_(self.body[0].weight)\n",
    "\n",
    "        self.head = nn.Sequential(\n",
    "            nn.Flatten(),\n",
    "            nn.Dropout(0.4),\n",
    "            nn.Linear(21504, 1024),\n",
    "            nn.Linear(1024, 1),\n",
    "            nn.Sigmoid()\n",
    "        )\n",
    "\n",
    "\n",
    "    def forward(self, input):\n",
    "        convRes = self.body(input)\n",
    "        res = self.head(convRes)\n",
    "        return res\n",
    "\n",
    "\n",
    "discriminator = Discriminator()\n",
    "#model = load_model(model, \"/home/imbl/usr/src/ReMuse/experiments/e0134_model.pt\")\n",
    "#print(discriminator)\n",
    "model_summary = summary(discriminator, (1,1,DatasetConfig.sinoLen,DatasetConfig.sinoWid) ).__str__()\n",
    "print(model_summary)"
   ]
  },
  {
   "cell_type": "markdown",
   "metadata": {},
   "source": [
    "## <font style=\"color:blue\">Metrics</font>"
   ]
  },
  {
   "cell_type": "code",
   "execution_count": null,
   "metadata": {},
   "outputs": [],
   "source": [
    "BCE = nn.BCELoss(reduction='none')\n",
    "\n",
    "def loss_func(y_true, y_pred, weights):\n",
    "    loss = BCE(y_pred, y_true).squeeze()\n",
    "    loss *= weights\n",
    "    return loss.sum() / weights.sum()\n"
   ]
  },
  {
   "cell_type": "markdown",
   "metadata": {},
   "source": [
    "## <font style=\"color:blue\">Optimizers</font>"
   ]
  },
  {
   "cell_type": "code",
   "execution_count": null,
   "metadata": {},
   "outputs": [],
   "source": [
    "\n",
    "optimizer_G = optim.Adam(\n",
    "    generator.parameters(),\n",
    "    lr=TrainingConfig.learningRateG,\n",
    "    betas=(0.5, 0.999)\n",
    ")\n",
    "optimizer_D = optim.Adam(\n",
    "    discriminator.parameters(),\n",
    "    lr=TrainingConfig.learningRateD,\n",
    "    betas=(0.5, 0.999)\n",
    ")"
   ]
  },
  {
   "cell_type": "markdown",
   "metadata": {},
   "source": [
    "## <font style=\"color:blue\">Train step</font>"
   ]
  },
  {
   "cell_type": "code",
   "execution_count": null,
   "metadata": {},
   "outputs": [],
   "source": [
    "\n",
    "def generate_images(images) :\n",
    "    noise = torch.randn(images.shape[0], TrainingConfig.latentDim).to(TrainingConfig.device)\n",
    "    patches = generator((images, noise))\n",
    "    outImages = images.clone().detach()\n",
    "    outImages[...,DatasetConfig.gapWidth:2*DatasetConfig.gapWidth] = patches\n",
    "    return outImages\n",
    "\n",
    "#torch.autograd.set_detect_anomaly(True)\n",
    "\n",
    "def train_step(images):\n",
    "\n",
    "\n",
    "    optimizer_D.zero_grad()\n",
    "\n",
    "    images = images.to(TrainingConfig.device)\n",
    "    means = images.mean(dim=(2,3)).squeeze()\n",
    "    stdds = images.std(dim=(2,3)).squeeze()\n",
    "    hweights = stdds / (means+1)\n",
    "    weights = torch.cat( (hweights, hweights) )\n",
    "    fakeImages = generate_images(images)\n",
    "    y_pred_real = discriminator(images)\n",
    "    y_pred_fake = discriminator(fakeImages)\n",
    "    #print( torch.mean(y_pred_real).item(), torch.mean(y_pred_fake).item(), end=' ' )\n",
    "    y_pred_both = torch.cat((y_pred_real, y_pred_fake), dim=0)\n",
    "    labels = torch.cat( (\n",
    "        torch.full((y_pred_real.shape[0], 1),  TrainingConfig.labelSmoothFac),\n",
    "        torch.zeros(y_pred_fake.shape[0], 1) ),\n",
    "        dim=0\n",
    "    ).to(TrainingConfig.device)\n",
    "    D_loss = loss_func(labels, y_pred_both, weights)\n",
    "    D_loss.backward()\n",
    "    optimizer_D.step()\n",
    "\n",
    "    optimizer_G.zero_grad()\n",
    "    fakeImages = generate_images(images)\n",
    "    y_pred_fake = discriminator(fakeImages)\n",
    "    #print(torch.mean(y_pred_fake).item())\n",
    "    labels = torch.ones(y_pred_fake.shape[0], 1).to(TrainingConfig.device)\n",
    "    G_loss = loss_func(labels, y_pred_fake, hweights)\n",
    "    G_loss.backward()\n",
    "    optimizer_G.step()\n",
    "\n",
    "    return D_loss, G_loss\n",
    "\n",
    "\n",
    "\n",
    "\n",
    "G_LOSS = []\n",
    "D_LOSS = []\n",
    "\n",
    "def train(dataloader, epochs):\n",
    "\n",
    "    discriminator.to(TrainingConfig.device)\n",
    "    generator.to(TrainingConfig.device)\n",
    "\n",
    "    for epoch in range(epochs):\n",
    "\n",
    "        generator.train()\n",
    "        discriminator.train()\n",
    "        start = time.time()\n",
    "        D_loss_list, G_loss_list = [], []\n",
    "\n",
    "        for it , images in tqdm.tqdm(enumerate(dataloader), total=int(len(dataloader))):\n",
    "\n",
    "            images = images.to(TrainingConfig.device)\n",
    "            D_loss, G_loss = train_step(images)\n",
    "            D_loss_list.append(D_loss)\n",
    "            G_loss_list.append(G_loss)\n",
    "\n",
    "            if not it % 100 :\n",
    "                print(f\"Discriminator loss: {D_loss:.3f}, Generator loss: {G_loss:.3f}\")\n",
    "                image = images[0,...]\n",
    "                image.to(TrainingConfig.device)\n",
    "                fake_image = generate_images(image.unsqueeze(0)).squeeze().transpose(0,1).detach().cpu().numpy()\n",
    "                image = image.squeeze().transpose(0,1).detach().cpu().numpy()\n",
    "                twoimages = np.full((DatasetConfig.sinoWid, DatasetConfig.sinoLen*2+20), image.mean())\n",
    "                twoimages[:, 0:DatasetConfig.sinoLen] = image\n",
    "                twoimages[:, DatasetConfig.sinoLen+20:2*DatasetConfig.sinoLen+20] = fake_image.squeeze().transpose(0,1)\n",
    "                plt.imshow(twoimages, cmap='gray')\n",
    "                plt.axis(\"off\")\n",
    "                plt.show()\n",
    "                tifffile.imwrite(\"tmp.tif\", twoimages)\n",
    "                #print(randIdx, sinoRoot.allIndices[randIdx])\n",
    "\n",
    "\n",
    "\n",
    "        epoch_D_loss = sum(D_loss_list)/len(D_loss_list)\n",
    "        epoch_G_loss = sum(G_loss_list)/len(G_loss_list)\n",
    "\n",
    "        D_LOSS.append(epoch_D_loss.detach().cpu())\n",
    "        G_LOSS.append(epoch_G_loss.detach().cpu())\n",
    "\n",
    "        print('\\n')\n",
    "        print(f\"Time for epoch {epoch + 1} is {time.time()-start} sec\")\n",
    "        print(f\"Generator loss: {epoch_G_loss:.3f}, Discriminator loss: {epoch_D_loss:.3f}\")\n"
   ]
  },
  {
   "cell_type": "markdown",
   "metadata": {},
   "source": [
    "## <font style=\"color:blue\">Execute</font>"
   ]
  },
  {
   "cell_type": "code",
   "execution_count": 15,
   "metadata": {},
   "outputs": [
    {
     "name": "stderr",
     "output_type": "stream",
     "text": [
      "  0%|          | 0/22923 [00:00<?, ?it/s]"
     ]
    },
    {
     "name": "stdout",
     "output_type": "stream",
     "text": [
      "Discriminator loss: 0.368, Generator loss: 3.347\n"
     ]
    },
    {
     "data": {
      "image/png": "[encoded data removed]",
      "text/plain": [
       "<Figure size 1491.2x1118.4 with 1 Axes>"
      ]
     },
     "metadata": {},
     "output_type": "display_data"
    },
    {
     "name": "stderr",
     "output_type": "stream",
     "text": [
      "  0%|          | 100/22923 [00:55<3:36:11,  1.76it/s]"
     ]
    },
    {
     "name": "stdout",
     "output_type": "stream",
     "text": [
      "Discriminator loss: 0.448, Generator loss: 2.826\n"
     ]
    },
    {
     "data": {
      "image/png": "[encoded data removed]",
      "text/plain": [
       "<Figure size 1491.2x1118.4 with 1 Axes>"
      ]
     },
     "metadata": {},
     "output_type": "display_data"
    },
    {
     "name": "stderr",
     "output_type": "stream",
     "text": [
      "  1%|          | 200/22923 [01:52<3:37:42,  1.74it/s]"
     ]
    },
    {
     "name": "stdout",
     "output_type": "stream",
     "text": [
      "Discriminator loss: 0.446, Generator loss: 2.166\n"
     ]
    },
    {
     "data": {
      "image/png": "[encoded data removed]",
      "text/plain": [
       "<Figure size 1491.2x1118.4 with 1 Axes>"
      ]
     },
     "metadata": {},
     "output_type": "display_data"
    },
    {
     "name": "stderr",
     "output_type": "stream",
     "text": [
      "  1%|▏         | 300/22923 [02:50<3:36:43,  1.74it/s]"
     ]
    },
    {
     "name": "stdout",
     "output_type": "stream",
     "text": [
      "Discriminator loss: 0.384, Generator loss: 3.823\n"
     ]
    },
    {
     "data": {
      "image/png": "[encoded data removed]",
      "text/plain": [
       "<Figure size 1491.2x1118.4 with 1 Axes>"
      ]
     },
     "metadata": {},
     "output_type": "display_data"
    },
    {
     "name": "stderr",
     "output_type": "stream",
     "text": [
      "  1%|▏         | 310/22923 [02:56<3:34:14,  1.76it/s]\n"
     ]
    },
    {
     "ename": "KeyboardInterrupt",
     "evalue": "",
     "output_type": "error",
     "traceback": [
      "\u001b[0;31m---------------------------------------------------------------------------\u001b[0m",
      "\u001b[0;31mKeyboardInterrupt\u001b[0m                         Traceback (most recent call last)",
      "Cell \u001b[0;32mIn[15], line 8\u001b[0m\n\u001b[1;32m      1\u001b[0m trainLoader \u001b[38;5;241m=\u001b[39m torch\u001b[38;5;241m.\u001b[39mutils\u001b[38;5;241m.\u001b[39mdata\u001b[38;5;241m.\u001b[39mDataLoader(\n\u001b[1;32m      2\u001b[0m     dataset\u001b[38;5;241m=\u001b[39mtrainSet,\n\u001b[1;32m      3\u001b[0m     batch_size\u001b[38;5;241m=\u001b[39mTrainingConfig\u001b[38;5;241m.\u001b[39mbatchSize,\n\u001b[1;32m      4\u001b[0m     shuffle\u001b[38;5;241m=\u001b[39m\u001b[38;5;28;01mTrue\u001b[39;00m,\n\u001b[1;32m      5\u001b[0m     num_workers\u001b[38;5;241m=\u001b[39mos\u001b[38;5;241m.\u001b[39mcpu_count()\n\u001b[1;32m      6\u001b[0m )\n\u001b[0;32m----> 8\u001b[0m \u001b[43mtrain\u001b[49m\u001b[43m(\u001b[49m\u001b[43mtrainLoader\u001b[49m\u001b[43m,\u001b[49m\u001b[43m \u001b[49m\u001b[38;5;241;43m5\u001b[39;49m\u001b[43m)\u001b[49m\n",
      "Cell \u001b[0;32mIn[13], line 65\u001b[0m, in \u001b[0;36mtrain\u001b[0;34m(dataloader, epochs)\u001b[0m\n\u001b[1;32m     61\u001b[0m D_loss_list, G_loss_list \u001b[38;5;241m=\u001b[39m [], []\n\u001b[1;32m     63\u001b[0m \u001b[38;5;28;01mfor\u001b[39;00m it , images \u001b[38;5;129;01min\u001b[39;00m tqdm\u001b[38;5;241m.\u001b[39mtqdm(\u001b[38;5;28menumerate\u001b[39m(dataloader), total\u001b[38;5;241m=\u001b[39m\u001b[38;5;28mint\u001b[39m(\u001b[38;5;28mlen\u001b[39m(dataloader))):\n\u001b[0;32m---> 65\u001b[0m     images \u001b[38;5;241m=\u001b[39m \u001b[43mimages\u001b[49m\u001b[38;5;241;43m.\u001b[39;49m\u001b[43mto\u001b[49m\u001b[43m(\u001b[49m\u001b[43mTrainingConfig\u001b[49m\u001b[38;5;241;43m.\u001b[39;49m\u001b[43mdevice\u001b[49m\u001b[43m)\u001b[49m\n\u001b[1;32m     66\u001b[0m     D_loss, G_loss \u001b[38;5;241m=\u001b[39m train_step(images)\n\u001b[1;32m     67\u001b[0m     D_loss_list\u001b[38;5;241m.\u001b[39mappend(D_loss)\n",
      "\u001b[0;31mKeyboardInterrupt\u001b[0m: "
     ]
    }
   ],
   "source": [
    "trainLoader = torch.utils.data.DataLoader(\n",
    "    dataset=trainSet,\n",
    "    batch_size=TrainingConfig.batchSize,\n",
    "    shuffle=True,\n",
    "    num_workers=os.cpu_count()\n",
    ")\n",
    "\n",
    "train(trainLoader, 5)"
   ]
  },
  {
   "cell_type": "code",
   "execution_count": null,
   "metadata": {},
   "outputs": [],
   "source": [
    "randIdx = random.randint(0,len(testSet)-1)\n",
    "image = testSet[randIdx]\n",
    "plt.imshow(image.squeeze().transpose(0,1), cmap='gray')\n",
    "plt.axis(\"off\")\n",
    "plt.show()\n",
    "\n",
    "fake_image = generate_images(image)\n",
    "plt.imshow(fake_image.detach().squeeze().transpose(0,1), cmap='gray')\n",
    "plt.axis(\"off\")\n",
    "plt.show()\n"
   ]
  }
 ],
 "metadata": {
  "kernelspec": {
   "display_name": "Python 3",
   "language": "python",
   "name": "python3"
  },
  "language_info": {
   "codemirror_mode": {
    "name": "ipython",
    "version": 3
   },
   "file_extension": ".py",
   "mimetype": "text/x-python",
   "name": "python",
   "nbconvert_exporter": "python",
   "pygments_lexer": "ipython3",
   "version": "3.12.3"
  }
 },
 "nbformat": 4,
 "nbformat_minor": 2
}
